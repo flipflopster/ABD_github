{
 "cells": [
  {
   "cell_type": "markdown",
   "id": "969ccf3a",
   "metadata": {},
   "source": [
    "## Reading the previously analized and prepared dataset"
   ]
  },
  {
   "cell_type": "code",
   "execution_count": 1,
   "id": "a13594bf",
   "metadata": {},
   "outputs": [],
   "source": [
    "# Imports\n",
    "import pyspark\n",
    "from pyspark.sql import SparkSession\n",
    "import pyspark.sql.functions as F\n",
    "import pyspark.sql.types as T\n",
    "\n",
    "from pyspark.ml import Pipeline\n",
    "from pyspark.ml.stat import Correlation\n",
    "from pyspark.ml.feature import VectorAssembler, StringIndexer, OneHotEncoder\n",
    "from pyspark.ml.classification import LinearSVC\n",
    "from pyspark.ml.evaluation import BinaryClassificationEvaluator\n",
    "\n",
    "import plotly.express as px"
   ]
  },
  {
   "cell_type": "code",
   "execution_count": 2,
   "id": "10128e83",
   "metadata": {},
   "outputs": [],
   "source": [
    "# Build SparkSession\n",
    "spark = SparkSession.builder.appName(\"BinaryClassificationB\").getOrCreate()"
   ]
  },
  {
   "cell_type": "code",
   "execution_count": 3,
   "id": "7b0428f7",
   "metadata": {},
   "outputs": [],
   "source": [
    "# Reading data\n",
    "data_dir = '../Datasets/'\n",
    "file_crimes = data_dir + '3_crimes_cleaned'"
   ]
  },
  {
   "cell_type": "code",
   "execution_count": 4,
   "id": "cb14590c",
   "metadata": {},
   "outputs": [],
   "source": [
    "df_clean = spark.read.parquet(file_crimes)"
   ]
  },
  {
   "cell_type": "code",
   "execution_count": 5,
   "id": "846fc3b7",
   "metadata": {},
   "outputs": [
    {
     "name": "stdout",
     "output_type": "stream",
     "text": [
      "df_clean - number of rows: 7474272\n",
      "root\n",
      " |-- Year: integer (nullable = true)\n",
      " |-- Month: integer (nullable = true)\n",
      " |-- Day: integer (nullable = true)\n",
      " |-- Hour: integer (nullable = true)\n",
      " |-- Minute: integer (nullable = true)\n",
      " |-- IUCR_Num: integer (nullable = true)\n",
      " |-- IUCR: string (nullable = true)\n",
      " |-- Primary_Type_Num: integer (nullable = true)\n",
      " |-- Primary_Type: string (nullable = true)\n",
      " |-- Location_Description_Num: integer (nullable = true)\n",
      " |-- Location_Description: string (nullable = true)\n",
      " |-- Arrest: integer (nullable = true)\n",
      " |-- Domestic: integer (nullable = true)\n",
      " |-- Beat: integer (nullable = true)\n",
      " |-- District: integer (nullable = true)\n",
      " |-- Ward: integer (nullable = true)\n",
      " |-- Community_Area: integer (nullable = true)\n",
      " |-- FBI_Code: string (nullable = true)\n",
      "\n",
      "+----+-----+---+----+------+--------+----+----------------+-------------------+------------------------+--------------------+------+--------+----+--------+----+--------------+--------+\n",
      "|Year|Month|Day|Hour|Minute|IUCR_Num|IUCR|Primary_Type_Num|       Primary_Type|Location_Description_Num|Location_Description|Arrest|Domestic|Beat|District|Ward|Community_Area|FBI_Code|\n",
      "+----+-----+---+----+------+--------+----+----------------+-------------------+------------------------+--------------------+------+--------+----+--------+----+--------------+--------+\n",
      "|2003|    2| 16|  14|    38|      48|0915|               7|MOTOR VEHICLE THEFT|                       0|              STREET|     0|       0|2514|      25|  31|            19|      07|\n",
      "|2001|    1| 11|   4|    30|      77|0110|              21|           HOMICIDE|                       2|           APARTMENT|     1|       1| 333|       3|   5|            43|     01A|\n",
      "|2001|    1| 19|   1|     7|      77|0110|              21|           HOMICIDE|                       0|              STREET|     1|       0|1724|      17|  33|            16|     01A|\n",
      "|2001|    2|  5|  13|    45|      77|0110|              21|           HOMICIDE|                     141|             HALLWAY|     1|       0|2412|      24|  50|             2|     01A|\n",
      "|2001|    2|  2|   8|    27|      15|2027|               3|          NARCOTICS|                       0|              STREET|     1|       0|1523|      15|  29|            25|      18|\n",
      "|2001|    2|  3|  18|    52|      44|0930|               7|MOTOR VEHICLE THEFT|                       0|              STREET|     0|       0|1134|      11|  28|            27|      07|\n",
      "|2001|    2|  3|  21|    22|      10|1811|               3|          NARCOTICS|                       4|               OTHER|     1|       0|1121|      11|  26|            23|      18|\n",
      "|2001|    2|  2|   6|    30|       7|0910|               7|MOTOR VEHICLE THEFT|                       0|              STREET|     0|       0|2511|      25|  36|            19|      07|\n",
      "|2001|    2| 11|   8|    30|      77|0110|              21|           HOMICIDE|                      91|                AUTO|     1|       0|1531|      15|  28|            25|     01A|\n",
      "|2001|    2| 13|   7|    45|       7|0910|               7|MOTOR VEHICLE THEFT|                       0|              STREET|     0|       0| 815|       8|  23|            56|      07|\n",
      "+----+-----+---+----+------+--------+----+----------------+-------------------+------------------------+--------------------+------+--------+----+--------+----+--------------+--------+\n",
      "only showing top 10 rows\n",
      "\n"
     ]
    }
   ],
   "source": [
    "# Checking data\n",
    "print(f'df_clean - number of rows: {df_clean.count()}')\n",
    "df_clean.printSchema()\n",
    "df_clean.show(10)"
   ]
  },
  {
   "cell_type": "markdown",
   "id": "890f80f7",
   "metadata": {},
   "source": [
    "Since we already indexed the relevant categorical columns, we can skip the String Indexer phase of the pipeline we are creating."
   ]
  },
  {
   "cell_type": "markdown",
   "id": "5da5e54f",
   "metadata": {},
   "source": [
    "One hot encoder columns:\n",
    "IUCR_Num\n",
    "Primary_Type_Num\n",
    "Location_Description_Num\n",
    "Arrest\n",
    "Domestic\n",
    "Beat\n",
    "District\n",
    "Ward\n",
    "Community_Area\n",
    "FBI_Code"
   ]
  }
 ],
 "metadata": {
  "kernelspec": {
   "display_name": "vscode_pyspark",
   "language": "python",
   "name": "vscode_pyspark"
  },
  "language_info": {
   "codemirror_mode": {
    "name": "ipython",
    "version": 3
   },
   "file_extension": ".py",
   "mimetype": "text/x-python",
   "name": "python",
   "nbconvert_exporter": "python",
   "pygments_lexer": "ipython3",
   "version": "3.11.11"
  }
 },
 "nbformat": 4,
 "nbformat_minor": 5
}
