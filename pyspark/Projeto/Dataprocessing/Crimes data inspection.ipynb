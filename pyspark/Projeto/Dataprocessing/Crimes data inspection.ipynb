{
 "cells": [
  {
   "cell_type": "markdown",
   "id": "274861e5",
   "metadata": {},
   "source": [
    "### Downloading dataset"
   ]
  },
  {
   "cell_type": "code",
   "execution_count": 2,
   "id": "14bae09d",
   "metadata": {},
   "outputs": [],
   "source": [
    "#!wget -nc -O ../Datasets/3_crimes.csv https://huggingface.co/datasets/gymprathap/Chicago-Crime-Dataset/resolve/main/Crimes_-_2001_to_Present_20240713.csv\n"
   ]
  },
  {
   "cell_type": "markdown",
   "id": "2d888e73",
   "metadata": {},
   "source": [
    "### Spark setup"
   ]
  },
  {
   "cell_type": "code",
   "execution_count": 3,
   "id": "dc391e3c",
   "metadata": {},
   "outputs": [],
   "source": [
    "# Basic imports\n",
    "import pyspark\n",
    "from pyspark.sql import SparkSession\n",
    "import pyspark.sql.functions as F"
   ]
  },
  {
   "cell_type": "code",
   "execution_count": 4,
   "id": "3b60d028",
   "metadata": {},
   "outputs": [],
   "source": [
    "# Build SparkSession\n",
    "spark = SparkSession.builder \\\n",
    "    .appName(\"CrimesFix\") \\\n",
    "    .config(\"spark.driver.memory\", \"8g\") \\\n",
    "    .config(\"spark.executor.memory\", \"8g\") \\\n",
    "    .config(\"spark.sql.shuffle.partitions\", \"16\") \\\n",
    "    .getOrCreate()"
   ]
  },
  {
   "cell_type": "markdown",
   "id": "1afe0ce0",
   "metadata": {},
   "source": [
    "## Inicial data inspection"
   ]
  },
  {
   "cell_type": "markdown",
   "id": "1e5ea3c1",
   "metadata": {},
   "source": [
    "### Importing dataset"
   ]
  },
  {
   "cell_type": "code",
   "execution_count": 5,
   "id": "83ecee2b",
   "metadata": {},
   "outputs": [
    {
     "name": "stdout",
     "output_type": "stream",
     "text": [
      "ID,Case Number,Date,Block,IUCR,Primary Type,Description,Location Description,Arrest,Domestic,Beat,District,Ward,Community Area,FBI Code,X Coordinate,Y Coordinate,Year,Updated On,Latitude,Longitude,Location\n",
      "11037294,JA371270,03/18/2015 12:00:00 PM,0000X W WACKER DR,1153,DECEPTIVE PRACTICE,FINANCIAL IDENTITY THEFT OVER $ 300,BANK,false,false,0111,001,42,32,11,,,2015,08/01/2017 03:52:26 PM,,,\n",
      "11646293,JC213749,12/20/2018 03:00:00 PM,023XX N LOCKWOOD AVE,1154,DECEPTIVE PRACTICE,FINANCIAL IDENTITY THEFT $300 AND UNDER,APARTMENT,false,false,2515,025,36,19,11,,,2018,04/06/2019 04:04:43 PM,,,\n",
      "11645836,JC212333,05/01/2016 12:25:00 AM,055XX S ROCKWELL ST,1153,DECEPTIVE PRACTICE,FINANCIAL IDENTITY THEFT OVER $ 300,,false,false,0824,008,15,63,11,,,2016,04/06/2019 04:04:43 PM,,,\n",
      "11645959,JC211511,12/20/2018 04:00:00 PM,045XX N ALBANY AVE,2820,OTHER OFFENSE,TELEPHONE THREAT,RESIDENCE,false,false,1724,017,33,14,08A,,,2018,04/06/2019 04:04:43 PM,,,\n",
      "11645601,JC212935,06/01/2014 12:01:00 AM,087XX S SANGAMON ST,1153,DECEPTIVE PRACTICE,FINANCIAL IDENTITY THEFT OVER $ 300,RESIDENCE,false,false,2222,022,21,71,11,,,2014,04/06/2019 04:04:43 PM,,,\n",
      "11646166,JC213529,09/01/2018 12:01:00 AM,082XX S INGLESIDE AVE,0810,THEFT,OVER $500,RESIDENCE,false,true,0631,006,8,44,06,,,2018,04/06/2019 04:04:43 PM,,,\n",
      "11645648,JC212959,01/01/2018 08:00:00 AM,024XX N MONITOR AVE,1153,DECEPTIVE PRACTICE,FINANCIAL IDENTITY THEFT OVER $ 300,RESIDENCE,false,false,2515,025,30,19,11,,,2018,04/06/2019 04:04:43 PM,,,\n",
      "11645557,JC212685,04/01/2018 12:01:00 AM,080XX S VERNON AVE,1153,DECEPTIVE PRACTICE,FINANCIAL IDENTITY THEFT OVER $ 300,RESIDENCE,false,false,0631,006,6,44,11,,,2018,04/06/2019 04:04:43 PM,,,\n",
      "11645527,JC212744,02/02/2015 10:00:00 AM,069XX W ARCHER AVE,1153,DECEPTIVE PRACTICE,FINANCIAL IDENTITY THEFT OVER $ 300,OTHER,false,false,0811,008,23,56,11,,,2015,04/06/2019 04:04:43 PM,,,\n"
     ]
    }
   ],
   "source": [
    "# Reading data\n",
    "file_crimes = '/home/jovyan/code/Projeto/Datasets/3_crimes.csv'\n",
    "\n",
    "! head $file_crimes\n",
    "df_crimes = spark.read.csv(file_crimes, header=True, sep=',', inferSchema=True)\n"
   ]
  },
  {
   "cell_type": "markdown",
   "id": "a8597655",
   "metadata": {},
   "source": [
    "### Check top 10 rows of the inicial dataset and atributes' datatypes"
   ]
  },
  {
   "cell_type": "code",
   "execution_count": 6,
   "id": "2b5d5af0",
   "metadata": {},
   "outputs": [
    {
     "name": "stdout",
     "output_type": "stream",
     "text": [
      "+--------+-----------+--------------------+--------------------+----+------------------+--------------------+--------------------+------+--------+----+--------+----+--------------+--------+------------+------------+----+--------------------+--------+---------+--------+\n",
      "|      ID|Case Number|                Date|               Block|IUCR|      Primary Type|         Description|Location Description|Arrest|Domestic|Beat|District|Ward|Community Area|FBI Code|X Coordinate|Y Coordinate|Year|          Updated On|Latitude|Longitude|Location|\n",
      "+--------+-----------+--------------------+--------------------+----+------------------+--------------------+--------------------+------+--------+----+--------+----+--------------+--------+------------+------------+----+--------------------+--------+---------+--------+\n",
      "|11037294|   JA371270|03/18/2015 12:00:...|   0000X W WACKER DR|1153|DECEPTIVE PRACTICE|FINANCIAL IDENTIT...|                BANK| false|   false| 111|       1|  42|            32|      11|        NULL|        NULL|2015|08/01/2017 03:52:...|    NULL|     NULL|    NULL|\n",
      "|11646293|   JC213749|12/20/2018 03:00:...|023XX N LOCKWOOD AVE|1154|DECEPTIVE PRACTICE|FINANCIAL IDENTIT...|           APARTMENT| false|   false|2515|      25|  36|            19|      11|        NULL|        NULL|2018|04/06/2019 04:04:...|    NULL|     NULL|    NULL|\n",
      "|11645836|   JC212333|05/01/2016 12:25:...| 055XX S ROCKWELL ST|1153|DECEPTIVE PRACTICE|FINANCIAL IDENTIT...|                NULL| false|   false| 824|       8|  15|            63|      11|        NULL|        NULL|2016|04/06/2019 04:04:...|    NULL|     NULL|    NULL|\n",
      "|11645959|   JC211511|12/20/2018 04:00:...|  045XX N ALBANY AVE|2820|     OTHER OFFENSE|    TELEPHONE THREAT|           RESIDENCE| false|   false|1724|      17|  33|            14|     08A|        NULL|        NULL|2018|04/06/2019 04:04:...|    NULL|     NULL|    NULL|\n",
      "|11645601|   JC212935|06/01/2014 12:01:...| 087XX S SANGAMON ST|1153|DECEPTIVE PRACTICE|FINANCIAL IDENTIT...|           RESIDENCE| false|   false|2222|      22|  21|            71|      11|        NULL|        NULL|2014|04/06/2019 04:04:...|    NULL|     NULL|    NULL|\n",
      "|11646166|   JC213529|09/01/2018 12:01:...|082XX S INGLESIDE...|0810|             THEFT|           OVER $500|           RESIDENCE| false|    true| 631|       6|   8|            44|      06|        NULL|        NULL|2018|04/06/2019 04:04:...|    NULL|     NULL|    NULL|\n",
      "|11645648|   JC212959|01/01/2018 08:00:...| 024XX N MONITOR AVE|1153|DECEPTIVE PRACTICE|FINANCIAL IDENTIT...|           RESIDENCE| false|   false|2515|      25|  30|            19|      11|        NULL|        NULL|2018|04/06/2019 04:04:...|    NULL|     NULL|    NULL|\n",
      "|11645557|   JC212685|04/01/2018 12:01:...|  080XX S VERNON AVE|1153|DECEPTIVE PRACTICE|FINANCIAL IDENTIT...|           RESIDENCE| false|   false| 631|       6|   6|            44|      11|        NULL|        NULL|2018|04/06/2019 04:04:...|    NULL|     NULL|    NULL|\n",
      "|11645527|   JC212744|02/02/2015 10:00:...|  069XX W ARCHER AVE|1153|DECEPTIVE PRACTICE|FINANCIAL IDENTIT...|               OTHER| false|   false| 811|       8|  23|            56|      11|        NULL|        NULL|2015|04/06/2019 04:04:...|    NULL|     NULL|    NULL|\n",
      "|11645833|   JC213044|05/05/2012 12:25:...|     057XX W OHIO ST|1153|DECEPTIVE PRACTICE|FINANCIAL IDENTIT...|                NULL| false|   false|1511|      15|  29|            25|      11|        NULL|        NULL|2012|04/06/2019 04:04:...|    NULL|     NULL|    NULL|\n",
      "+--------+-----------+--------------------+--------------------+----+------------------+--------------------+--------------------+------+--------+----+--------+----+--------------+--------+------------+------------+----+--------------------+--------+---------+--------+\n",
      "only showing top 10 rows\n",
      "\n",
      "df_crimes - number of rows is 2364242.\n",
      "root\n",
      " |-- ID: integer (nullable = true)\n",
      " |-- Case Number: string (nullable = true)\n",
      " |-- Date: string (nullable = true)\n",
      " |-- Block: string (nullable = true)\n",
      " |-- IUCR: string (nullable = true)\n",
      " |-- Primary Type: string (nullable = true)\n",
      " |-- Description: string (nullable = true)\n",
      " |-- Location Description: string (nullable = true)\n",
      " |-- Arrest: boolean (nullable = true)\n",
      " |-- Domestic: boolean (nullable = true)\n",
      " |-- Beat: integer (nullable = true)\n",
      " |-- District: integer (nullable = true)\n",
      " |-- Ward: integer (nullable = true)\n",
      " |-- Community Area: integer (nullable = true)\n",
      " |-- FBI Code: string (nullable = true)\n",
      " |-- X Coordinate: integer (nullable = true)\n",
      " |-- Y Coordinate: integer (nullable = true)\n",
      " |-- Year: integer (nullable = true)\n",
      " |-- Updated On: string (nullable = true)\n",
      " |-- Latitude: double (nullable = true)\n",
      " |-- Longitude: double (nullable = true)\n",
      " |-- Location: string (nullable = true)\n",
      "\n"
     ]
    }
   ],
   "source": [
    "df_crimes.show(10)\n",
    "print(f'df_crimes - number of rows is {df_crimes.count()    }.')\n",
    "df_crimes.printSchema()"
   ]
  },
  {
   "cell_type": "markdown",
   "id": "66c28a80",
   "metadata": {},
   "source": [
    "### Duplicates and NULLs"
   ]
  },
  {
   "cell_type": "code",
   "execution_count": 7,
   "id": "d5368651",
   "metadata": {},
   "outputs": [
    {
     "name": "stdout",
     "output_type": "stream",
     "text": [
      "df_crimes - number of rows is 2364242; after dropDuplicates() applied would be 2364242.\n"
     ]
    }
   ],
   "source": [
    "# Now let's check the number of duplicated rows\n",
    "print(f'df_crimes - number of rows is {df_crimes.count()  }; after dropDuplicates() applied would be {df_crimes.dropDuplicates().count()   }.')"
   ]
  },
  {
   "cell_type": "code",
   "execution_count": 8,
   "id": "69eaccb5",
   "metadata": {},
   "outputs": [
    {
     "name": "stdout",
     "output_type": "stream",
     "text": [
      "df_crimes - number of rows after dropna(how='any') would be 2270795.\n"
     ]
    }
   ],
   "source": [
    "# Check for null values\n",
    "print(f'''df_crimes - number of rows after dropna(how='any') would be {df_crimes.dropna(how='any').count()     }.''')"
   ]
  },
  {
   "cell_type": "code",
   "execution_count": 9,
   "id": "b0a91c7d",
   "metadata": {},
   "outputs": [
    {
     "name": "stdout",
     "output_type": "stream",
     "text": [
      "Checking nulls at each column of df_crimes\n"
     ]
    },
    {
     "data": {
      "text/plain": [
       "{'ID': 0,\n",
       " 'Case Number': 0,\n",
       " 'Date': 0,\n",
       " 'Block': 0,\n",
       " 'IUCR': 0,\n",
       " 'Primary Type': 0,\n",
       " 'Description': 0,\n",
       " 'Location Description': 6243,\n",
       " 'Arrest': 0,\n",
       " 'Domestic': 0,\n",
       " 'Beat': 0,\n",
       " 'District': 37,\n",
       " 'Ward': 57174,\n",
       " 'Community Area': 57308,\n",
       " 'FBI Code': 0,\n",
       " 'X Coordinate': 32551,\n",
       " 'Y Coordinate': 32551,\n",
       " 'Year': 0,\n",
       " 'Updated On': 0,\n",
       " 'Latitude': 32552,\n",
       " 'Longitude': 32552,\n",
       " 'Location': 32552}"
      ]
     },
     "execution_count": 9,
     "metadata": {},
     "output_type": "execute_result"
    }
   ],
   "source": [
    "# There is half a million of nulls in the dataset, so let's check how many nulls are in each column\n",
    "print('Checking nulls at each column of df_crimes')\n",
    "dict_nulls_retail = {col: df_crimes.filter(df_crimes[col].isNull()).count() for col in df_crimes.columns}\n",
    "dict_nulls_retail"
   ]
  },
  {
   "cell_type": "code",
   "execution_count": 10,
   "id": "0d98f31e",
   "metadata": {},
   "outputs": [
    {
     "name": "stdout",
     "output_type": "stream",
     "text": [
      "root\n",
      " |-- ID: integer (nullable = true)\n",
      " |-- Case Number: string (nullable = true)\n",
      " |-- Date: string (nullable = true)\n",
      " |-- Block: string (nullable = true)\n",
      " |-- IUCR: string (nullable = true)\n",
      " |-- Primary Type: string (nullable = true)\n",
      " |-- Description: string (nullable = true)\n",
      " |-- Location Description: string (nullable = true)\n",
      " |-- Arrest: boolean (nullable = true)\n",
      " |-- Domestic: boolean (nullable = true)\n",
      " |-- Beat: integer (nullable = true)\n",
      " |-- District: integer (nullable = true)\n",
      " |-- Ward: integer (nullable = true)\n",
      " |-- Community Area: integer (nullable = true)\n",
      " |-- FBI Code: string (nullable = true)\n",
      " |-- Year: integer (nullable = true)\n",
      " |-- Updated On: string (nullable = true)\n",
      "\n"
     ]
    }
   ],
   "source": [
    "#We see that the last 5 columns about location have a lot of nulls, so let's drop them, as they are not useful for our analysis. Because otherwise nulls removing can affect filled rows.\n",
    "\n",
    "# Drop the specified columns from df_crimes\n",
    "columns_to_drop = ['X Coordinate', 'Y Coordinate', 'Latitude', 'Longitude', 'Location']\n",
    "df_crimes = df_crimes.drop(*columns_to_drop)\n",
    "\n",
    "# Verify the remaining columns\n",
    "df_crimes.printSchema()"
   ]
  },
  {
   "cell_type": "code",
   "execution_count": 11,
   "id": "89329373",
   "metadata": {},
   "outputs": [
    {
     "name": "stdout",
     "output_type": "stream",
     "text": [
      "df_crimes - number of rows before 2364242 after dropna(how='any') would be 2300379.\n"
     ]
    }
   ],
   "source": [
    "# Check for null values again\n",
    "print(f'''df_crimes - number of rows before {df_crimes.count()} after dropna(how='any') would be {df_crimes.dropna(how='any').count()     }.''')"
   ]
  },
  {
   "cell_type": "markdown",
   "id": "86f3601b",
   "metadata": {},
   "source": [
    "### Drop null values and make sure everything is clear"
   ]
  },
  {
   "cell_type": "code",
   "execution_count": 12,
   "id": "ea8f6eea",
   "metadata": {},
   "outputs": [],
   "source": [
    "df_crimes = df_crimes.dropna(how='any')"
   ]
  },
  {
   "cell_type": "code",
   "execution_count": null,
   "id": "3783a882",
   "metadata": {},
   "outputs": [
    {
     "name": "stdout",
     "output_type": "stream",
     "text": [
      "Checking nulls at each column of df_crimes\n"
     ]
    }
   ],
   "source": [
    "print('Checking nulls at each column of df_crimes')\n",
    "dict_nulls_retail = {col: df_crimes.filter(df_crimes[col].isNull()).count() for col in df_crimes.columns}\n",
    "dict_nulls_retail"
   ]
  },
  {
   "cell_type": "markdown",
   "id": "423f6ab7",
   "metadata": {},
   "source": [
    "### Unique values"
   ]
  },
  {
   "cell_type": "code",
   "execution_count": null,
   "id": "a336baa5",
   "metadata": {},
   "outputs": [
    {
     "name": "stdout",
     "output_type": "stream",
     "text": [
      "\n",
      "Uniqueness of values:\n",
      "Column ID has 7475294 unique values out of 7475294 records.\n"
     ]
    },
    {
     "name": "stdout",
     "output_type": "stream",
     "text": [
      "Column Case Number has 7474737 unique values out of 7475294 records.\n",
      "Column Date has 3103277 unique values out of 7475294 records.\n",
      "Column Block has 39071 unique values out of 7475294 records.\n",
      "Column IUCR has 404 unique values out of 7475294 records.\n",
      "Column Primary Type has 35 unique values out of 7475294 records.\n",
      "Column Description has 551 unique values out of 7475294 records.\n",
      "Column Location Description has 217 unique values out of 7475294 records.\n",
      "Column Arrest has 2 unique values out of 7475294 records.\n",
      "Column Domestic has 2 unique values out of 7475294 records.\n",
      "Column Beat has 304 unique values out of 7475294 records.\n",
      "Column District has 24 unique values out of 7475294 records.\n",
      "Column Ward has 50 unique values out of 7475294 records.\n",
      "Column Community Area has 78 unique values out of 7475294 records.\n",
      "Column FBI Code has 27 unique values out of 7475294 records.\n",
      "Column Year has 24 unique values out of 7475294 records.\n",
      "Column Updated On has 6364 unique values out of 7475294 records.\n"
     ]
    }
   ],
   "source": [
    "print('\\nUniqueness of values:')\n",
    "number_records = df_crimes.count()\n",
    "cols_interest = df_crimes.columns\n",
    "for cl in cols_interest:\n",
    "    k = df_crimes.select(cl).distinct().count()\n",
    "    print(f'Column {cl} has {k} unique values out of {number_records} records.')"
   ]
  },
  {
   "cell_type": "markdown",
   "id": "95839691",
   "metadata": {},
   "source": [
    "## Attributes review after a data inspection + necessary data transformation"
   ]
  },
  {
   "cell_type": "markdown",
   "id": "cc4a5f42",
   "metadata": {},
   "source": [
    "#### Sometimes values may contain spaces, especially when loading from CSV. This may affect the number of unique values (\"051A\" ≠ \"051A \"). We check if there are such cases."
   ]
  },
  {
   "cell_type": "code",
   "execution_count": null,
   "id": "6103f901",
   "metadata": {},
   "outputs": [
    {
     "name": "stdout",
     "output_type": "stream",
     "text": [
      "Column 'Case Number' has no extra spaces.\n",
      "Column 'Date' has no extra spaces.\n",
      "Column 'Block' has no extra spaces.\n",
      "Column 'IUCR' has no extra spaces.\n",
      "Column 'Primary Type' has no extra spaces.\n",
      "Column 'Description' has no extra spaces.\n",
      "Column 'Location Description' has no extra spaces.\n",
      "Column 'FBI Code' has no extra spaces.\n",
      "Column 'Updated On' has no extra spaces.\n"
     ]
    }
   ],
   "source": [
    "from pyspark.sql.types import StringType\n",
    "\n",
    "# Получаем все строковые колонки\n",
    "string_columns = [field.name for field in df_crimes.schema.fields if isinstance(field.dataType, StringType)]\n",
    "\n",
    "# Проверим наличие лишних пробелов\n",
    "for col_name in string_columns:\n",
    "    count_trim_diff = df_crimes.filter(F.col(col_name) != F.trim(F.col(col_name))).count()\n",
    "    if count_trim_diff > 0:\n",
    "        print(f\"Column '{col_name}' has {count_trim_diff} value(s) with leading or trailing spaces.\")\n",
    "    else:\n",
    "        print(f\"Column '{col_name}' has no extra spaces.\")"
   ]
  },
  {
   "cell_type": "markdown",
   "id": "2d7774b2",
   "metadata": {},
   "source": [
    "### After a primary review of the variables and cleaning dataset from NULLs, we can execute detailed data exploration and transformation. \n",
    "### Let's break it down by attributes:"
   ]
  },
  {
   "cell_type": "markdown",
   "id": "7a207723",
   "metadata": {},
   "source": [
    "#### ID"
   ]
  },
  {
   "cell_type": "markdown",
   "id": "b7b3f75a",
   "metadata": {},
   "source": [
    "This attribute represents the number of a row. Considering our work as a ML task, we do not need this column, therefore it can be removed."
   ]
  },
  {
   "cell_type": "code",
   "execution_count": null,
   "id": "5556e30a",
   "metadata": {},
   "outputs": [
    {
     "name": "stdout",
     "output_type": "stream",
     "text": [
      "root\n",
      " |-- Case Number: string (nullable = true)\n",
      " |-- Date: string (nullable = true)\n",
      " |-- Block: string (nullable = true)\n",
      " |-- IUCR: string (nullable = true)\n",
      " |-- Primary Type: string (nullable = true)\n",
      " |-- Description: string (nullable = true)\n",
      " |-- Location Description: string (nullable = true)\n",
      " |-- Arrest: boolean (nullable = true)\n",
      " |-- Domestic: boolean (nullable = true)\n",
      " |-- Beat: integer (nullable = true)\n",
      " |-- District: integer (nullable = true)\n",
      " |-- Ward: integer (nullable = true)\n",
      " |-- Community Area: integer (nullable = true)\n",
      " |-- FBI Code: string (nullable = true)\n",
      " |-- Year: integer (nullable = true)\n",
      " |-- Updated On: string (nullable = true)\n",
      "\n"
     ]
    }
   ],
   "source": [
    "df_crimes = df_crimes.drop(\"ID\")\n",
    "df_crimes.printSchema()"
   ]
  },
  {
   "cell_type": "markdown",
   "id": "b0df3062",
   "metadata": {},
   "source": [
    "#### Case Number"
   ]
  },
  {
   "cell_type": "markdown",
   "id": "936585d6",
   "metadata": {},
   "source": [
    "This attribute represents the official case number assigned by the police. As we can see, amount of case numbers is lower than the amount of rows, this can happen if:\n",
    "- the same case involves more than one offense;\n",
    "- there are multiple locations or suspects;\n",
    "- there are different actions recorded for the same incident... \n",
    "\n",
    "Although number of them is small, we have to remove all of this cases because we can not review each of them and conclude the reason of duplicated case number.\n",
    "\n",
    "**Therefore, we remove all cases where multiple rows belong to the same Case Number.**\n",
    "**After that we remove this column, because it is irrelevant for the model.**"
   ]
  },
  {
   "cell_type": "code",
   "execution_count": null,
   "id": "e8b86dca",
   "metadata": {},
   "outputs": [
    {
     "name": "stdout",
     "output_type": "stream",
     "text": [
      "Column Case Number has 7474272 unique values out of 7475294 records.\n"
     ]
    }
   ],
   "source": [
    "# First find Case Numbers that occur exactly once\n",
    "case_counts = (\n",
    "    df_crimes\n",
    "    .groupBy(\"Case Number\")\n",
    "    .agg(F.count(\"*\").alias(\"cnt\"))\n",
    "    .filter(\"cnt = 1\")\n",
    "    .select(\"Case Number\")\n",
    ")\n",
    "\n",
    "# Now leave only those strings that refer to unique Case Number\n",
    "df_crimes = df_crimes.join(case_counts, on=\"Case Number\", how=\"inner\")\n",
    "\n",
    "k = df_crimes.select('Case Number').distinct().count()\n",
    "print(f'Column Case Number has {k} unique values out of {number_records} records.')"
   ]
  },
  {
   "cell_type": "code",
   "execution_count": null,
   "id": "eca444f5",
   "metadata": {},
   "outputs": [],
   "source": [
    "df_crimes = df_crimes.drop('Case Number')"
   ]
  },
  {
   "cell_type": "markdown",
   "id": "8e0296cf",
   "metadata": {},
   "source": [
    "#### Date"
   ]
  },
  {
   "cell_type": "markdown",
   "id": "88ae57e2",
   "metadata": {},
   "source": [
    "This attribute reflects the date and time of the offense in timestamp format. \\\n",
    "This information is very important. However, in order to analyze it, it is necessary to manipulate the data into an acceptable form. \\\n",
    "Let's break the data into pieces of Month, Day, Hour, Minute. Since we have Year column already in the initial dataset, we will move it upfront, so date columns will be placed together. \\\n",
    "After extracting parts of the Date, we can remove this column."
   ]
  },
  {
   "cell_type": "code",
   "execution_count": null,
   "id": "deca9ea0",
   "metadata": {},
   "outputs": [],
   "source": [
    "# Convert the Date column to timestamp and extract components\n",
    "df_crimes = df_crimes.withColumn('Timestamp', F.to_timestamp(df_crimes['Date'], 'MM/dd/yyyy hh:mm:ss a'))\n",
    "df_crimes = df_crimes.withColumn('Hour', F.hour(df_crimes['Timestamp']))\n",
    "df_crimes = df_crimes.withColumn('Minute', F.minute(df_crimes['Timestamp']))\n",
    "df_crimes = df_crimes.withColumn('Day', F.dayofmonth(df_crimes['Timestamp']))\n",
    "df_crimes = df_crimes.withColumn('Month', F.month(df_crimes['Timestamp']))\n",
    "df_crimes = df_crimes.drop('Timestamp')\n",
    "\n",
    "#Make correct column order and removing date\n",
    "desired_order = [\n",
    "    \"Year\", \"Month\", \"Day\", \"Hour\", \"Minute\"\n",
    "]\n",
    "remaining_columns = [col for col in df_crimes.columns if col not in desired_order + [\"Date\"]]\n",
    "new_column_order = desired_order + remaining_columns\n",
    "df_crimes = df_crimes.select(*new_column_order)"
   ]
  },
  {
   "cell_type": "markdown",
   "id": "02b8123d",
   "metadata": {},
   "source": [
    "#### Block"
   ]
  },
  {
   "cell_type": "markdown",
   "id": "9909aa70",
   "metadata": {},
   "source": [
    "The street where the crime occurred, but not the full address - most often rounded up to the nearest block (for example: 010XX W 59TH ST). \\ \n",
    "It was concidered unnecessary to extract something from this attribute and use it, due to its preciseness. For the geographical contextualization, we have other column to consider."
   ]
  },
  {
   "cell_type": "code",
   "execution_count": null,
   "id": "a2ca5cde",
   "metadata": {},
   "outputs": [],
   "source": [
    "df_crimes = df_crimes.drop('Block')"
   ]
  },
  {
   "cell_type": "markdown",
   "id": "a1bc6278",
   "metadata": {},
   "source": [
    "#### IUCR"
   ]
  },
  {
   "cell_type": "markdown",
   "id": "905f94c1",
   "metadata": {},
   "source": [
    "The code assigned to the type of offense under the Illinois UCR system."
   ]
  },
  {
   "cell_type": "markdown",
   "id": "49fb9f6a",
   "metadata": {},
   "source": [
    "**Check whether the IUCR variable contains only digits.** This will help us to understand whether we can consider it as a numeric variable or leave it as a string. When previewing the values, we noticed the presence of letter suffixes (e.g., 051A, 142B), which makes the variable categorical."
   ]
  },
  {
   "cell_type": "code",
   "execution_count": null,
   "id": "c3cd5faf",
   "metadata": {},
   "outputs": [
    {
     "name": "stdout",
     "output_type": "stream",
     "text": [
      "root\n",
      " |-- Year: integer (nullable = true)\n",
      " |-- Month: integer (nullable = true)\n",
      " |-- Day: integer (nullable = true)\n",
      " |-- Hour: integer (nullable = true)\n",
      " |-- Minute: integer (nullable = true)\n",
      " |-- IUCR: string (nullable = true)\n",
      " |-- Primary Type: string (nullable = true)\n",
      " |-- Description: string (nullable = true)\n",
      " |-- Location Description: string (nullable = true)\n",
      " |-- Arrest: boolean (nullable = true)\n",
      " |-- Domestic: boolean (nullable = true)\n",
      " |-- Beat: integer (nullable = true)\n",
      " |-- District: integer (nullable = true)\n",
      " |-- Ward: integer (nullable = true)\n",
      " |-- Community Area: integer (nullable = true)\n",
      " |-- FBI Code: string (nullable = true)\n",
      " |-- Updated On: string (nullable = true)\n",
      "\n"
     ]
    }
   ],
   "source": [
    "df_crimes.printSchema()"
   ]
  },
  {
   "cell_type": "code",
   "execution_count": null,
   "id": "b7a49e8d",
   "metadata": {},
   "outputs": [
    {
     "name": "stdout",
     "output_type": "stream",
     "text": [
      "+----+\n",
      "|IUCR|\n",
      "+----+\n",
      "|031A|\n",
      "|051B|\n",
      "|031B|\n",
      "|502R|\n",
      "|033A|\n",
      "+----+\n",
      "only showing top 5 rows\n",
      "\n",
      "Non-digit IUCR values: 358014\n"
     ]
    }
   ],
   "source": [
    "# Проверка значений, не состоящих только из цифр\n",
    "non_digit_rows = df_crimes.filter(~F.col(\"IUCR\").rlike(\"^[0-9]+$\"))\n",
    "non_digit_rows.select(\"IUCR\").distinct().show(5, truncate=False)\n",
    "\n",
    "# Подсчёт количества таких строк\n",
    "print(\"Non-digit IUCR values:\", non_digit_rows.count())"
   ]
  },
  {
   "cell_type": "markdown",
   "id": "6fe28856",
   "metadata": {},
   "source": [
    "IUCR is a code from the Illinois Uniform Crime Reporting system that may contain letters and is not a numeric characteristic. It cannot be used as a number because 051A, 051B, and 051C are different types of offenses.\\\n",
    "**Leave IUCR as a string and prepare it for indexing.**"
   ]
  },
  {
   "cell_type": "markdown",
   "id": "82ff6fbf",
   "metadata": {},
   "source": [
    "For use in machine learning models, categorical values need to be converted to numeric values. We use StringIndexer, which creates a new column with indexes."
   ]
  },
  {
   "cell_type": "code",
   "execution_count": null,
   "id": "4d5ba921",
   "metadata": {},
   "outputs": [],
   "source": [
    "from pyspark.ml.feature import StringIndexer\n",
    "\n",
    "# IUCR indexing (categorical → numeric)\n",
    "indexer = StringIndexer(inputCol=\"IUCR\", outputCol=\"IUCR Num\")\n",
    "df_crimes = indexer.fit(df_crimes).transform(df_crimes)\n",
    "df_crimes = df_crimes.withColumn(\"IUCR Num\", F.col(\"IUCR Num\").cast(\"int\"))"
   ]
  },
  {
   "cell_type": "code",
   "execution_count": null,
   "id": "5e950163",
   "metadata": {},
   "outputs": [],
   "source": [
    "#Change columns order\n",
    "desired_order = [\n",
    "    \"Year\", \"Month\", \"Day\", \"Hour\", \"Minute\", \"IUCR Num\", 'IUCR'\n",
    "]\n",
    "remaining_columns = [col for col in df_crimes.columns if col not in desired_order]\n",
    "new_column_order = desired_order + remaining_columns\n",
    "df_crimes = df_crimes.select(*new_column_order)"
   ]
  },
  {
   "cell_type": "markdown",
   "id": "311b0833",
   "metadata": {},
   "source": [
    "#### Primary Type"
   ]
  },
  {
   "cell_type": "markdown",
   "id": "0a82afe2",
   "metadata": {},
   "source": [
    "The primary type of crime. We have 35 types in our dataset. \\\n",
    "Have to check the unique values of a column, for contextual understanding of the dataset. \\\n",
    "Then create a numeric interpretation of this categorical attribute."
   ]
  },
  {
   "cell_type": "code",
   "execution_count": null,
   "id": "f6c6d3f1",
   "metadata": {},
   "outputs": [
    {
     "name": "stdout",
     "output_type": "stream",
     "text": [
      "+---------------------------------+\n",
      "|Primary Type                     |\n",
      "+---------------------------------+\n",
      "|OFFENSE INVOLVING CHILDREN       |\n",
      "|HUMAN TRAFFICKING                |\n",
      "|CRIMINAL DAMAGE                  |\n",
      "|PUBLIC PEACE VIOLATION           |\n",
      "|NON-CRIMINAL (SUBJECT SPECIFIED) |\n",
      "|ROBBERY                          |\n",
      "|KIDNAPPING                       |\n",
      "|STALKING                         |\n",
      "|INTIMIDATION                     |\n",
      "|CONCEALED CARRY LICENSE VIOLATION|\n",
      "|HOMICIDE                         |\n",
      "|MOTOR VEHICLE THEFT              |\n",
      "|CRIM SEXUAL ASSAULT              |\n",
      "|LIQUOR LAW VIOLATION             |\n",
      "|THEFT                            |\n",
      "|ASSAULT                          |\n",
      "|PROSTITUTION                     |\n",
      "|WEAPONS VIOLATION                |\n",
      "|INTERFERENCE WITH PUBLIC OFFICER |\n",
      "|GAMBLING                         |\n",
      "|NON - CRIMINAL                   |\n",
      "|BATTERY                          |\n",
      "|OBSCENITY                        |\n",
      "|PUBLIC INDECENCY                 |\n",
      "|DECEPTIVE PRACTICE               |\n",
      "|ARSON                            |\n",
      "|NARCOTICS                        |\n",
      "|BURGLARY                         |\n",
      "|SEX OFFENSE                      |\n",
      "|CRIMINAL SEXUAL ASSAULT          |\n",
      "|RITUALISM                        |\n",
      "|NON-CRIMINAL                     |\n",
      "|CRIMINAL TRESPASS                |\n",
      "|OTHER NARCOTIC VIOLATION         |\n",
      "|OTHER OFFENSE                    |\n",
      "+---------------------------------+\n",
      "\n"
     ]
    }
   ],
   "source": [
    "# Display all types of crimes (35)\n",
    "df_crimes.select(\"Primary Type\").distinct().show(35, truncate=False)"
   ]
  },
  {
   "cell_type": "code",
   "execution_count": null,
   "id": "3ada9b11",
   "metadata": {},
   "outputs": [],
   "source": [
    "# Create an indexer\n",
    "indexer = StringIndexer(inputCol=\"Primary Type\", outputCol=\"Primary Type Num\")\n",
    "# Train the indexer and transform the data\n",
    "df_crimes = indexer.fit(df_crimes).transform(df_crimes)\n",
    "df_crimes = df_crimes.withColumn(\"Primary Type Num\", F.col(\"Primary Type Num\").cast(\"int\"))"
   ]
  },
  {
   "cell_type": "code",
   "execution_count": null,
   "id": "aa4e7c94",
   "metadata": {},
   "outputs": [
    {
     "name": "stdout",
     "output_type": "stream",
     "text": [
      "root\n",
      " |-- Year: integer (nullable = true)\n",
      " |-- Month: integer (nullable = true)\n",
      " |-- Day: integer (nullable = true)\n",
      " |-- Hour: integer (nullable = true)\n",
      " |-- Minute: integer (nullable = true)\n",
      " |-- IUCR Num: integer (nullable = true)\n",
      " |-- IUCR: string (nullable = true)\n",
      " |-- Primary Type Num: integer (nullable = true)\n",
      " |-- Primary Type: string (nullable = true)\n",
      " |-- Description: string (nullable = true)\n",
      " |-- Location Description: string (nullable = true)\n",
      " |-- Arrest: boolean (nullable = true)\n",
      " |-- Domestic: boolean (nullable = true)\n",
      " |-- Beat: integer (nullable = true)\n",
      " |-- District: integer (nullable = true)\n",
      " |-- Ward: integer (nullable = true)\n",
      " |-- Community Area: integer (nullable = true)\n",
      " |-- FBI Code: string (nullable = true)\n",
      " |-- Updated On: string (nullable = true)\n",
      "\n"
     ]
    }
   ],
   "source": [
    "#Make correct column order\n",
    "desired_order = [\n",
    "    'Year', 'Month', 'Day', 'Hour', 'Minute', 'IUCR Num', 'IUCR', 'Primary Type Num', 'Primary Type'\n",
    "]\n",
    "remaining_columns = [col for col in df_crimes.columns if col not in desired_order]\n",
    "new_column_order = desired_order + remaining_columns\n",
    "df_crimes = df_crimes.select(*new_column_order)\n",
    "df_crimes.printSchema()"
   ]
  },
  {
   "cell_type": "markdown",
   "id": "487644a1",
   "metadata": {},
   "source": [
    "#### Description"
   ]
  },
  {
   "cell_type": "markdown",
   "id": "91e0d215",
   "metadata": {},
   "source": [
    "To understand the data contained in this column, let's first of all check some of unique values"
   ]
  },
  {
   "cell_type": "code",
   "execution_count": null,
   "id": "e0d518cd",
   "metadata": {},
   "outputs": [
    {
     "name": "stdout",
     "output_type": "stream",
     "text": [
      "+------------------------------+\n",
      "|Description                   |\n",
      "+------------------------------+\n",
      "|DOMESTIC BATTERY SIMPLE       |\n",
      "|UNLAWFUL POSS OF HANDGUN      |\n",
      "|ATT CRIM SEXUAL ABUSE         |\n",
      "|TO RESIDENCE                  |\n",
      "|ATTEMPT ARSON                 |\n",
      "|CRIMINAL TRANSMISSION OF HIV  |\n",
      "|PRO EMP HANDS NO/MIN INJURY   |\n",
      "|UNLAWFUL USE/SALE AIR RIFLE   |\n",
      "|MANU/DELIVER:AMPHETAMINES     |\n",
      "|BOMB THREAT                   |\n",
      "|ENDANGERING LIFE/HEALTH CHILD |\n",
      "|ATTEMPT: ARMED-OTHER DANG WEAP|\n",
      "|BY EXPLOSIVE                  |\n",
      "|ATT: TRUCK, BUS, MOTOR HOME   |\n",
      "|ATT AGG CRIMINAL SEXUAL ABUSE |\n",
      "|FALSE FIRE ALARM              |\n",
      "|OBSTRUCTING SERVICE           |\n",
      "|AGG PRO.EMP: OTHER DANG WEAPON|\n",
      "|AGGRAVATED OF A CHILD         |\n",
      "|UNLAWFUL USE OF A COMPUTER    |\n",
      "+------------------------------+\n",
      "only showing top 20 rows\n",
      "\n"
     ]
    }
   ],
   "source": [
    "df_crimes.select('Description').distinct().show(truncate=False)"
   ]
  },
  {
   "cell_type": "markdown",
   "id": "8db7ef0b",
   "metadata": {},
   "source": [
    "It was decided to exclude the Description column. \\\n",
    "This attribute contains about 551 unique values and represents a refinement to the more generalized attribute Primary Type. \\\n",
    "For this work, it was decided to focus on generalized crime categories. \\"
   ]
  },
  {
   "cell_type": "code",
   "execution_count": null,
   "id": "30f6006d",
   "metadata": {},
   "outputs": [],
   "source": [
    "df_crimes = df_crimes.drop(\"Description\")"
   ]
  },
  {
   "cell_type": "markdown",
   "id": "e584eda2",
   "metadata": {},
   "source": [
    "#### Location Description"
   ]
  },
  {
   "cell_type": "markdown",
   "id": "c1163516",
   "metadata": {},
   "source": [
    "Where exactly did the crime take place. To clearly understand the attribute, let's check some of unique values"
   ]
  },
  {
   "cell_type": "code",
   "execution_count": null,
   "id": "f77f603b",
   "metadata": {},
   "outputs": [
    {
     "name": "stdout",
     "output_type": "stream",
     "text": [
      "+-----------------------------------------+\n",
      "|Location Description                     |\n",
      "+-----------------------------------------+\n",
      "|CHA HALLWAY                              |\n",
      "|GAS STATION                              |\n",
      "|CURRENCY EXCHANGE                        |\n",
      "|CTA PLATFORM                             |\n",
      "|SPORTS ARENA/STADIUM                     |\n",
      "|CHURCH / SYNAGOGUE / PLACE OF WORSHIP    |\n",
      "|TAVERN                                   |\n",
      "|AIRPORT PARKING LOT                      |\n",
      "|FARM                                     |\n",
      "|VEHICLE - COMMERCIAL: TROLLEY BUS        |\n",
      "|RESIDENCE                                |\n",
      "|HOUSE                                    |\n",
      "|VEHICLE NON-COMMERCIAL                   |\n",
      "|APPLIANCE STORE                          |\n",
      "|HOSPITAL                                 |\n",
      "|SCHOOL - PRIVATE GROUNDS                 |\n",
      "|OTHER RAILROAD PROPERTY / TRAIN DEPOT    |\n",
      "|CTA PARKING LOT / GARAGE / OTHER PROPERTY|\n",
      "|COLLEGE / UNIVERSITY - RESIDENCE HALL    |\n",
      "|PARKING LOT/GARAGE(NON.RESID.)           |\n",
      "+-----------------------------------------+\n",
      "only showing top 20 rows\n",
      "\n"
     ]
    }
   ],
   "source": [
    "df_crimes.select('Location Description').distinct().show(truncate=False)"
   ]
  },
  {
   "cell_type": "code",
   "execution_count": null,
   "id": "3cc9768f",
   "metadata": {},
   "outputs": [
    {
     "name": "stdout",
     "output_type": "stream",
     "text": [
      "+--------------------+------------------------+\n",
      "|Location Description|Location Description Num|\n",
      "+--------------------+------------------------+\n",
      "|SIDEWALK            |3                       |\n",
      "|APARTMENT           |2                       |\n",
      "|APARTMENT           |2                       |\n",
      "|CHA STAIRWELL       |172                     |\n",
      "|STREET              |0                       |\n",
      "|OTHER               |4                       |\n",
      "|STREET              |0                       |\n",
      "|STREET              |0                       |\n",
      "|STREET              |0                       |\n",
      "|RESIDENCE           |1                       |\n",
      "+--------------------+------------------------+\n",
      "only showing top 10 rows\n",
      "\n"
     ]
    }
   ],
   "source": [
    "indexer = StringIndexer(\n",
    "    inputCol=\"Location Description\", \n",
    "    outputCol=\"Location Description Num\"\n",
    ")\n",
    "df_crimes = indexer.fit(df_crimes).transform(df_crimes)\n",
    "df_crimes = df_crimes.withColumn(\"Location Description Num\", F.col(\"Location Description Num\").cast(\"int\"))\n",
    "df_crimes.select(\"Location Description\", \"Location Description Num\").show(10, truncate=False)"
   ]
  },
  {
   "cell_type": "code",
   "execution_count": null,
   "id": "65b07315",
   "metadata": {},
   "outputs": [
    {
     "name": "stdout",
     "output_type": "stream",
     "text": [
      "root\n",
      " |-- Year: integer (nullable = true)\n",
      " |-- Month: integer (nullable = true)\n",
      " |-- Day: integer (nullable = true)\n",
      " |-- Hour: integer (nullable = true)\n",
      " |-- Minute: integer (nullable = true)\n",
      " |-- IUCR Num: integer (nullable = true)\n",
      " |-- IUCR: string (nullable = true)\n",
      " |-- Primary Type Num: integer (nullable = true)\n",
      " |-- Primary Type: string (nullable = true)\n",
      " |-- Location Description Num: integer (nullable = true)\n",
      " |-- Location Description: string (nullable = true)\n",
      " |-- Arrest: boolean (nullable = true)\n",
      " |-- Domestic: boolean (nullable = true)\n",
      " |-- Beat: integer (nullable = true)\n",
      " |-- District: integer (nullable = true)\n",
      " |-- Ward: integer (nullable = true)\n",
      " |-- Community Area: integer (nullable = true)\n",
      " |-- FBI Code: string (nullable = true)\n",
      " |-- Updated On: string (nullable = true)\n",
      "\n"
     ]
    }
   ],
   "source": [
    "#Make correct column order\n",
    "desired_order = [\n",
    "    'Year', 'Month', 'Day', 'Hour', 'Minute', 'IUCR Num', 'IUCR', 'Primary Type Num', 'Primary Type', 'Location Description Num', 'Location Description'\n",
    "]\n",
    "remaining_columns = [col for col in df_crimes.columns if col not in desired_order]\n",
    "new_column_order = desired_order + remaining_columns\n",
    "df_crimes = df_crimes.select(*new_column_order)\n",
    "df_crimes.printSchema()"
   ]
  },
  {
   "cell_type": "markdown",
   "id": "748849c5",
   "metadata": {},
   "source": [
    "#### Arrest"
   ]
  },
  {
   "cell_type": "markdown",
   "id": "e8bb98c3",
   "metadata": {},
   "source": [
    "Boolean column (true/false), indicates whether an arrest was made in this case. \\\n",
    "We need to transform it into a binary column (1/0)"
   ]
  },
  {
   "cell_type": "code",
   "execution_count": null,
   "id": "258fe0c9",
   "metadata": {},
   "outputs": [],
   "source": [
    "# Convert the Boolean column to a binary numeric column (0/1)\n",
    "df_crimes = df_crimes.withColumn(\"Arrest\", F.col(\"Arrest\").cast(\"int\"))"
   ]
  },
  {
   "cell_type": "markdown",
   "id": "3b8a18f4",
   "metadata": {},
   "source": [
    "#### Domestic"
   ]
  },
  {
   "cell_type": "markdown",
   "id": "6f3e1375",
   "metadata": {},
   "source": [
    "Boolean column (true/false), indicates whether the crime is related to domestic violence. \\\n",
    "We need to transform it into a binary column (1/0)"
   ]
  },
  {
   "cell_type": "code",
   "execution_count": null,
   "id": "e07bcc89",
   "metadata": {},
   "outputs": [],
   "source": [
    "# Convert the Boolean column to a binary numeric column (0/1)\n",
    "df_crimes = df_crimes.withColumn(\"Domestic\", F.col(\"Domestic\").cast(\"int\"))"
   ]
  },
  {
   "cell_type": "markdown",
   "id": "99f5be75",
   "metadata": {},
   "source": [
    "#### Beat"
   ]
  },
  {
   "cell_type": "markdown",
   "id": "a03bef52",
   "metadata": {},
   "source": [
    "The smallest unit of a geographic division of the police force.\\\n",
    "Each Beat is part of a specific police district.\\\n",
    "Useful for operational analytics.\\\n",
    "It was decided not to make any manipulations and not to delete the column, as it may play an important role in the model, due to the fact that the operation of different units leads to different outcomes and there may be a pattern in it."
   ]
  },
  {
   "cell_type": "markdown",
   "id": "9dd60daf",
   "metadata": {},
   "source": [
    "#### District, Ward, Community Area"
   ]
  },
  {
   "cell_type": "markdown",
   "id": "1e25ad92",
   "metadata": {},
   "source": [
    "These two geographical features indicate the following context:\\\n",
    "- **District:** Police District. A wider area that includes several Beats.\n",
    "- **Ward:** A political-administrative district of Chicago. Used for municipal government.\n",
    "- **Community Area:** A geographic unit of a city used for city planning.\n",
    "\n",
    "All of the columns remain without any changes."
   ]
  },
  {
   "cell_type": "markdown",
   "id": "b0e0acba",
   "metadata": {},
   "source": [
    "#### FBI Code"
   ]
  },
  {
   "cell_type": "markdown",
   "id": "0ad0fc65",
   "metadata": {},
   "source": [
    "The FBI's categorization of the offense. Provides a standard for comparison with other regions and for aggregating data at the national level.\\\n",
    "Column is indexed beacause the codes are strings."
   ]
  },
  {
   "cell_type": "code",
   "execution_count": null,
   "id": "99545ff8",
   "metadata": {},
   "outputs": [],
   "source": [
    "# FBI_Code indexing (categorical → numeric)\n",
    "indexer = StringIndexer(inputCol=\"FBI Code\", outputCol=\"FBI Code Num\")\n",
    "df_crimes = indexer.fit(df_crimes).transform(df_crimes)\n",
    "df_crimes = df_crimes.withColumn(\"FBI Code Num\", F.col(\"FBI Code Num\").cast(\"int\"))"
   ]
  },
  {
   "cell_type": "markdown",
   "id": "7c2c3f71",
   "metadata": {},
   "source": [
    "#### Updated On"
   ]
  },
  {
   "cell_type": "markdown",
   "id": "c1a6983f",
   "metadata": {},
   "source": [
    "The date on which the record was updated in the database.\\\n",
    "Column is irrelevant for this work therefore is removed."
   ]
  },
  {
   "cell_type": "code",
   "execution_count": null,
   "id": "f6e66a34",
   "metadata": {},
   "outputs": [],
   "source": [
    "df_crimes = df_crimes.drop('Updated On')"
   ]
  },
  {
   "cell_type": "markdown",
   "id": "40693115",
   "metadata": {},
   "source": [
    "#### Transform column names"
   ]
  },
  {
   "cell_type": "code",
   "execution_count": null,
   "id": "6b866977",
   "metadata": {},
   "outputs": [
    {
     "name": "stdout",
     "output_type": "stream",
     "text": [
      "root\n",
      " |-- Year: integer (nullable = true)\n",
      " |-- Month: integer (nullable = true)\n",
      " |-- Day: integer (nullable = true)\n",
      " |-- Hour: integer (nullable = true)\n",
      " |-- Minute: integer (nullable = true)\n",
      " |-- IUCR_Num: integer (nullable = true)\n",
      " |-- IUCR: string (nullable = true)\n",
      " |-- Primary_Type_Num: integer (nullable = true)\n",
      " |-- Primary_Type: string (nullable = true)\n",
      " |-- Location_Description_Num: integer (nullable = true)\n",
      " |-- Location_Description: string (nullable = true)\n",
      " |-- Arrest: integer (nullable = true)\n",
      " |-- Domestic: integer (nullable = true)\n",
      " |-- Beat: integer (nullable = true)\n",
      " |-- District: integer (nullable = true)\n",
      " |-- Ward: integer (nullable = true)\n",
      " |-- Community_Area: integer (nullable = true)\n",
      " |-- FBI_Code: string (nullable = true)\n",
      " |-- FBI_Code_Num: integer (nullable = true)\n",
      "\n"
     ]
    }
   ],
   "source": [
    "# In order not to have errors with the column names, let's rename them by replacing spaces with underscores\n",
    "df_crimes = df_crimes.select([F.col(column).alias(column.replace(\" \", \"_\")) for column in df_crimes.columns])\n",
    "df_crimes.printSchema()"
   ]
  },
  {
   "cell_type": "markdown",
   "id": "ef95da98",
   "metadata": {},
   "source": [
    "### Quick data check after transformations"
   ]
  },
  {
   "cell_type": "markdown",
   "id": "6fa4491e",
   "metadata": {},
   "source": [
    "#### Unique values and columns list"
   ]
  },
  {
   "cell_type": "code",
   "execution_count": null,
   "id": "8cf3bebd",
   "metadata": {},
   "outputs": [
    {
     "name": "stdout",
     "output_type": "stream",
     "text": [
      "\n",
      "Uniqueness of values:\n",
      "Column Year has 24 unique values out of 7474272 records.\n",
      "Column Month has 12 unique values out of 7474272 records.\n",
      "Column Day has 31 unique values out of 7474272 records.\n",
      "Column Hour has 24 unique values out of 7474272 records.\n",
      "Column Minute has 60 unique values out of 7474272 records.\n",
      "Column IUCR_Num has 404 unique values out of 7474272 records.\n",
      "Column IUCR has 404 unique values out of 7474272 records.\n",
      "Column Primary_Type_Num has 35 unique values out of 7474272 records.\n",
      "Column Primary_Type has 35 unique values out of 7474272 records.\n",
      "Column Location_Description_Num has 216 unique values out of 7474272 records.\n",
      "Column Location_Description has 216 unique values out of 7474272 records.\n",
      "Column Arrest has 2 unique values out of 7474272 records.\n",
      "Column Domestic has 2 unique values out of 7474272 records.\n",
      "Column Beat has 304 unique values out of 7474272 records.\n",
      "Column District has 24 unique values out of 7474272 records.\n",
      "Column Ward has 50 unique values out of 7474272 records.\n",
      "Column Community_Area has 78 unique values out of 7474272 records.\n",
      "Column FBI_Code has 27 unique values out of 7474272 records.\n",
      "Column FBI_Code_Num has 27 unique values out of 7474272 records.\n"
     ]
    }
   ],
   "source": [
    "print('\\nUniqueness of values:')\n",
    "number_records = df_crimes.count()\n",
    "cols_interest = df_crimes.columns\n",
    "for cl in cols_interest:\n",
    "    k = df_crimes.select(cl).distinct().count()\n",
    "    print(f'Column {cl} has {k} unique values out of {number_records} records.')"
   ]
  },
  {
   "cell_type": "code",
   "execution_count": null,
   "id": "ee52fa6a",
   "metadata": {},
   "outputs": [
    {
     "name": "stdout",
     "output_type": "stream",
     "text": [
      "root\n",
      " |-- Year: integer (nullable = true)\n",
      " |-- Month: integer (nullable = true)\n",
      " |-- Day: integer (nullable = true)\n",
      " |-- Hour: integer (nullable = true)\n",
      " |-- Minute: integer (nullable = true)\n",
      " |-- IUCR_Num: integer (nullable = true)\n",
      " |-- IUCR: string (nullable = true)\n",
      " |-- Primary_Type_Num: integer (nullable = true)\n",
      " |-- Primary_Type: string (nullable = true)\n",
      " |-- Location_Description_Num: integer (nullable = true)\n",
      " |-- Location_Description: string (nullable = true)\n",
      " |-- Arrest: integer (nullable = true)\n",
      " |-- Domestic: integer (nullable = true)\n",
      " |-- Beat: integer (nullable = true)\n",
      " |-- District: integer (nullable = true)\n",
      " |-- Ward: integer (nullable = true)\n",
      " |-- Community_Area: integer (nullable = true)\n",
      " |-- FBI_Code: string (nullable = true)\n",
      " |-- FBI_Code_Num: integer (nullable = true)\n",
      "\n"
     ]
    }
   ],
   "source": [
    "#Check data types\n",
    "df_crimes.printSchema()"
   ]
  },
  {
   "cell_type": "markdown",
   "id": "2fd621eb",
   "metadata": {},
   "source": [
    "## Data is ready!"
   ]
  },
  {
   "cell_type": "markdown",
   "id": "866db365",
   "metadata": {},
   "source": [
    "## Statistical data exploration"
   ]
  },
  {
   "cell_type": "markdown",
   "id": "341e82e1",
   "metadata": {},
   "source": [
    "#### Create dataframes containing numerical and categorical attributes"
   ]
  },
  {
   "cell_type": "code",
   "execution_count": null,
   "id": "56314d04",
   "metadata": {},
   "outputs": [
    {
     "name": "stdout",
     "output_type": "stream",
     "text": [
      "Numerical columns: ['Year', 'Month', 'Day', 'Hour', 'Minute', 'IUCR_Num', 'Primary_Type_Num', 'Location_Description_Num', 'Arrest', 'Domestic', 'Beat', 'District', 'Ward', 'Community_Area', 'FBI_Code_Num']\n",
      "Categorical columns: ['IUCR', 'Primary_Type', 'Location_Description', 'FBI_Code']\n"
     ]
    }
   ],
   "source": [
    "from pyspark.sql.types import NumericType, StringType, BooleanType\n",
    "\n",
    "# Get the schema of the dataframe\n",
    "schema = df_crimes.schema\n",
    "\n",
    "# Identify numerical and categorical columns\n",
    "# (assuming numerical columns are of type NumericType and categorical columns are of type StringType or BooleanType)\n",
    "numerical_columns = [field.name for field in schema if isinstance(field.dataType, NumericType)]\n",
    "categorical_columns = [field.name for field in schema if isinstance(field.dataType, (StringType, BooleanType))]\n",
    "\n",
    "# Form two dataframes\n",
    "numerical_df = df_crimes.select(*numerical_columns)\n",
    "categorical_df = df_crimes.select(*categorical_columns)\n",
    "\n",
    "print(\"Numerical columns:\", numerical_columns)\n",
    "print(\"Categorical columns:\", categorical_columns)"
   ]
  },
  {
   "cell_type": "markdown",
   "id": "8bce58c1",
   "metadata": {},
   "source": [
    "#### Statistics of numerical variables"
   ]
  },
  {
   "cell_type": "code",
   "execution_count": null,
   "id": "f67d71d0",
   "metadata": {},
   "outputs": [
    {
     "name": "stdout",
     "output_type": "stream",
     "text": [
      "+-------+-------+-------+-------+-------+-------+--------+----------------+------------------------+-------+--------+-------+--------+-------+--------------+------------+\n",
      "|summary|   Year|  Month|    Day|   Hour| Minute|IUCR_Num|Primary_Type_Num|Location_Description_Num| Arrest|Domestic|   Beat|District|   Ward|Community_Area|FBI_Code_Num|\n",
      "+-------+-------+-------+-------+-------+-------+--------+----------------+------------------------+-------+--------+-------+--------+-------+--------------+------------+\n",
      "|  count|7474272|7474272|7474272|7474272|7474272| 7474272|         7474272|                 7474272|7474272| 7474272|7474272| 7474272|7474272|       7474272|     7474272|\n",
      "|   mean|2011.22|    6.6|  15.64|  13.07|  19.64|   21.38|            3.73|                    7.71|   0.25|    0.17|1181.39|   11.29|  22.77|         37.43|        3.95|\n",
      "| stddev|   6.36|   3.33|   8.85|   6.76|  18.53|    34.3|            3.99|                   14.41|   0.43|    0.38| 702.74|    6.95|  13.85|         21.54|        4.14|\n",
      "|    min|   2001|      1|      1|      0|      0|       0|               0|                       0|      0|       0|    111|       1|      1|             0|           0|\n",
      "|    max|   2024|     12|     31|     23|     59|     403|              34|                     215|      1|       1|   2535|      31|     50|            77|          26|\n",
      "+-------+-------+-------+-------+-------+-------+--------+----------------+------------------------+-------+--------+-------+--------+-------+--------------+------------+\n",
      "\n"
     ]
    }
   ],
   "source": [
    "desc_df = numerical_df.describe()\n",
    "\n",
    "# Get all columns except 'summary'\n",
    "stat_cols = [c for c in desc_df.columns if c != 'summary']\n",
    "\n",
    "# For each column, round values in 'mean' and 'stddev' rows\n",
    "for c in stat_cols:\n",
    "    desc_df = desc_df.withColumn(\n",
    "        c,\n",
    "        F.when(F.col(\"summary\").isin(\"mean\", \"stddev\"), F.round(F.col(c).cast(\"double\"), 2)).otherwise(F.col(c))\n",
    "    )\n",
    "\n",
    "desc_df.show()"
   ]
  },
  {
   "cell_type": "markdown",
   "id": "3729aaa9",
   "metadata": {},
   "source": [
    "#### Statistics of categorical variables"
   ]
  },
  {
   "cell_type": "code",
   "execution_count": null,
   "id": "384afe90",
   "metadata": {},
   "outputs": [
    {
     "name": "stdout",
     "output_type": "stream",
     "text": [
      "+-------+-------+-----------------+--------------------+--------+\n",
      "|summary|   IUCR|     Primary_Type|Location_Description|FBI_Code|\n",
      "+-------+-------+-----------------+--------------------+--------+\n",
      "|  count|7474272|          7474272|             7474272| 7474272|\n",
      "|   mean|1115.55|             NULL|                NULL|    12.0|\n",
      "| stddev| 806.26|             NULL|                NULL|    7.28|\n",
      "|    min|   0110|            ARSON|\"CTA \"\"L\"\" PLATFORM\"|     01A|\n",
      "|    max|   5132|WEAPONS VIOLATION|                YMCA|      27|\n",
      "+-------+-------+-----------------+--------------------+--------+\n",
      "\n"
     ]
    }
   ],
   "source": [
    "cat_desc_df = categorical_df.describe()\n",
    "\n",
    "# Get all columns except 'summary'\n",
    "stat_cols = [c for c in cat_desc_df.columns if c != 'summary']\n",
    "\n",
    "# For each column, round values in 'mean' and 'stddev' rows\n",
    "for c in stat_cols:\n",
    "    cat_desc_df = cat_desc_df.withColumn(\n",
    "        c,\n",
    "        F.when(F.col(\"summary\").isin(\"mean\", \"stddev\"), F.round(F.col(c).cast(\"double\"), 2)).otherwise(F.col(c))\n",
    "    )\n",
    "\n",
    "cat_desc_df.show()"
   ]
  },
  {
   "cell_type": "markdown",
   "id": "f194885d",
   "metadata": {},
   "source": [
    "## Charts"
   ]
  },
  {
   "cell_type": "markdown",
   "id": "4b1d365a",
   "metadata": {},
   "source": [
    "#### Correlations chart"
   ]
  },
  {
   "cell_type": "code",
   "execution_count": null,
   "id": "1cb1b514",
   "metadata": {},
   "outputs": [
    {
     "name": "stdout",
     "output_type": "stream",
     "text": [
      "Requirement already satisfied: plotly in /opt/conda/envs/vscode_pyspark/lib/python3.11/site-packages (6.1.0)\n",
      "Requirement already satisfied: narwhals>=1.15.1 in /opt/conda/envs/vscode_pyspark/lib/python3.11/site-packages (from plotly) (1.39.0)\n",
      "Requirement already satisfied: packaging in /opt/conda/envs/vscode_pyspark/lib/python3.11/site-packages (from plotly) (24.2)\n",
      "Note: you may need to restart the kernel to use updated packages.\n"
     ]
    }
   ],
   "source": [
    "%pip install plotly\n",
    "\n",
    "from pyspark.ml.feature import VectorAssembler\n",
    "from pyspark.ml.stat import Correlation\n",
    "import pandas as pd\n",
    "import plotly.express as px"
   ]
  },
  {
   "cell_type": "code",
   "execution_count": null,
   "id": "0df6c610",
   "metadata": {},
   "outputs": [
    {
     "data": {
      "application/vnd.plotly.v1+json": {
       "config": {
        "plotlyServerURL": "https://plot.ly"
       },
       "data": [
        {
         "coloraxis": "coloraxis",
         "hovertemplate": "x: %{x}<br>y: %{y}<br>color: %{z}<extra></extra>",
         "name": "0",
         "texttemplate": "%{z}",
         "type": "heatmap",
         "x": [
          "Year",
          "Month",
          "Day",
          "Hour",
          "Minute",
          "IUCR_Num",
          "Primary_Type_Num",
          "Location_Description_Num",
          "Arrest",
          "Domestic",
          "Beat",
          "District",
          "Ward",
          "Community_Area",
          "FBI_Code_Num"
         ],
         "xaxis": "x",
         "xgap": 2,
         "y": [
          "Year",
          "Month",
          "Day",
          "Hour",
          "Minute",
          "IUCR_Num",
          "Primary_Type_Num",
          "Location_Description_Num",
          "Arrest",
          "Domestic",
          "Beat",
          "District",
          "Ward",
          "Community_Area",
          "FBI_Code_Num"
         ],
         "yaxis": "y",
         "ygap": 2,
         "z": {
          "bdata": "AAAAAAAA8D816HgLbr6rv54KQeAyBWy/b8FQ43OCmr9oi63ghvx+v/bkGmas5pU/NcVGyupNmj/nndMD68u2P7/ZYVRn5b6/nAVbi0f3oj98L048+LqivxEZ68UZH3C/rvzLABKplT/JO/+4K7OQv8gEBSBQO6U/Neh4C26+q78AAAAAAADwP9su0c2jZy2/8rIYZqNUXj+rVTsE31Jwvxt7WgFoq4S/Efns9LYWeb+eM1kideNkv4OBa0CH3JK/QjkGgn/pir81M75CIM1yP2vUEXH4MnA/ghXkyQxzbz9PUIV9Av10v4h2eeRgkHK/ngpB4DIFbL/bLtHNo2ctvwAAAAAAAPA/ZG770aFbkT+l4OKW8g2KPwnGEScOf4a/v0Lh/q0zf790VHUSi+VWP3+MkCfkpic/nZrKQFx6W7+YEIueAelSv6dSs/BOHFS/ysQ6A1JKP79WHYbnRSo2v+0HQp6y7H6/b8FQ43OCmr/yshhmo1ReP2Ru+9GhW5E/AAAAAAAA8D8vp1XdgAOtP2MnjVTf8I2/nOxO9vusjb8ic5jsLC6Dv4iIZhxHHLU/XQPm2UP0or+pF3zK1YN8vyqCkgCNen6/gF91SagBcL9l77V78fVgPz8TJrGL3Yi/aIut4Ib8fr+rVTsE31Jwv6Xg4pbyDYo/L6dV3YADrT8AAAAAAADwP9Qsk9AHbac/9IrcMNIcmD+Pi2zOjs+TP98FytNnL8o//8tXNB2IpT9se/2NPligv4SQeSOhrp6/l5ECc+ilmL/fXHumpTeTP0YuY2/yKqk/9uQaZqzmlT8be1oBaKuEvwnGEScOf4a/YyeNVN/wjb/ULJPQB22nPwAAAAAAAPA/M8DJjylN4D9974bfR8+oP+n/H8NecMk/9BpKRTpPt780D3RcevmDv9sjlG9YIn6/4pXUpxTKdb+0y84YpZGLP1qym19aJOA/NcVGyupNmj8R+ez0thZ5v79C4f6tM3+/nOxO9vusjb/0itww0hyYPzPAyY8pTeA/AAAAAAAA8D+n478vSBaTP91UM2gx3MI/EsHTTPNfvL+l6bsYIXSNv55Z0o2/2oi/UfpkB/n+nb9Az1zcrkygPzklqNmmQOk/553TA+vLtj+eM1kideNkv3RUdRKL5VY/InOY7Cwug7+Pi2zOjs+TP33vht9Hz6g/p+O/L0gWkz8AAAAAAADwP7Pnubl7OpE/qt/Jz8xCwL/aupVtB4l/P+w6ov7jXXI/PfKxdxpipT8ondZKjL6dv0HK1tU7uoy/v9lhVGflvr+DgWtAh9ySv3+MkCfkpic/iIhmHEcctT/fBcrTZy/KP+n/H8NecMk/3VQzaDHcwj+z57m5ezqRPwAAAAAAAPA/w+xOPJU5sL+pulYosNyPvwtrXxPSspG/EMzJkqdYkL9O6DNipZZEv0sEwK/YtcE/nAVbi0f3oj9COQaCf+mKv52aykBcelu/XQPm2UP0or//y1c0HYilP/QaSkU6T7e/EsHTTPNfvL+q38nPzELAv8PsTjyVObC/AAAAAAAA8D+T05J2rPKtv3T51k9wEay/JQS9BAp9sb/u53eOwfu1PzhHY/CBz7W/fC9OPPi6or81M75CIM1yP5gQi54B6VK/qRd8ytWDfL9se/2NPligvzQPdFx6+YO/pem7GCF0jb/aupVtB4l/P6m6Viiw3I+/k9OSdqzyrb8AAAAAAADwP27MDW34gu4/3zhBrwqU5D+wfdzegfffvwjCiLn8Rp+/ERnrxRkfcL9r1BFx+DJwP6dSs/BOHFS/KoKSAI16fr+EkHkjoa6ev9sjlG9YIn6/nlnSjb/aiL/sOqL+411yPwtrXxPSspG/dPnWT3ARrL9uzA1t+ILuPwAAAAAAAPA/8Q5Sd13m5T9JbgoNhKTfv+AL3bXqMZq/rvzLABKplT+CFeTJDHNvP8rEOgNSSj+/gF91SagBcL+XkQJz6KWYv+KV1KcUynW/UfpkB/n+nb898rF3GmKlPxDMyZKnWJC/JQS9BAp9sb/fOEGvCpTkP/EOUndd5uU/AAAAAAAA8D/1PHXiYvbgv6Xwb08Q/qW/yTv/uCuzkL9PUIV9Av10v1YdhudFKja/Ze+1e/H1YD/fXHumpTeTP7TLzhilkYs/QM9c3K5MoD8ondZKjL6dv07oM2KllkS/7ud3jsH7tT+wfdzegfffv0luCg2EpN+/9Tx14mL24L8AAAAAAADwP2yBx6F0wqg/yAQFIFA7pT+IdnnkYJByv+0HQp6y7H6/PxMmsYvdiL9GLmNv8iqpP1qym19aJOA/OSWo2aZA6T9BytbVO7qMv0sEwK/YtcE/OEdj8IHPtb8Iwoi5/Eafv+AL3bXqMZq/pfBvTxD+pb9sgcehdMKoPwAAAAAAAPA/",
          "dtype": "f8",
          "shape": "15, 15"
         }
        }
       ],
       "layout": {
        "coloraxis": {
         "cmax": 1,
         "cmin": -1,
         "colorscale": [
          [
           0,
           "white"
          ],
          [
           0.5,
           "#fca9a9"
          ],
          [
           1,
           "darkred"
          ]
         ]
        },
        "font": {
         "size": 12
        },
        "height": 1000,
        "template": {
         "data": {
          "bar": [
           {
            "error_x": {
             "color": "#2a3f5f"
            },
            "error_y": {
             "color": "#2a3f5f"
            },
            "marker": {
             "line": {
              "color": "#E5ECF6",
              "width": 0.5
             },
             "pattern": {
              "fillmode": "overlay",
              "size": 10,
              "solidity": 0.2
             }
            },
            "type": "bar"
           }
          ],
          "barpolar": [
           {
            "marker": {
             "line": {
              "color": "#E5ECF6",
              "width": 0.5
             },
             "pattern": {
              "fillmode": "overlay",
              "size": 10,
              "solidity": 0.2
             }
            },
            "type": "barpolar"
           }
          ],
          "carpet": [
           {
            "aaxis": {
             "endlinecolor": "#2a3f5f",
             "gridcolor": "white",
             "linecolor": "white",
             "minorgridcolor": "white",
             "startlinecolor": "#2a3f5f"
            },
            "baxis": {
             "endlinecolor": "#2a3f5f",
             "gridcolor": "white",
             "linecolor": "white",
             "minorgridcolor": "white",
             "startlinecolor": "#2a3f5f"
            },
            "type": "carpet"
           }
          ],
          "choropleth": [
           {
            "colorbar": {
             "outlinewidth": 0,
             "ticks": ""
            },
            "type": "choropleth"
           }
          ],
          "contour": [
           {
            "colorbar": {
             "outlinewidth": 0,
             "ticks": ""
            },
            "colorscale": [
             [
              0,
              "#0d0887"
             ],
             [
              0.1111111111111111,
              "#46039f"
             ],
             [
              0.2222222222222222,
              "#7201a8"
             ],
             [
              0.3333333333333333,
              "#9c179e"
             ],
             [
              0.4444444444444444,
              "#bd3786"
             ],
             [
              0.5555555555555556,
              "#d8576b"
             ],
             [
              0.6666666666666666,
              "#ed7953"
             ],
             [
              0.7777777777777778,
              "#fb9f3a"
             ],
             [
              0.8888888888888888,
              "#fdca26"
             ],
             [
              1,
              "#f0f921"
             ]
            ],
            "type": "contour"
           }
          ],
          "contourcarpet": [
           {
            "colorbar": {
             "outlinewidth": 0,
             "ticks": ""
            },
            "type": "contourcarpet"
           }
          ],
          "heatmap": [
           {
            "colorbar": {
             "outlinewidth": 0,
             "ticks": ""
            },
            "colorscale": [
             [
              0,
              "#0d0887"
             ],
             [
              0.1111111111111111,
              "#46039f"
             ],
             [
              0.2222222222222222,
              "#7201a8"
             ],
             [
              0.3333333333333333,
              "#9c179e"
             ],
             [
              0.4444444444444444,
              "#bd3786"
             ],
             [
              0.5555555555555556,
              "#d8576b"
             ],
             [
              0.6666666666666666,
              "#ed7953"
             ],
             [
              0.7777777777777778,
              "#fb9f3a"
             ],
             [
              0.8888888888888888,
              "#fdca26"
             ],
             [
              1,
              "#f0f921"
             ]
            ],
            "type": "heatmap"
           }
          ],
          "histogram": [
           {
            "marker": {
             "pattern": {
              "fillmode": "overlay",
              "size": 10,
              "solidity": 0.2
             }
            },
            "type": "histogram"
           }
          ],
          "histogram2d": [
           {
            "colorbar": {
             "outlinewidth": 0,
             "ticks": ""
            },
            "colorscale": [
             [
              0,
              "#0d0887"
             ],
             [
              0.1111111111111111,
              "#46039f"
             ],
             [
              0.2222222222222222,
              "#7201a8"
             ],
             [
              0.3333333333333333,
              "#9c179e"
             ],
             [
              0.4444444444444444,
              "#bd3786"
             ],
             [
              0.5555555555555556,
              "#d8576b"
             ],
             [
              0.6666666666666666,
              "#ed7953"
             ],
             [
              0.7777777777777778,
              "#fb9f3a"
             ],
             [
              0.8888888888888888,
              "#fdca26"
             ],
             [
              1,
              "#f0f921"
             ]
            ],
            "type": "histogram2d"
           }
          ],
          "histogram2dcontour": [
           {
            "colorbar": {
             "outlinewidth": 0,
             "ticks": ""
            },
            "colorscale": [
             [
              0,
              "#0d0887"
             ],
             [
              0.1111111111111111,
              "#46039f"
             ],
             [
              0.2222222222222222,
              "#7201a8"
             ],
             [
              0.3333333333333333,
              "#9c179e"
             ],
             [
              0.4444444444444444,
              "#bd3786"
             ],
             [
              0.5555555555555556,
              "#d8576b"
             ],
             [
              0.6666666666666666,
              "#ed7953"
             ],
             [
              0.7777777777777778,
              "#fb9f3a"
             ],
             [
              0.8888888888888888,
              "#fdca26"
             ],
             [
              1,
              "#f0f921"
             ]
            ],
            "type": "histogram2dcontour"
           }
          ],
          "mesh3d": [
           {
            "colorbar": {
             "outlinewidth": 0,
             "ticks": ""
            },
            "type": "mesh3d"
           }
          ],
          "parcoords": [
           {
            "line": {
             "colorbar": {
              "outlinewidth": 0,
              "ticks": ""
             }
            },
            "type": "parcoords"
           }
          ],
          "pie": [
           {
            "automargin": true,
            "type": "pie"
           }
          ],
          "scatter": [
           {
            "fillpattern": {
             "fillmode": "overlay",
             "size": 10,
             "solidity": 0.2
            },
            "type": "scatter"
           }
          ],
          "scatter3d": [
           {
            "line": {
             "colorbar": {
              "outlinewidth": 0,
              "ticks": ""
             }
            },
            "marker": {
             "colorbar": {
              "outlinewidth": 0,
              "ticks": ""
             }
            },
            "type": "scatter3d"
           }
          ],
          "scattercarpet": [
           {
            "marker": {
             "colorbar": {
              "outlinewidth": 0,
              "ticks": ""
             }
            },
            "type": "scattercarpet"
           }
          ],
          "scattergeo": [
           {
            "marker": {
             "colorbar": {
              "outlinewidth": 0,
              "ticks": ""
             }
            },
            "type": "scattergeo"
           }
          ],
          "scattergl": [
           {
            "marker": {
             "colorbar": {
              "outlinewidth": 0,
              "ticks": ""
             }
            },
            "type": "scattergl"
           }
          ],
          "scattermap": [
           {
            "marker": {
             "colorbar": {
              "outlinewidth": 0,
              "ticks": ""
             }
            },
            "type": "scattermap"
           }
          ],
          "scattermapbox": [
           {
            "marker": {
             "colorbar": {
              "outlinewidth": 0,
              "ticks": ""
             }
            },
            "type": "scattermapbox"
           }
          ],
          "scatterpolar": [
           {
            "marker": {
             "colorbar": {
              "outlinewidth": 0,
              "ticks": ""
             }
            },
            "type": "scatterpolar"
           }
          ],
          "scatterpolargl": [
           {
            "marker": {
             "colorbar": {
              "outlinewidth": 0,
              "ticks": ""
             }
            },
            "type": "scatterpolargl"
           }
          ],
          "scatterternary": [
           {
            "marker": {
             "colorbar": {
              "outlinewidth": 0,
              "ticks": ""
             }
            },
            "type": "scatterternary"
           }
          ],
          "surface": [
           {
            "colorbar": {
             "outlinewidth": 0,
             "ticks": ""
            },
            "colorscale": [
             [
              0,
              "#0d0887"
             ],
             [
              0.1111111111111111,
              "#46039f"
             ],
             [
              0.2222222222222222,
              "#7201a8"
             ],
             [
              0.3333333333333333,
              "#9c179e"
             ],
             [
              0.4444444444444444,
              "#bd3786"
             ],
             [
              0.5555555555555556,
              "#d8576b"
             ],
             [
              0.6666666666666666,
              "#ed7953"
             ],
             [
              0.7777777777777778,
              "#fb9f3a"
             ],
             [
              0.8888888888888888,
              "#fdca26"
             ],
             [
              1,
              "#f0f921"
             ]
            ],
            "type": "surface"
           }
          ],
          "table": [
           {
            "cells": {
             "fill": {
              "color": "#EBF0F8"
             },
             "line": {
              "color": "white"
             }
            },
            "header": {
             "fill": {
              "color": "#C8D4E3"
             },
             "line": {
              "color": "white"
             }
            },
            "type": "table"
           }
          ]
         },
         "layout": {
          "annotationdefaults": {
           "arrowcolor": "#2a3f5f",
           "arrowhead": 0,
           "arrowwidth": 1
          },
          "autotypenumbers": "strict",
          "coloraxis": {
           "colorbar": {
            "outlinewidth": 0,
            "ticks": ""
           }
          },
          "colorscale": {
           "diverging": [
            [
             0,
             "#8e0152"
            ],
            [
             0.1,
             "#c51b7d"
            ],
            [
             0.2,
             "#de77ae"
            ],
            [
             0.3,
             "#f1b6da"
            ],
            [
             0.4,
             "#fde0ef"
            ],
            [
             0.5,
             "#f7f7f7"
            ],
            [
             0.6,
             "#e6f5d0"
            ],
            [
             0.7,
             "#b8e186"
            ],
            [
             0.8,
             "#7fbc41"
            ],
            [
             0.9,
             "#4d9221"
            ],
            [
             1,
             "#276419"
            ]
           ],
           "sequential": [
            [
             0,
             "#0d0887"
            ],
            [
             0.1111111111111111,
             "#46039f"
            ],
            [
             0.2222222222222222,
             "#7201a8"
            ],
            [
             0.3333333333333333,
             "#9c179e"
            ],
            [
             0.4444444444444444,
             "#bd3786"
            ],
            [
             0.5555555555555556,
             "#d8576b"
            ],
            [
             0.6666666666666666,
             "#ed7953"
            ],
            [
             0.7777777777777778,
             "#fb9f3a"
            ],
            [
             0.8888888888888888,
             "#fdca26"
            ],
            [
             1,
             "#f0f921"
            ]
           ],
           "sequentialminus": [
            [
             0,
             "#0d0887"
            ],
            [
             0.1111111111111111,
             "#46039f"
            ],
            [
             0.2222222222222222,
             "#7201a8"
            ],
            [
             0.3333333333333333,
             "#9c179e"
            ],
            [
             0.4444444444444444,
             "#bd3786"
            ],
            [
             0.5555555555555556,
             "#d8576b"
            ],
            [
             0.6666666666666666,
             "#ed7953"
            ],
            [
             0.7777777777777778,
             "#fb9f3a"
            ],
            [
             0.8888888888888888,
             "#fdca26"
            ],
            [
             1,
             "#f0f921"
            ]
           ]
          },
          "colorway": [
           "#636efa",
           "#EF553B",
           "#00cc96",
           "#ab63fa",
           "#FFA15A",
           "#19d3f3",
           "#FF6692",
           "#B6E880",
           "#FF97FF",
           "#FECB52"
          ],
          "font": {
           "color": "#2a3f5f"
          },
          "geo": {
           "bgcolor": "white",
           "lakecolor": "white",
           "landcolor": "#E5ECF6",
           "showlakes": true,
           "showland": true,
           "subunitcolor": "white"
          },
          "hoverlabel": {
           "align": "left"
          },
          "hovermode": "closest",
          "mapbox": {
           "style": "light"
          },
          "paper_bgcolor": "white",
          "plot_bgcolor": "#E5ECF6",
          "polar": {
           "angularaxis": {
            "gridcolor": "white",
            "linecolor": "white",
            "ticks": ""
           },
           "bgcolor": "#E5ECF6",
           "radialaxis": {
            "gridcolor": "white",
            "linecolor": "white",
            "ticks": ""
           }
          },
          "scene": {
           "xaxis": {
            "backgroundcolor": "#E5ECF6",
            "gridcolor": "white",
            "gridwidth": 2,
            "linecolor": "white",
            "showbackground": true,
            "ticks": "",
            "zerolinecolor": "white"
           },
           "yaxis": {
            "backgroundcolor": "#E5ECF6",
            "gridcolor": "white",
            "gridwidth": 2,
            "linecolor": "white",
            "showbackground": true,
            "ticks": "",
            "zerolinecolor": "white"
           },
           "zaxis": {
            "backgroundcolor": "#E5ECF6",
            "gridcolor": "white",
            "gridwidth": 2,
            "linecolor": "white",
            "showbackground": true,
            "ticks": "",
            "zerolinecolor": "white"
           }
          },
          "shapedefaults": {
           "line": {
            "color": "#2a3f5f"
           }
          },
          "ternary": {
           "aaxis": {
            "gridcolor": "white",
            "linecolor": "white",
            "ticks": ""
           },
           "baxis": {
            "gridcolor": "white",
            "linecolor": "white",
            "ticks": ""
           },
           "bgcolor": "#E5ECF6",
           "caxis": {
            "gridcolor": "white",
            "linecolor": "white",
            "ticks": ""
           }
          },
          "title": {
           "x": 0.05
          },
          "xaxis": {
           "automargin": true,
           "gridcolor": "white",
           "linecolor": "white",
           "ticks": "",
           "title": {
            "standoff": 15
           },
           "zerolinecolor": "white",
           "zerolinewidth": 2
          },
          "yaxis": {
           "automargin": true,
           "gridcolor": "white",
           "linecolor": "white",
           "ticks": "",
           "title": {
            "standoff": 15
           },
           "zerolinecolor": "white",
           "zerolinewidth": 2
          }
         }
        },
        "title": {
         "text": "Correlation Matrix"
        },
        "width": 1000,
        "xaxis": {
         "anchor": "y",
         "constrain": "domain",
         "domain": [
          0,
          1
         ],
         "scaleanchor": "y",
         "tickangle": 45
        },
        "yaxis": {
         "anchor": "x",
         "autorange": "reversed",
         "constrain": "domain",
         "domain": [
          0,
          1
         ]
        }
       }
      }
     },
     "metadata": {},
     "output_type": "display_data"
    }
   ],
   "source": [
    "# Correlations\n",
    "\n",
    "# Checking correlation between numeric columns (no NULLs)\n",
    "\n",
    "col_corr = numerical_df\n",
    "# Correlation needs vector columns, so we need to convert the data frame to a vector\n",
    "vector_col = 'corr_features'\n",
    "assembler = VectorAssembler(inputCols=col_corr.columns, outputCol=vector_col)\n",
    "df_vector = assembler.transform(df_crimes).select(vector_col)\n",
    "# Get the correlation matrix - it can be Pearson's (default) or Spearman's\n",
    "corr = Correlation.corr(df_vector, vector_col).head()\n",
    "corr_matrix = Correlation.corr(df_vector, vector_col).collect()[0][0].toArray().tolist()\n",
    "\n",
    "# Convert correlation matrix to a DataFrame for visualization\n",
    "corr_df = pd.DataFrame(corr_matrix, index=col_corr.columns, columns=col_corr.columns)\n",
    "\n",
    "# Plot the heatmap using plotly.express\n",
    "fig = px.imshow(\n",
    "    corr_df,\n",
    "    text_auto=True,\n",
    "    color_continuous_scale=[\n",
    "        [0.0, \"white\"], \n",
    "        [0.5, \"#fca9a9\"], \n",
    "        [1.0, \"darkred\"]\n",
    "    ],\n",
    "    zmin=-1, zmax=1,\n",
    "    title=\"Correlation Matrix\",\n",
    "    width=1000, # graph width\n",
    "    height=1000, # height of the chart\n",
    ")\n",
    "\n",
    "# Optional: reduce the gaps between cells\n",
    "fig.update_traces(xgap=2, ygap=2)\n",
    "\n",
    "# Increase the readability of the axis text\n",
    "fig.update_layout(\n",
    "    xaxis=dict(tickangle=45), \n",
    "    font=dict(size=12),\n",
    ")\n",
    "\n",
    "fig.show()"
   ]
  },
  {
   "cell_type": "markdown",
   "id": "18beb1f8",
   "metadata": {},
   "source": [
    "#### Crimes dynamics by Year"
   ]
  },
  {
   "cell_type": "code",
   "execution_count": null,
   "id": "017d4790",
   "metadata": {},
   "outputs": [
    {
     "data": {
      "application/vnd.plotly.v1+json": {
       "config": {
        "plotlyServerURL": "https://plot.ly"
       },
       "data": [
        {
         "hovertemplate": "Year=%{x}<br>count=%{y}<extra></extra>",
         "legendgroup": "",
         "line": {
          "color": "#636efa",
          "dash": "solid"
         },
         "marker": {
          "symbol": "circle"
         },
         "mode": "lines+markers",
         "name": "",
         "orientation": "v",
         "showlegend": false,
         "type": "scatter",
         "x": {
          "bdata": "0QcAANIHAADTBwAA1AcAANUHAADWBwAA1wcAANgHAADZBwAA2gcAANsHAADcBwAA3QcAAN4HAADfBwAA4AcAAOEHAADiBwAA4wcAAOQHAADlBwAA5gcAAOcHAADoBwAA",
          "dtype": "i4"
         },
         "xaxis": "x",
         "y": {
          "bdata": "yhAAAH5lBQDnQgcASykHADnsBgBV1gYAhaoGACGDBgAn/QUAIaYFAO9cBQCjHwUAabAEANMzBAD/BwQA5xgEAPsVBABQFgQAEPgDANA2AwB1LAMAQKMDAPH6AwDl7gEA",
          "dtype": "i4"
         },
         "yaxis": "y"
        }
       ],
       "layout": {
        "legend": {
         "tracegroupgap": 0
        },
        "template": {
         "data": {
          "bar": [
           {
            "error_x": {
             "color": "#2a3f5f"
            },
            "error_y": {
             "color": "#2a3f5f"
            },
            "marker": {
             "line": {
              "color": "#E5ECF6",
              "width": 0.5
             },
             "pattern": {
              "fillmode": "overlay",
              "size": 10,
              "solidity": 0.2
             }
            },
            "type": "bar"
           }
          ],
          "barpolar": [
           {
            "marker": {
             "line": {
              "color": "#E5ECF6",
              "width": 0.5
             },
             "pattern": {
              "fillmode": "overlay",
              "size": 10,
              "solidity": 0.2
             }
            },
            "type": "barpolar"
           }
          ],
          "carpet": [
           {
            "aaxis": {
             "endlinecolor": "#2a3f5f",
             "gridcolor": "white",
             "linecolor": "white",
             "minorgridcolor": "white",
             "startlinecolor": "#2a3f5f"
            },
            "baxis": {
             "endlinecolor": "#2a3f5f",
             "gridcolor": "white",
             "linecolor": "white",
             "minorgridcolor": "white",
             "startlinecolor": "#2a3f5f"
            },
            "type": "carpet"
           }
          ],
          "choropleth": [
           {
            "colorbar": {
             "outlinewidth": 0,
             "ticks": ""
            },
            "type": "choropleth"
           }
          ],
          "contour": [
           {
            "colorbar": {
             "outlinewidth": 0,
             "ticks": ""
            },
            "colorscale": [
             [
              0,
              "#0d0887"
             ],
             [
              0.1111111111111111,
              "#46039f"
             ],
             [
              0.2222222222222222,
              "#7201a8"
             ],
             [
              0.3333333333333333,
              "#9c179e"
             ],
             [
              0.4444444444444444,
              "#bd3786"
             ],
             [
              0.5555555555555556,
              "#d8576b"
             ],
             [
              0.6666666666666666,
              "#ed7953"
             ],
             [
              0.7777777777777778,
              "#fb9f3a"
             ],
             [
              0.8888888888888888,
              "#fdca26"
             ],
             [
              1,
              "#f0f921"
             ]
            ],
            "type": "contour"
           }
          ],
          "contourcarpet": [
           {
            "colorbar": {
             "outlinewidth": 0,
             "ticks": ""
            },
            "type": "contourcarpet"
           }
          ],
          "heatmap": [
           {
            "colorbar": {
             "outlinewidth": 0,
             "ticks": ""
            },
            "colorscale": [
             [
              0,
              "#0d0887"
             ],
             [
              0.1111111111111111,
              "#46039f"
             ],
             [
              0.2222222222222222,
              "#7201a8"
             ],
             [
              0.3333333333333333,
              "#9c179e"
             ],
             [
              0.4444444444444444,
              "#bd3786"
             ],
             [
              0.5555555555555556,
              "#d8576b"
             ],
             [
              0.6666666666666666,
              "#ed7953"
             ],
             [
              0.7777777777777778,
              "#fb9f3a"
             ],
             [
              0.8888888888888888,
              "#fdca26"
             ],
             [
              1,
              "#f0f921"
             ]
            ],
            "type": "heatmap"
           }
          ],
          "histogram": [
           {
            "marker": {
             "pattern": {
              "fillmode": "overlay",
              "size": 10,
              "solidity": 0.2
             }
            },
            "type": "histogram"
           }
          ],
          "histogram2d": [
           {
            "colorbar": {
             "outlinewidth": 0,
             "ticks": ""
            },
            "colorscale": [
             [
              0,
              "#0d0887"
             ],
             [
              0.1111111111111111,
              "#46039f"
             ],
             [
              0.2222222222222222,
              "#7201a8"
             ],
             [
              0.3333333333333333,
              "#9c179e"
             ],
             [
              0.4444444444444444,
              "#bd3786"
             ],
             [
              0.5555555555555556,
              "#d8576b"
             ],
             [
              0.6666666666666666,
              "#ed7953"
             ],
             [
              0.7777777777777778,
              "#fb9f3a"
             ],
             [
              0.8888888888888888,
              "#fdca26"
             ],
             [
              1,
              "#f0f921"
             ]
            ],
            "type": "histogram2d"
           }
          ],
          "histogram2dcontour": [
           {
            "colorbar": {
             "outlinewidth": 0,
             "ticks": ""
            },
            "colorscale": [
             [
              0,
              "#0d0887"
             ],
             [
              0.1111111111111111,
              "#46039f"
             ],
             [
              0.2222222222222222,
              "#7201a8"
             ],
             [
              0.3333333333333333,
              "#9c179e"
             ],
             [
              0.4444444444444444,
              "#bd3786"
             ],
             [
              0.5555555555555556,
              "#d8576b"
             ],
             [
              0.6666666666666666,
              "#ed7953"
             ],
             [
              0.7777777777777778,
              "#fb9f3a"
             ],
             [
              0.8888888888888888,
              "#fdca26"
             ],
             [
              1,
              "#f0f921"
             ]
            ],
            "type": "histogram2dcontour"
           }
          ],
          "mesh3d": [
           {
            "colorbar": {
             "outlinewidth": 0,
             "ticks": ""
            },
            "type": "mesh3d"
           }
          ],
          "parcoords": [
           {
            "line": {
             "colorbar": {
              "outlinewidth": 0,
              "ticks": ""
             }
            },
            "type": "parcoords"
           }
          ],
          "pie": [
           {
            "automargin": true,
            "type": "pie"
           }
          ],
          "scatter": [
           {
            "fillpattern": {
             "fillmode": "overlay",
             "size": 10,
             "solidity": 0.2
            },
            "type": "scatter"
           }
          ],
          "scatter3d": [
           {
            "line": {
             "colorbar": {
              "outlinewidth": 0,
              "ticks": ""
             }
            },
            "marker": {
             "colorbar": {
              "outlinewidth": 0,
              "ticks": ""
             }
            },
            "type": "scatter3d"
           }
          ],
          "scattercarpet": [
           {
            "marker": {
             "colorbar": {
              "outlinewidth": 0,
              "ticks": ""
             }
            },
            "type": "scattercarpet"
           }
          ],
          "scattergeo": [
           {
            "marker": {
             "colorbar": {
              "outlinewidth": 0,
              "ticks": ""
             }
            },
            "type": "scattergeo"
           }
          ],
          "scattergl": [
           {
            "marker": {
             "colorbar": {
              "outlinewidth": 0,
              "ticks": ""
             }
            },
            "type": "scattergl"
           }
          ],
          "scattermap": [
           {
            "marker": {
             "colorbar": {
              "outlinewidth": 0,
              "ticks": ""
             }
            },
            "type": "scattermap"
           }
          ],
          "scattermapbox": [
           {
            "marker": {
             "colorbar": {
              "outlinewidth": 0,
              "ticks": ""
             }
            },
            "type": "scattermapbox"
           }
          ],
          "scatterpolar": [
           {
            "marker": {
             "colorbar": {
              "outlinewidth": 0,
              "ticks": ""
             }
            },
            "type": "scatterpolar"
           }
          ],
          "scatterpolargl": [
           {
            "marker": {
             "colorbar": {
              "outlinewidth": 0,
              "ticks": ""
             }
            },
            "type": "scatterpolargl"
           }
          ],
          "scatterternary": [
           {
            "marker": {
             "colorbar": {
              "outlinewidth": 0,
              "ticks": ""
             }
            },
            "type": "scatterternary"
           }
          ],
          "surface": [
           {
            "colorbar": {
             "outlinewidth": 0,
             "ticks": ""
            },
            "colorscale": [
             [
              0,
              "#0d0887"
             ],
             [
              0.1111111111111111,
              "#46039f"
             ],
             [
              0.2222222222222222,
              "#7201a8"
             ],
             [
              0.3333333333333333,
              "#9c179e"
             ],
             [
              0.4444444444444444,
              "#bd3786"
             ],
             [
              0.5555555555555556,
              "#d8576b"
             ],
             [
              0.6666666666666666,
              "#ed7953"
             ],
             [
              0.7777777777777778,
              "#fb9f3a"
             ],
             [
              0.8888888888888888,
              "#fdca26"
             ],
             [
              1,
              "#f0f921"
             ]
            ],
            "type": "surface"
           }
          ],
          "table": [
           {
            "cells": {
             "fill": {
              "color": "#EBF0F8"
             },
             "line": {
              "color": "white"
             }
            },
            "header": {
             "fill": {
              "color": "#C8D4E3"
             },
             "line": {
              "color": "white"
             }
            },
            "type": "table"
           }
          ]
         },
         "layout": {
          "annotationdefaults": {
           "arrowcolor": "#2a3f5f",
           "arrowhead": 0,
           "arrowwidth": 1
          },
          "autotypenumbers": "strict",
          "coloraxis": {
           "colorbar": {
            "outlinewidth": 0,
            "ticks": ""
           }
          },
          "colorscale": {
           "diverging": [
            [
             0,
             "#8e0152"
            ],
            [
             0.1,
             "#c51b7d"
            ],
            [
             0.2,
             "#de77ae"
            ],
            [
             0.3,
             "#f1b6da"
            ],
            [
             0.4,
             "#fde0ef"
            ],
            [
             0.5,
             "#f7f7f7"
            ],
            [
             0.6,
             "#e6f5d0"
            ],
            [
             0.7,
             "#b8e186"
            ],
            [
             0.8,
             "#7fbc41"
            ],
            [
             0.9,
             "#4d9221"
            ],
            [
             1,
             "#276419"
            ]
           ],
           "sequential": [
            [
             0,
             "#0d0887"
            ],
            [
             0.1111111111111111,
             "#46039f"
            ],
            [
             0.2222222222222222,
             "#7201a8"
            ],
            [
             0.3333333333333333,
             "#9c179e"
            ],
            [
             0.4444444444444444,
             "#bd3786"
            ],
            [
             0.5555555555555556,
             "#d8576b"
            ],
            [
             0.6666666666666666,
             "#ed7953"
            ],
            [
             0.7777777777777778,
             "#fb9f3a"
            ],
            [
             0.8888888888888888,
             "#fdca26"
            ],
            [
             1,
             "#f0f921"
            ]
           ],
           "sequentialminus": [
            [
             0,
             "#0d0887"
            ],
            [
             0.1111111111111111,
             "#46039f"
            ],
            [
             0.2222222222222222,
             "#7201a8"
            ],
            [
             0.3333333333333333,
             "#9c179e"
            ],
            [
             0.4444444444444444,
             "#bd3786"
            ],
            [
             0.5555555555555556,
             "#d8576b"
            ],
            [
             0.6666666666666666,
             "#ed7953"
            ],
            [
             0.7777777777777778,
             "#fb9f3a"
            ],
            [
             0.8888888888888888,
             "#fdca26"
            ],
            [
             1,
             "#f0f921"
            ]
           ]
          },
          "colorway": [
           "#636efa",
           "#EF553B",
           "#00cc96",
           "#ab63fa",
           "#FFA15A",
           "#19d3f3",
           "#FF6692",
           "#B6E880",
           "#FF97FF",
           "#FECB52"
          ],
          "font": {
           "color": "#2a3f5f"
          },
          "geo": {
           "bgcolor": "white",
           "lakecolor": "white",
           "landcolor": "#E5ECF6",
           "showlakes": true,
           "showland": true,
           "subunitcolor": "white"
          },
          "hoverlabel": {
           "align": "left"
          },
          "hovermode": "closest",
          "mapbox": {
           "style": "light"
          },
          "paper_bgcolor": "white",
          "plot_bgcolor": "#E5ECF6",
          "polar": {
           "angularaxis": {
            "gridcolor": "white",
            "linecolor": "white",
            "ticks": ""
           },
           "bgcolor": "#E5ECF6",
           "radialaxis": {
            "gridcolor": "white",
            "linecolor": "white",
            "ticks": ""
           }
          },
          "scene": {
           "xaxis": {
            "backgroundcolor": "#E5ECF6",
            "gridcolor": "white",
            "gridwidth": 2,
            "linecolor": "white",
            "showbackground": true,
            "ticks": "",
            "zerolinecolor": "white"
           },
           "yaxis": {
            "backgroundcolor": "#E5ECF6",
            "gridcolor": "white",
            "gridwidth": 2,
            "linecolor": "white",
            "showbackground": true,
            "ticks": "",
            "zerolinecolor": "white"
           },
           "zaxis": {
            "backgroundcolor": "#E5ECF6",
            "gridcolor": "white",
            "gridwidth": 2,
            "linecolor": "white",
            "showbackground": true,
            "ticks": "",
            "zerolinecolor": "white"
           }
          },
          "shapedefaults": {
           "line": {
            "color": "#2a3f5f"
           }
          },
          "ternary": {
           "aaxis": {
            "gridcolor": "white",
            "linecolor": "white",
            "ticks": ""
           },
           "baxis": {
            "gridcolor": "white",
            "linecolor": "white",
            "ticks": ""
           },
           "bgcolor": "#E5ECF6",
           "caxis": {
            "gridcolor": "white",
            "linecolor": "white",
            "ticks": ""
           }
          },
          "title": {
           "x": 0.05
          },
          "xaxis": {
           "automargin": true,
           "gridcolor": "white",
           "linecolor": "white",
           "ticks": "",
           "title": {
            "standoff": 15
           },
           "zerolinecolor": "white",
           "zerolinewidth": 2
          },
          "yaxis": {
           "automargin": true,
           "gridcolor": "white",
           "linecolor": "white",
           "ticks": "",
           "title": {
            "standoff": 15
           },
           "zerolinecolor": "white",
           "zerolinewidth": 2
          }
         }
        },
        "title": {
         "text": "Number of Crimes per Year in Chicago"
        },
        "xaxis": {
         "anchor": "y",
         "domain": [
          0,
          1
         ],
         "dtick": 1,
         "title": {
          "text": "Year"
         }
        },
        "yaxis": {
         "anchor": "x",
         "domain": [
          0,
          1
         ],
         "title": {
          "text": "count"
         }
        }
       }
      }
     },
     "metadata": {},
     "output_type": "display_data"
    }
   ],
   "source": [
    "# Grouping by year\n",
    "agg_year = df_crimes.groupBy('Year').count().orderBy('Year')\n",
    "agg_year_pd = agg_year.toPandas()\n",
    "\n",
    "fig = px.line(\n",
    "    agg_year_pd,\n",
    "    x='Year',\n",
    "    y='count',\n",
    "    markers=True,\n",
    "    title='Number of Crimes per Year in Chicago'\n",
    ")\n",
    "fig.update_layout(xaxis=dict(dtick=1))  # Display each year by X\n",
    "fig.show()"
   ]
  },
  {
   "cell_type": "markdown",
   "id": "05a31b77",
   "metadata": {},
   "source": [
    "#### Number of Crimes by Type"
   ]
  },
  {
   "cell_type": "code",
   "execution_count": null,
   "id": "29a5c45a",
   "metadata": {},
   "outputs": [
    {
     "data": {
      "application/vnd.plotly.v1+json": {
       "config": {
        "plotlyServerURL": "https://plot.ly"
       },
       "data": [
        {
         "hovertemplate": "Primary_Type=%{x}<br>count=%{y}<extra></extra>",
         "legendgroup": "",
         "marker": {
          "color": "#636efa",
          "pattern": {
           "shape": ""
          }
         },
         "name": "",
         "orientation": "v",
         "showlegend": false,
         "textposition": "auto",
         "type": "bar",
         "x": [
          "THEFT",
          "BATTERY",
          "CRIMINAL DAMAGE",
          "NARCOTICS",
          "ASSAULT",
          "OTHER OFFENSE",
          "BURGLARY",
          "MOTOR VEHICLE THEFT",
          "DECEPTIVE PRACTICE",
          "ROBBERY"
         ],
         "xaxis": "x",
         "y": {
          "bdata": "9j8YABa/FADG/QwAk3wKAN+PBwCjEwcAZh0GAEG1BQC9IwUAiU0EAA==",
          "dtype": "i4"
         },
         "yaxis": "y"
        }
       ],
       "layout": {
        "barmode": "relative",
        "legend": {
         "tracegroupgap": 0
        },
        "template": {
         "data": {
          "bar": [
           {
            "error_x": {
             "color": "#2a3f5f"
            },
            "error_y": {
             "color": "#2a3f5f"
            },
            "marker": {
             "line": {
              "color": "#E5ECF6",
              "width": 0.5
             },
             "pattern": {
              "fillmode": "overlay",
              "size": 10,
              "solidity": 0.2
             }
            },
            "type": "bar"
           }
          ],
          "barpolar": [
           {
            "marker": {
             "line": {
              "color": "#E5ECF6",
              "width": 0.5
             },
             "pattern": {
              "fillmode": "overlay",
              "size": 10,
              "solidity": 0.2
             }
            },
            "type": "barpolar"
           }
          ],
          "carpet": [
           {
            "aaxis": {
             "endlinecolor": "#2a3f5f",
             "gridcolor": "white",
             "linecolor": "white",
             "minorgridcolor": "white",
             "startlinecolor": "#2a3f5f"
            },
            "baxis": {
             "endlinecolor": "#2a3f5f",
             "gridcolor": "white",
             "linecolor": "white",
             "minorgridcolor": "white",
             "startlinecolor": "#2a3f5f"
            },
            "type": "carpet"
           }
          ],
          "choropleth": [
           {
            "colorbar": {
             "outlinewidth": 0,
             "ticks": ""
            },
            "type": "choropleth"
           }
          ],
          "contour": [
           {
            "colorbar": {
             "outlinewidth": 0,
             "ticks": ""
            },
            "colorscale": [
             [
              0,
              "#0d0887"
             ],
             [
              0.1111111111111111,
              "#46039f"
             ],
             [
              0.2222222222222222,
              "#7201a8"
             ],
             [
              0.3333333333333333,
              "#9c179e"
             ],
             [
              0.4444444444444444,
              "#bd3786"
             ],
             [
              0.5555555555555556,
              "#d8576b"
             ],
             [
              0.6666666666666666,
              "#ed7953"
             ],
             [
              0.7777777777777778,
              "#fb9f3a"
             ],
             [
              0.8888888888888888,
              "#fdca26"
             ],
             [
              1,
              "#f0f921"
             ]
            ],
            "type": "contour"
           }
          ],
          "contourcarpet": [
           {
            "colorbar": {
             "outlinewidth": 0,
             "ticks": ""
            },
            "type": "contourcarpet"
           }
          ],
          "heatmap": [
           {
            "colorbar": {
             "outlinewidth": 0,
             "ticks": ""
            },
            "colorscale": [
             [
              0,
              "#0d0887"
             ],
             [
              0.1111111111111111,
              "#46039f"
             ],
             [
              0.2222222222222222,
              "#7201a8"
             ],
             [
              0.3333333333333333,
              "#9c179e"
             ],
             [
              0.4444444444444444,
              "#bd3786"
             ],
             [
              0.5555555555555556,
              "#d8576b"
             ],
             [
              0.6666666666666666,
              "#ed7953"
             ],
             [
              0.7777777777777778,
              "#fb9f3a"
             ],
             [
              0.8888888888888888,
              "#fdca26"
             ],
             [
              1,
              "#f0f921"
             ]
            ],
            "type": "heatmap"
           }
          ],
          "histogram": [
           {
            "marker": {
             "pattern": {
              "fillmode": "overlay",
              "size": 10,
              "solidity": 0.2
             }
            },
            "type": "histogram"
           }
          ],
          "histogram2d": [
           {
            "colorbar": {
             "outlinewidth": 0,
             "ticks": ""
            },
            "colorscale": [
             [
              0,
              "#0d0887"
             ],
             [
              0.1111111111111111,
              "#46039f"
             ],
             [
              0.2222222222222222,
              "#7201a8"
             ],
             [
              0.3333333333333333,
              "#9c179e"
             ],
             [
              0.4444444444444444,
              "#bd3786"
             ],
             [
              0.5555555555555556,
              "#d8576b"
             ],
             [
              0.6666666666666666,
              "#ed7953"
             ],
             [
              0.7777777777777778,
              "#fb9f3a"
             ],
             [
              0.8888888888888888,
              "#fdca26"
             ],
             [
              1,
              "#f0f921"
             ]
            ],
            "type": "histogram2d"
           }
          ],
          "histogram2dcontour": [
           {
            "colorbar": {
             "outlinewidth": 0,
             "ticks": ""
            },
            "colorscale": [
             [
              0,
              "#0d0887"
             ],
             [
              0.1111111111111111,
              "#46039f"
             ],
             [
              0.2222222222222222,
              "#7201a8"
             ],
             [
              0.3333333333333333,
              "#9c179e"
             ],
             [
              0.4444444444444444,
              "#bd3786"
             ],
             [
              0.5555555555555556,
              "#d8576b"
             ],
             [
              0.6666666666666666,
              "#ed7953"
             ],
             [
              0.7777777777777778,
              "#fb9f3a"
             ],
             [
              0.8888888888888888,
              "#fdca26"
             ],
             [
              1,
              "#f0f921"
             ]
            ],
            "type": "histogram2dcontour"
           }
          ],
          "mesh3d": [
           {
            "colorbar": {
             "outlinewidth": 0,
             "ticks": ""
            },
            "type": "mesh3d"
           }
          ],
          "parcoords": [
           {
            "line": {
             "colorbar": {
              "outlinewidth": 0,
              "ticks": ""
             }
            },
            "type": "parcoords"
           }
          ],
          "pie": [
           {
            "automargin": true,
            "type": "pie"
           }
          ],
          "scatter": [
           {
            "fillpattern": {
             "fillmode": "overlay",
             "size": 10,
             "solidity": 0.2
            },
            "type": "scatter"
           }
          ],
          "scatter3d": [
           {
            "line": {
             "colorbar": {
              "outlinewidth": 0,
              "ticks": ""
             }
            },
            "marker": {
             "colorbar": {
              "outlinewidth": 0,
              "ticks": ""
             }
            },
            "type": "scatter3d"
           }
          ],
          "scattercarpet": [
           {
            "marker": {
             "colorbar": {
              "outlinewidth": 0,
              "ticks": ""
             }
            },
            "type": "scattercarpet"
           }
          ],
          "scattergeo": [
           {
            "marker": {
             "colorbar": {
              "outlinewidth": 0,
              "ticks": ""
             }
            },
            "type": "scattergeo"
           }
          ],
          "scattergl": [
           {
            "marker": {
             "colorbar": {
              "outlinewidth": 0,
              "ticks": ""
             }
            },
            "type": "scattergl"
           }
          ],
          "scattermap": [
           {
            "marker": {
             "colorbar": {
              "outlinewidth": 0,
              "ticks": ""
             }
            },
            "type": "scattermap"
           }
          ],
          "scattermapbox": [
           {
            "marker": {
             "colorbar": {
              "outlinewidth": 0,
              "ticks": ""
             }
            },
            "type": "scattermapbox"
           }
          ],
          "scatterpolar": [
           {
            "marker": {
             "colorbar": {
              "outlinewidth": 0,
              "ticks": ""
             }
            },
            "type": "scatterpolar"
           }
          ],
          "scatterpolargl": [
           {
            "marker": {
             "colorbar": {
              "outlinewidth": 0,
              "ticks": ""
             }
            },
            "type": "scatterpolargl"
           }
          ],
          "scatterternary": [
           {
            "marker": {
             "colorbar": {
              "outlinewidth": 0,
              "ticks": ""
             }
            },
            "type": "scatterternary"
           }
          ],
          "surface": [
           {
            "colorbar": {
             "outlinewidth": 0,
             "ticks": ""
            },
            "colorscale": [
             [
              0,
              "#0d0887"
             ],
             [
              0.1111111111111111,
              "#46039f"
             ],
             [
              0.2222222222222222,
              "#7201a8"
             ],
             [
              0.3333333333333333,
              "#9c179e"
             ],
             [
              0.4444444444444444,
              "#bd3786"
             ],
             [
              0.5555555555555556,
              "#d8576b"
             ],
             [
              0.6666666666666666,
              "#ed7953"
             ],
             [
              0.7777777777777778,
              "#fb9f3a"
             ],
             [
              0.8888888888888888,
              "#fdca26"
             ],
             [
              1,
              "#f0f921"
             ]
            ],
            "type": "surface"
           }
          ],
          "table": [
           {
            "cells": {
             "fill": {
              "color": "#EBF0F8"
             },
             "line": {
              "color": "white"
             }
            },
            "header": {
             "fill": {
              "color": "#C8D4E3"
             },
             "line": {
              "color": "white"
             }
            },
            "type": "table"
           }
          ]
         },
         "layout": {
          "annotationdefaults": {
           "arrowcolor": "#2a3f5f",
           "arrowhead": 0,
           "arrowwidth": 1
          },
          "autotypenumbers": "strict",
          "coloraxis": {
           "colorbar": {
            "outlinewidth": 0,
            "ticks": ""
           }
          },
          "colorscale": {
           "diverging": [
            [
             0,
             "#8e0152"
            ],
            [
             0.1,
             "#c51b7d"
            ],
            [
             0.2,
             "#de77ae"
            ],
            [
             0.3,
             "#f1b6da"
            ],
            [
             0.4,
             "#fde0ef"
            ],
            [
             0.5,
             "#f7f7f7"
            ],
            [
             0.6,
             "#e6f5d0"
            ],
            [
             0.7,
             "#b8e186"
            ],
            [
             0.8,
             "#7fbc41"
            ],
            [
             0.9,
             "#4d9221"
            ],
            [
             1,
             "#276419"
            ]
           ],
           "sequential": [
            [
             0,
             "#0d0887"
            ],
            [
             0.1111111111111111,
             "#46039f"
            ],
            [
             0.2222222222222222,
             "#7201a8"
            ],
            [
             0.3333333333333333,
             "#9c179e"
            ],
            [
             0.4444444444444444,
             "#bd3786"
            ],
            [
             0.5555555555555556,
             "#d8576b"
            ],
            [
             0.6666666666666666,
             "#ed7953"
            ],
            [
             0.7777777777777778,
             "#fb9f3a"
            ],
            [
             0.8888888888888888,
             "#fdca26"
            ],
            [
             1,
             "#f0f921"
            ]
           ],
           "sequentialminus": [
            [
             0,
             "#0d0887"
            ],
            [
             0.1111111111111111,
             "#46039f"
            ],
            [
             0.2222222222222222,
             "#7201a8"
            ],
            [
             0.3333333333333333,
             "#9c179e"
            ],
            [
             0.4444444444444444,
             "#bd3786"
            ],
            [
             0.5555555555555556,
             "#d8576b"
            ],
            [
             0.6666666666666666,
             "#ed7953"
            ],
            [
             0.7777777777777778,
             "#fb9f3a"
            ],
            [
             0.8888888888888888,
             "#fdca26"
            ],
            [
             1,
             "#f0f921"
            ]
           ]
          },
          "colorway": [
           "#636efa",
           "#EF553B",
           "#00cc96",
           "#ab63fa",
           "#FFA15A",
           "#19d3f3",
           "#FF6692",
           "#B6E880",
           "#FF97FF",
           "#FECB52"
          ],
          "font": {
           "color": "#2a3f5f"
          },
          "geo": {
           "bgcolor": "white",
           "lakecolor": "white",
           "landcolor": "#E5ECF6",
           "showlakes": true,
           "showland": true,
           "subunitcolor": "white"
          },
          "hoverlabel": {
           "align": "left"
          },
          "hovermode": "closest",
          "mapbox": {
           "style": "light"
          },
          "paper_bgcolor": "white",
          "plot_bgcolor": "#E5ECF6",
          "polar": {
           "angularaxis": {
            "gridcolor": "white",
            "linecolor": "white",
            "ticks": ""
           },
           "bgcolor": "#E5ECF6",
           "radialaxis": {
            "gridcolor": "white",
            "linecolor": "white",
            "ticks": ""
           }
          },
          "scene": {
           "xaxis": {
            "backgroundcolor": "#E5ECF6",
            "gridcolor": "white",
            "gridwidth": 2,
            "linecolor": "white",
            "showbackground": true,
            "ticks": "",
            "zerolinecolor": "white"
           },
           "yaxis": {
            "backgroundcolor": "#E5ECF6",
            "gridcolor": "white",
            "gridwidth": 2,
            "linecolor": "white",
            "showbackground": true,
            "ticks": "",
            "zerolinecolor": "white"
           },
           "zaxis": {
            "backgroundcolor": "#E5ECF6",
            "gridcolor": "white",
            "gridwidth": 2,
            "linecolor": "white",
            "showbackground": true,
            "ticks": "",
            "zerolinecolor": "white"
           }
          },
          "shapedefaults": {
           "line": {
            "color": "#2a3f5f"
           }
          },
          "ternary": {
           "aaxis": {
            "gridcolor": "white",
            "linecolor": "white",
            "ticks": ""
           },
           "baxis": {
            "gridcolor": "white",
            "linecolor": "white",
            "ticks": ""
           },
           "bgcolor": "#E5ECF6",
           "caxis": {
            "gridcolor": "white",
            "linecolor": "white",
            "ticks": ""
           }
          },
          "title": {
           "x": 0.05
          },
          "xaxis": {
           "automargin": true,
           "gridcolor": "white",
           "linecolor": "white",
           "ticks": "",
           "title": {
            "standoff": 15
           },
           "zerolinecolor": "white",
           "zerolinewidth": 2
          },
          "yaxis": {
           "automargin": true,
           "gridcolor": "white",
           "linecolor": "white",
           "ticks": "",
           "title": {
            "standoff": 15
           },
           "zerolinecolor": "white",
           "zerolinewidth": 2
          }
         }
        },
        "title": {
         "text": "Crimes by Type"
        },
        "xaxis": {
         "anchor": "y",
         "domain": [
          0,
          1
         ],
         "tickangle": 0,
         "title": {
          "text": "Primary_Type"
         }
        },
        "yaxis": {
         "anchor": "x",
         "domain": [
          0,
          1
         ],
         "title": {
          "text": "count"
         }
        }
       }
      }
     },
     "metadata": {},
     "output_type": "display_data"
    }
   ],
   "source": [
    "agg_primary_type = df_crimes.groupBy('Primary_Type').count().orderBy(F.desc('count'))\n",
    "agg_primary_type_pd = agg_primary_type.limit(10).toPandas()\n",
    "fig2 = px.bar(agg_primary_type_pd, x='Primary_Type', y='count', title='Crimes by Type')\n",
    "fig2.update_xaxes(tickangle=0)\n",
    "fig2.show()"
   ]
  },
  {
   "cell_type": "markdown",
   "id": "3d000fcb",
   "metadata": {},
   "source": [
    "#### Arrest vs Non-arrest pie-chart"
   ]
  },
  {
   "cell_type": "code",
   "execution_count": null,
   "id": "3f6ab0ec",
   "metadata": {},
   "outputs": [
    {
     "data": {
      "application/vnd.plotly.v1+json": {
       "config": {
        "plotlyServerURL": "https://plot.ly"
       },
       "data": [
        {
         "domain": {
          "x": [
           0,
           1
          ],
          "y": [
           0,
           1
          ]
         },
         "hovertemplate": "Arrest=%{label}<br>count=%{value}<extra></extra>",
         "labels": {
          "bdata": "AQAAAAAAAAA=",
          "dtype": "i4"
         },
         "legendgroup": "",
         "name": "",
         "showlegend": true,
         "type": "pie",
         "values": {
          "bdata": "T9gcABE0VQA=",
          "dtype": "i4"
         }
        }
       ],
       "layout": {
        "legend": {
         "tracegroupgap": 0
        },
        "template": {
         "data": {
          "bar": [
           {
            "error_x": {
             "color": "#2a3f5f"
            },
            "error_y": {
             "color": "#2a3f5f"
            },
            "marker": {
             "line": {
              "color": "#E5ECF6",
              "width": 0.5
             },
             "pattern": {
              "fillmode": "overlay",
              "size": 10,
              "solidity": 0.2
             }
            },
            "type": "bar"
           }
          ],
          "barpolar": [
           {
            "marker": {
             "line": {
              "color": "#E5ECF6",
              "width": 0.5
             },
             "pattern": {
              "fillmode": "overlay",
              "size": 10,
              "solidity": 0.2
             }
            },
            "type": "barpolar"
           }
          ],
          "carpet": [
           {
            "aaxis": {
             "endlinecolor": "#2a3f5f",
             "gridcolor": "white",
             "linecolor": "white",
             "minorgridcolor": "white",
             "startlinecolor": "#2a3f5f"
            },
            "baxis": {
             "endlinecolor": "#2a3f5f",
             "gridcolor": "white",
             "linecolor": "white",
             "minorgridcolor": "white",
             "startlinecolor": "#2a3f5f"
            },
            "type": "carpet"
           }
          ],
          "choropleth": [
           {
            "colorbar": {
             "outlinewidth": 0,
             "ticks": ""
            },
            "type": "choropleth"
           }
          ],
          "contour": [
           {
            "colorbar": {
             "outlinewidth": 0,
             "ticks": ""
            },
            "colorscale": [
             [
              0,
              "#0d0887"
             ],
             [
              0.1111111111111111,
              "#46039f"
             ],
             [
              0.2222222222222222,
              "#7201a8"
             ],
             [
              0.3333333333333333,
              "#9c179e"
             ],
             [
              0.4444444444444444,
              "#bd3786"
             ],
             [
              0.5555555555555556,
              "#d8576b"
             ],
             [
              0.6666666666666666,
              "#ed7953"
             ],
             [
              0.7777777777777778,
              "#fb9f3a"
             ],
             [
              0.8888888888888888,
              "#fdca26"
             ],
             [
              1,
              "#f0f921"
             ]
            ],
            "type": "contour"
           }
          ],
          "contourcarpet": [
           {
            "colorbar": {
             "outlinewidth": 0,
             "ticks": ""
            },
            "type": "contourcarpet"
           }
          ],
          "heatmap": [
           {
            "colorbar": {
             "outlinewidth": 0,
             "ticks": ""
            },
            "colorscale": [
             [
              0,
              "#0d0887"
             ],
             [
              0.1111111111111111,
              "#46039f"
             ],
             [
              0.2222222222222222,
              "#7201a8"
             ],
             [
              0.3333333333333333,
              "#9c179e"
             ],
             [
              0.4444444444444444,
              "#bd3786"
             ],
             [
              0.5555555555555556,
              "#d8576b"
             ],
             [
              0.6666666666666666,
              "#ed7953"
             ],
             [
              0.7777777777777778,
              "#fb9f3a"
             ],
             [
              0.8888888888888888,
              "#fdca26"
             ],
             [
              1,
              "#f0f921"
             ]
            ],
            "type": "heatmap"
           }
          ],
          "histogram": [
           {
            "marker": {
             "pattern": {
              "fillmode": "overlay",
              "size": 10,
              "solidity": 0.2
             }
            },
            "type": "histogram"
           }
          ],
          "histogram2d": [
           {
            "colorbar": {
             "outlinewidth": 0,
             "ticks": ""
            },
            "colorscale": [
             [
              0,
              "#0d0887"
             ],
             [
              0.1111111111111111,
              "#46039f"
             ],
             [
              0.2222222222222222,
              "#7201a8"
             ],
             [
              0.3333333333333333,
              "#9c179e"
             ],
             [
              0.4444444444444444,
              "#bd3786"
             ],
             [
              0.5555555555555556,
              "#d8576b"
             ],
             [
              0.6666666666666666,
              "#ed7953"
             ],
             [
              0.7777777777777778,
              "#fb9f3a"
             ],
             [
              0.8888888888888888,
              "#fdca26"
             ],
             [
              1,
              "#f0f921"
             ]
            ],
            "type": "histogram2d"
           }
          ],
          "histogram2dcontour": [
           {
            "colorbar": {
             "outlinewidth": 0,
             "ticks": ""
            },
            "colorscale": [
             [
              0,
              "#0d0887"
             ],
             [
              0.1111111111111111,
              "#46039f"
             ],
             [
              0.2222222222222222,
              "#7201a8"
             ],
             [
              0.3333333333333333,
              "#9c179e"
             ],
             [
              0.4444444444444444,
              "#bd3786"
             ],
             [
              0.5555555555555556,
              "#d8576b"
             ],
             [
              0.6666666666666666,
              "#ed7953"
             ],
             [
              0.7777777777777778,
              "#fb9f3a"
             ],
             [
              0.8888888888888888,
              "#fdca26"
             ],
             [
              1,
              "#f0f921"
             ]
            ],
            "type": "histogram2dcontour"
           }
          ],
          "mesh3d": [
           {
            "colorbar": {
             "outlinewidth": 0,
             "ticks": ""
            },
            "type": "mesh3d"
           }
          ],
          "parcoords": [
           {
            "line": {
             "colorbar": {
              "outlinewidth": 0,
              "ticks": ""
             }
            },
            "type": "parcoords"
           }
          ],
          "pie": [
           {
            "automargin": true,
            "type": "pie"
           }
          ],
          "scatter": [
           {
            "fillpattern": {
             "fillmode": "overlay",
             "size": 10,
             "solidity": 0.2
            },
            "type": "scatter"
           }
          ],
          "scatter3d": [
           {
            "line": {
             "colorbar": {
              "outlinewidth": 0,
              "ticks": ""
             }
            },
            "marker": {
             "colorbar": {
              "outlinewidth": 0,
              "ticks": ""
             }
            },
            "type": "scatter3d"
           }
          ],
          "scattercarpet": [
           {
            "marker": {
             "colorbar": {
              "outlinewidth": 0,
              "ticks": ""
             }
            },
            "type": "scattercarpet"
           }
          ],
          "scattergeo": [
           {
            "marker": {
             "colorbar": {
              "outlinewidth": 0,
              "ticks": ""
             }
            },
            "type": "scattergeo"
           }
          ],
          "scattergl": [
           {
            "marker": {
             "colorbar": {
              "outlinewidth": 0,
              "ticks": ""
             }
            },
            "type": "scattergl"
           }
          ],
          "scattermap": [
           {
            "marker": {
             "colorbar": {
              "outlinewidth": 0,
              "ticks": ""
             }
            },
            "type": "scattermap"
           }
          ],
          "scattermapbox": [
           {
            "marker": {
             "colorbar": {
              "outlinewidth": 0,
              "ticks": ""
             }
            },
            "type": "scattermapbox"
           }
          ],
          "scatterpolar": [
           {
            "marker": {
             "colorbar": {
              "outlinewidth": 0,
              "ticks": ""
             }
            },
            "type": "scatterpolar"
           }
          ],
          "scatterpolargl": [
           {
            "marker": {
             "colorbar": {
              "outlinewidth": 0,
              "ticks": ""
             }
            },
            "type": "scatterpolargl"
           }
          ],
          "scatterternary": [
           {
            "marker": {
             "colorbar": {
              "outlinewidth": 0,
              "ticks": ""
             }
            },
            "type": "scatterternary"
           }
          ],
          "surface": [
           {
            "colorbar": {
             "outlinewidth": 0,
             "ticks": ""
            },
            "colorscale": [
             [
              0,
              "#0d0887"
             ],
             [
              0.1111111111111111,
              "#46039f"
             ],
             [
              0.2222222222222222,
              "#7201a8"
             ],
             [
              0.3333333333333333,
              "#9c179e"
             ],
             [
              0.4444444444444444,
              "#bd3786"
             ],
             [
              0.5555555555555556,
              "#d8576b"
             ],
             [
              0.6666666666666666,
              "#ed7953"
             ],
             [
              0.7777777777777778,
              "#fb9f3a"
             ],
             [
              0.8888888888888888,
              "#fdca26"
             ],
             [
              1,
              "#f0f921"
             ]
            ],
            "type": "surface"
           }
          ],
          "table": [
           {
            "cells": {
             "fill": {
              "color": "#EBF0F8"
             },
             "line": {
              "color": "white"
             }
            },
            "header": {
             "fill": {
              "color": "#C8D4E3"
             },
             "line": {
              "color": "white"
             }
            },
            "type": "table"
           }
          ]
         },
         "layout": {
          "annotationdefaults": {
           "arrowcolor": "#2a3f5f",
           "arrowhead": 0,
           "arrowwidth": 1
          },
          "autotypenumbers": "strict",
          "coloraxis": {
           "colorbar": {
            "outlinewidth": 0,
            "ticks": ""
           }
          },
          "colorscale": {
           "diverging": [
            [
             0,
             "#8e0152"
            ],
            [
             0.1,
             "#c51b7d"
            ],
            [
             0.2,
             "#de77ae"
            ],
            [
             0.3,
             "#f1b6da"
            ],
            [
             0.4,
             "#fde0ef"
            ],
            [
             0.5,
             "#f7f7f7"
            ],
            [
             0.6,
             "#e6f5d0"
            ],
            [
             0.7,
             "#b8e186"
            ],
            [
             0.8,
             "#7fbc41"
            ],
            [
             0.9,
             "#4d9221"
            ],
            [
             1,
             "#276419"
            ]
           ],
           "sequential": [
            [
             0,
             "#0d0887"
            ],
            [
             0.1111111111111111,
             "#46039f"
            ],
            [
             0.2222222222222222,
             "#7201a8"
            ],
            [
             0.3333333333333333,
             "#9c179e"
            ],
            [
             0.4444444444444444,
             "#bd3786"
            ],
            [
             0.5555555555555556,
             "#d8576b"
            ],
            [
             0.6666666666666666,
             "#ed7953"
            ],
            [
             0.7777777777777778,
             "#fb9f3a"
            ],
            [
             0.8888888888888888,
             "#fdca26"
            ],
            [
             1,
             "#f0f921"
            ]
           ],
           "sequentialminus": [
            [
             0,
             "#0d0887"
            ],
            [
             0.1111111111111111,
             "#46039f"
            ],
            [
             0.2222222222222222,
             "#7201a8"
            ],
            [
             0.3333333333333333,
             "#9c179e"
            ],
            [
             0.4444444444444444,
             "#bd3786"
            ],
            [
             0.5555555555555556,
             "#d8576b"
            ],
            [
             0.6666666666666666,
             "#ed7953"
            ],
            [
             0.7777777777777778,
             "#fb9f3a"
            ],
            [
             0.8888888888888888,
             "#fdca26"
            ],
            [
             1,
             "#f0f921"
            ]
           ]
          },
          "colorway": [
           "#636efa",
           "#EF553B",
           "#00cc96",
           "#ab63fa",
           "#FFA15A",
           "#19d3f3",
           "#FF6692",
           "#B6E880",
           "#FF97FF",
           "#FECB52"
          ],
          "font": {
           "color": "#2a3f5f"
          },
          "geo": {
           "bgcolor": "white",
           "lakecolor": "white",
           "landcolor": "#E5ECF6",
           "showlakes": true,
           "showland": true,
           "subunitcolor": "white"
          },
          "hoverlabel": {
           "align": "left"
          },
          "hovermode": "closest",
          "mapbox": {
           "style": "light"
          },
          "paper_bgcolor": "white",
          "plot_bgcolor": "#E5ECF6",
          "polar": {
           "angularaxis": {
            "gridcolor": "white",
            "linecolor": "white",
            "ticks": ""
           },
           "bgcolor": "#E5ECF6",
           "radialaxis": {
            "gridcolor": "white",
            "linecolor": "white",
            "ticks": ""
           }
          },
          "scene": {
           "xaxis": {
            "backgroundcolor": "#E5ECF6",
            "gridcolor": "white",
            "gridwidth": 2,
            "linecolor": "white",
            "showbackground": true,
            "ticks": "",
            "zerolinecolor": "white"
           },
           "yaxis": {
            "backgroundcolor": "#E5ECF6",
            "gridcolor": "white",
            "gridwidth": 2,
            "linecolor": "white",
            "showbackground": true,
            "ticks": "",
            "zerolinecolor": "white"
           },
           "zaxis": {
            "backgroundcolor": "#E5ECF6",
            "gridcolor": "white",
            "gridwidth": 2,
            "linecolor": "white",
            "showbackground": true,
            "ticks": "",
            "zerolinecolor": "white"
           }
          },
          "shapedefaults": {
           "line": {
            "color": "#2a3f5f"
           }
          },
          "ternary": {
           "aaxis": {
            "gridcolor": "white",
            "linecolor": "white",
            "ticks": ""
           },
           "baxis": {
            "gridcolor": "white",
            "linecolor": "white",
            "ticks": ""
           },
           "bgcolor": "#E5ECF6",
           "caxis": {
            "gridcolor": "white",
            "linecolor": "white",
            "ticks": ""
           }
          },
          "title": {
           "x": 0.05
          },
          "xaxis": {
           "automargin": true,
           "gridcolor": "white",
           "linecolor": "white",
           "ticks": "",
           "title": {
            "standoff": 15
           },
           "zerolinecolor": "white",
           "zerolinewidth": 2
          },
          "yaxis": {
           "automargin": true,
           "gridcolor": "white",
           "linecolor": "white",
           "ticks": "",
           "title": {
            "standoff": 15
           },
           "zerolinecolor": "white",
           "zerolinewidth": 2
          }
         }
        },
        "title": {
         "text": "Arrests vs No Arrests"
        }
       }
      }
     },
     "metadata": {},
     "output_type": "display_data"
    }
   ],
   "source": [
    "agg_arrest = df_crimes.groupBy('Arrest').count()\n",
    "agg_arrest_pd = agg_arrest.toPandas()\n",
    "fig3 = px.pie(agg_arrest_pd, names='Arrest', values='count', title='Arrests vs No Arrests')\n",
    "fig3.show()"
   ]
  },
  {
   "cell_type": "markdown",
   "id": "7665e1f3",
   "metadata": {},
   "source": [
    "#### Arrest by Crime Type"
   ]
  },
  {
   "cell_type": "code",
   "execution_count": null,
   "id": "b9126f8d",
   "metadata": {},
   "outputs": [
    {
     "data": {
      "application/vnd.plotly.v1+json": {
       "config": {
        "plotlyServerURL": "https://plot.ly"
       },
       "data": [
        {
         "hovertemplate": "Arrest=Not Arrested<br>Primary_Type=%{x}<br>count=%{y}<extra></extra>",
         "legendgroup": "Not Arrested",
         "marker": {
          "color": "darkblue",
          "pattern": {
           "shape": ""
          }
         },
         "name": "Not Arrested",
         "orientation": "v",
         "showlegend": true,
         "textposition": "auto",
         "type": "bar",
         "x": [
          "THEFT",
          "NARCOTICS",
          "BATTERY",
          "OTHER OFFENSE",
          "DECEPTIVE PRACTICE",
          "BURGLARY",
          "MOTOR VEHICLE THEFT",
          "CRIMINAL DAMAGE",
          "ASSAULT",
          "ROBBERY"
         ],
         "xaxis": "x",
         "y": {
          "bdata": "NbAVAAATAAABPBAAKNYFAL+CBAALxQUAdEkFAGknDABoAwYAuugDAA==",
          "dtype": "i4"
         },
         "yaxis": "y"
        },
        {
         "hovertemplate": "Arrest=Arrested<br>Primary_Type=%{x}<br>count=%{y}<extra></extra>",
         "legendgroup": "Arrested",
         "marker": {
          "color": "yellow",
          "pattern": {
           "shape": ""
          }
         },
         "name": "Arrested",
         "orientation": "v",
         "showlegend": true,
         "textposition": "auto",
         "type": "bar",
         "x": [
          "THEFT",
          "BURGLARY",
          "MOTOR VEHICLE THEFT",
          "DECEPTIVE PRACTICE",
          "BATTERY",
          "NARCOTICS",
          "OTHER OFFENSE",
          "ROBBERY",
          "ASSAULT",
          "CRIMINAL DAMAGE"
         ],
         "xaxis": "x",
         "y": {
          "bdata": "wY8CAFtYAADNawAA/qAAABWDBACTaQoAez0BAM9kAAB3jAEAXdYAAA==",
          "dtype": "i4"
         },
         "yaxis": "y"
        }
       ],
       "layout": {
        "barmode": "stack",
        "legend": {
         "title": {
          "text": "Arrest"
         },
         "tracegroupgap": 0
        },
        "template": {
         "data": {
          "bar": [
           {
            "error_x": {
             "color": "#2a3f5f"
            },
            "error_y": {
             "color": "#2a3f5f"
            },
            "marker": {
             "line": {
              "color": "#E5ECF6",
              "width": 0.5
             },
             "pattern": {
              "fillmode": "overlay",
              "size": 10,
              "solidity": 0.2
             }
            },
            "type": "bar"
           }
          ],
          "barpolar": [
           {
            "marker": {
             "line": {
              "color": "#E5ECF6",
              "width": 0.5
             },
             "pattern": {
              "fillmode": "overlay",
              "size": 10,
              "solidity": 0.2
             }
            },
            "type": "barpolar"
           }
          ],
          "carpet": [
           {
            "aaxis": {
             "endlinecolor": "#2a3f5f",
             "gridcolor": "white",
             "linecolor": "white",
             "minorgridcolor": "white",
             "startlinecolor": "#2a3f5f"
            },
            "baxis": {
             "endlinecolor": "#2a3f5f",
             "gridcolor": "white",
             "linecolor": "white",
             "minorgridcolor": "white",
             "startlinecolor": "#2a3f5f"
            },
            "type": "carpet"
           }
          ],
          "choropleth": [
           {
            "colorbar": {
             "outlinewidth": 0,
             "ticks": ""
            },
            "type": "choropleth"
           }
          ],
          "contour": [
           {
            "colorbar": {
             "outlinewidth": 0,
             "ticks": ""
            },
            "colorscale": [
             [
              0,
              "#0d0887"
             ],
             [
              0.1111111111111111,
              "#46039f"
             ],
             [
              0.2222222222222222,
              "#7201a8"
             ],
             [
              0.3333333333333333,
              "#9c179e"
             ],
             [
              0.4444444444444444,
              "#bd3786"
             ],
             [
              0.5555555555555556,
              "#d8576b"
             ],
             [
              0.6666666666666666,
              "#ed7953"
             ],
             [
              0.7777777777777778,
              "#fb9f3a"
             ],
             [
              0.8888888888888888,
              "#fdca26"
             ],
             [
              1,
              "#f0f921"
             ]
            ],
            "type": "contour"
           }
          ],
          "contourcarpet": [
           {
            "colorbar": {
             "outlinewidth": 0,
             "ticks": ""
            },
            "type": "contourcarpet"
           }
          ],
          "heatmap": [
           {
            "colorbar": {
             "outlinewidth": 0,
             "ticks": ""
            },
            "colorscale": [
             [
              0,
              "#0d0887"
             ],
             [
              0.1111111111111111,
              "#46039f"
             ],
             [
              0.2222222222222222,
              "#7201a8"
             ],
             [
              0.3333333333333333,
              "#9c179e"
             ],
             [
              0.4444444444444444,
              "#bd3786"
             ],
             [
              0.5555555555555556,
              "#d8576b"
             ],
             [
              0.6666666666666666,
              "#ed7953"
             ],
             [
              0.7777777777777778,
              "#fb9f3a"
             ],
             [
              0.8888888888888888,
              "#fdca26"
             ],
             [
              1,
              "#f0f921"
             ]
            ],
            "type": "heatmap"
           }
          ],
          "histogram": [
           {
            "marker": {
             "pattern": {
              "fillmode": "overlay",
              "size": 10,
              "solidity": 0.2
             }
            },
            "type": "histogram"
           }
          ],
          "histogram2d": [
           {
            "colorbar": {
             "outlinewidth": 0,
             "ticks": ""
            },
            "colorscale": [
             [
              0,
              "#0d0887"
             ],
             [
              0.1111111111111111,
              "#46039f"
             ],
             [
              0.2222222222222222,
              "#7201a8"
             ],
             [
              0.3333333333333333,
              "#9c179e"
             ],
             [
              0.4444444444444444,
              "#bd3786"
             ],
             [
              0.5555555555555556,
              "#d8576b"
             ],
             [
              0.6666666666666666,
              "#ed7953"
             ],
             [
              0.7777777777777778,
              "#fb9f3a"
             ],
             [
              0.8888888888888888,
              "#fdca26"
             ],
             [
              1,
              "#f0f921"
             ]
            ],
            "type": "histogram2d"
           }
          ],
          "histogram2dcontour": [
           {
            "colorbar": {
             "outlinewidth": 0,
             "ticks": ""
            },
            "colorscale": [
             [
              0,
              "#0d0887"
             ],
             [
              0.1111111111111111,
              "#46039f"
             ],
             [
              0.2222222222222222,
              "#7201a8"
             ],
             [
              0.3333333333333333,
              "#9c179e"
             ],
             [
              0.4444444444444444,
              "#bd3786"
             ],
             [
              0.5555555555555556,
              "#d8576b"
             ],
             [
              0.6666666666666666,
              "#ed7953"
             ],
             [
              0.7777777777777778,
              "#fb9f3a"
             ],
             [
              0.8888888888888888,
              "#fdca26"
             ],
             [
              1,
              "#f0f921"
             ]
            ],
            "type": "histogram2dcontour"
           }
          ],
          "mesh3d": [
           {
            "colorbar": {
             "outlinewidth": 0,
             "ticks": ""
            },
            "type": "mesh3d"
           }
          ],
          "parcoords": [
           {
            "line": {
             "colorbar": {
              "outlinewidth": 0,
              "ticks": ""
             }
            },
            "type": "parcoords"
           }
          ],
          "pie": [
           {
            "automargin": true,
            "type": "pie"
           }
          ],
          "scatter": [
           {
            "fillpattern": {
             "fillmode": "overlay",
             "size": 10,
             "solidity": 0.2
            },
            "type": "scatter"
           }
          ],
          "scatter3d": [
           {
            "line": {
             "colorbar": {
              "outlinewidth": 0,
              "ticks": ""
             }
            },
            "marker": {
             "colorbar": {
              "outlinewidth": 0,
              "ticks": ""
             }
            },
            "type": "scatter3d"
           }
          ],
          "scattercarpet": [
           {
            "marker": {
             "colorbar": {
              "outlinewidth": 0,
              "ticks": ""
             }
            },
            "type": "scattercarpet"
           }
          ],
          "scattergeo": [
           {
            "marker": {
             "colorbar": {
              "outlinewidth": 0,
              "ticks": ""
             }
            },
            "type": "scattergeo"
           }
          ],
          "scattergl": [
           {
            "marker": {
             "colorbar": {
              "outlinewidth": 0,
              "ticks": ""
             }
            },
            "type": "scattergl"
           }
          ],
          "scattermap": [
           {
            "marker": {
             "colorbar": {
              "outlinewidth": 0,
              "ticks": ""
             }
            },
            "type": "scattermap"
           }
          ],
          "scattermapbox": [
           {
            "marker": {
             "colorbar": {
              "outlinewidth": 0,
              "ticks": ""
             }
            },
            "type": "scattermapbox"
           }
          ],
          "scatterpolar": [
           {
            "marker": {
             "colorbar": {
              "outlinewidth": 0,
              "ticks": ""
             }
            },
            "type": "scatterpolar"
           }
          ],
          "scatterpolargl": [
           {
            "marker": {
             "colorbar": {
              "outlinewidth": 0,
              "ticks": ""
             }
            },
            "type": "scatterpolargl"
           }
          ],
          "scatterternary": [
           {
            "marker": {
             "colorbar": {
              "outlinewidth": 0,
              "ticks": ""
             }
            },
            "type": "scatterternary"
           }
          ],
          "surface": [
           {
            "colorbar": {
             "outlinewidth": 0,
             "ticks": ""
            },
            "colorscale": [
             [
              0,
              "#0d0887"
             ],
             [
              0.1111111111111111,
              "#46039f"
             ],
             [
              0.2222222222222222,
              "#7201a8"
             ],
             [
              0.3333333333333333,
              "#9c179e"
             ],
             [
              0.4444444444444444,
              "#bd3786"
             ],
             [
              0.5555555555555556,
              "#d8576b"
             ],
             [
              0.6666666666666666,
              "#ed7953"
             ],
             [
              0.7777777777777778,
              "#fb9f3a"
             ],
             [
              0.8888888888888888,
              "#fdca26"
             ],
             [
              1,
              "#f0f921"
             ]
            ],
            "type": "surface"
           }
          ],
          "table": [
           {
            "cells": {
             "fill": {
              "color": "#EBF0F8"
             },
             "line": {
              "color": "white"
             }
            },
            "header": {
             "fill": {
              "color": "#C8D4E3"
             },
             "line": {
              "color": "white"
             }
            },
            "type": "table"
           }
          ]
         },
         "layout": {
          "annotationdefaults": {
           "arrowcolor": "#2a3f5f",
           "arrowhead": 0,
           "arrowwidth": 1
          },
          "autotypenumbers": "strict",
          "coloraxis": {
           "colorbar": {
            "outlinewidth": 0,
            "ticks": ""
           }
          },
          "colorscale": {
           "diverging": [
            [
             0,
             "#8e0152"
            ],
            [
             0.1,
             "#c51b7d"
            ],
            [
             0.2,
             "#de77ae"
            ],
            [
             0.3,
             "#f1b6da"
            ],
            [
             0.4,
             "#fde0ef"
            ],
            [
             0.5,
             "#f7f7f7"
            ],
            [
             0.6,
             "#e6f5d0"
            ],
            [
             0.7,
             "#b8e186"
            ],
            [
             0.8,
             "#7fbc41"
            ],
            [
             0.9,
             "#4d9221"
            ],
            [
             1,
             "#276419"
            ]
           ],
           "sequential": [
            [
             0,
             "#0d0887"
            ],
            [
             0.1111111111111111,
             "#46039f"
            ],
            [
             0.2222222222222222,
             "#7201a8"
            ],
            [
             0.3333333333333333,
             "#9c179e"
            ],
            [
             0.4444444444444444,
             "#bd3786"
            ],
            [
             0.5555555555555556,
             "#d8576b"
            ],
            [
             0.6666666666666666,
             "#ed7953"
            ],
            [
             0.7777777777777778,
             "#fb9f3a"
            ],
            [
             0.8888888888888888,
             "#fdca26"
            ],
            [
             1,
             "#f0f921"
            ]
           ],
           "sequentialminus": [
            [
             0,
             "#0d0887"
            ],
            [
             0.1111111111111111,
             "#46039f"
            ],
            [
             0.2222222222222222,
             "#7201a8"
            ],
            [
             0.3333333333333333,
             "#9c179e"
            ],
            [
             0.4444444444444444,
             "#bd3786"
            ],
            [
             0.5555555555555556,
             "#d8576b"
            ],
            [
             0.6666666666666666,
             "#ed7953"
            ],
            [
             0.7777777777777778,
             "#fb9f3a"
            ],
            [
             0.8888888888888888,
             "#fdca26"
            ],
            [
             1,
             "#f0f921"
            ]
           ]
          },
          "colorway": [
           "#636efa",
           "#EF553B",
           "#00cc96",
           "#ab63fa",
           "#FFA15A",
           "#19d3f3",
           "#FF6692",
           "#B6E880",
           "#FF97FF",
           "#FECB52"
          ],
          "font": {
           "color": "#2a3f5f"
          },
          "geo": {
           "bgcolor": "white",
           "lakecolor": "white",
           "landcolor": "#E5ECF6",
           "showlakes": true,
           "showland": true,
           "subunitcolor": "white"
          },
          "hoverlabel": {
           "align": "left"
          },
          "hovermode": "closest",
          "mapbox": {
           "style": "light"
          },
          "paper_bgcolor": "white",
          "plot_bgcolor": "#E5ECF6",
          "polar": {
           "angularaxis": {
            "gridcolor": "white",
            "linecolor": "white",
            "ticks": ""
           },
           "bgcolor": "#E5ECF6",
           "radialaxis": {
            "gridcolor": "white",
            "linecolor": "white",
            "ticks": ""
           }
          },
          "scene": {
           "xaxis": {
            "backgroundcolor": "#E5ECF6",
            "gridcolor": "white",
            "gridwidth": 2,
            "linecolor": "white",
            "showbackground": true,
            "ticks": "",
            "zerolinecolor": "white"
           },
           "yaxis": {
            "backgroundcolor": "#E5ECF6",
            "gridcolor": "white",
            "gridwidth": 2,
            "linecolor": "white",
            "showbackground": true,
            "ticks": "",
            "zerolinecolor": "white"
           },
           "zaxis": {
            "backgroundcolor": "#E5ECF6",
            "gridcolor": "white",
            "gridwidth": 2,
            "linecolor": "white",
            "showbackground": true,
            "ticks": "",
            "zerolinecolor": "white"
           }
          },
          "shapedefaults": {
           "line": {
            "color": "#2a3f5f"
           }
          },
          "ternary": {
           "aaxis": {
            "gridcolor": "white",
            "linecolor": "white",
            "ticks": ""
           },
           "baxis": {
            "gridcolor": "white",
            "linecolor": "white",
            "ticks": ""
           },
           "bgcolor": "#E5ECF6",
           "caxis": {
            "gridcolor": "white",
            "linecolor": "white",
            "ticks": ""
           }
          },
          "title": {
           "x": 0.05
          },
          "xaxis": {
           "automargin": true,
           "gridcolor": "white",
           "linecolor": "white",
           "ticks": "",
           "title": {
            "standoff": 15
           },
           "zerolinecolor": "white",
           "zerolinewidth": 2
          },
          "yaxis": {
           "automargin": true,
           "gridcolor": "white",
           "linecolor": "white",
           "ticks": "",
           "title": {
            "standoff": 15
           },
           "zerolinecolor": "white",
           "zerolinewidth": 2
          }
         }
        },
        "title": {
         "text": "Top 10 Crime Types and Arrests"
        },
        "xaxis": {
         "anchor": "y",
         "categoryarray": [
          "THEFT",
          "BATTERY",
          "CRIMINAL DAMAGE",
          "NARCOTICS",
          "ASSAULT",
          "OTHER OFFENSE",
          "BURGLARY",
          "MOTOR VEHICLE THEFT",
          "DECEPTIVE PRACTICE",
          "ROBBERY"
         ],
         "categoryorder": "array",
         "domain": [
          0,
          1
         ],
         "tickangle": 0,
         "title": {
          "text": "Primary_Type"
         }
        },
        "yaxis": {
         "anchor": "x",
         "domain": [
          0,
          1
         ],
         "title": {
          "text": "count"
         }
        }
       }
      }
     },
     "metadata": {},
     "output_type": "display_data"
    }
   ],
   "source": [
    "# Получаем топ-10 по типу преступлений\n",
    "top_10_types_df = df_crimes.groupBy('Primary_Type') \\\n",
    "    .count() \\\n",
    "    .orderBy(F.desc('count')) \\\n",
    "    .limit(10)\n",
    "\n",
    "top_10_types = [row['Primary_Type'] for row in top_10_types_df.collect()]\n",
    "\n",
    "# Группировка по типу и аресту\n",
    "agg_arrest_by_type = df_crimes.filter(F.col('Primary_Type').isin(top_10_types)) \\\n",
    "    .groupBy('Primary_Type', 'Arrest') \\\n",
    "    .count()\n",
    "\n",
    "# Преобразуем в pandas\n",
    "agg_arrest_by_type_pd = agg_arrest_by_type.toPandas()\n",
    "\n",
    "# Сортировка категорий вручную\n",
    "total_counts = agg_arrest_by_type_pd.groupby(\"Primary_Type\")[\"count\"].sum().sort_values(ascending=False)\n",
    "sorted_types = total_counts.index.tolist()\n",
    "agg_arrest_by_type_pd[\"Primary_Type\"] = pd.Categorical(\n",
    "    agg_arrest_by_type_pd[\"Primary_Type\"],\n",
    "    categories=sorted_types,\n",
    "    ordered=True\n",
    ")\n",
    "\n",
    "# Преобразуем Arrest в строку для явного управления цветами\n",
    "agg_arrest_by_type_pd[\"Arrest\"] = agg_arrest_by_type_pd[\"Arrest\"].map({0: \"Not Arrested\", 1: \"Arrested\"})\n",
    "\n",
    "# Построение графика\n",
    "fig = px.bar(\n",
    "    agg_arrest_by_type_pd,\n",
    "    x='Primary_Type',\n",
    "    y='count',\n",
    "    color='Arrest',\n",
    "    title='Top 10 Crime Types and Arrests',\n",
    "    barmode='stack',\n",
    "    category_orders={\n",
    "        \"Primary_Type\": sorted_types,\n",
    "        \"Arrest\": [\"Not Arrested\", \"Arrested\"]  # Arrested — наверху\n",
    "    },\n",
    "    color_discrete_map={\n",
    "        \"Arrested\": \"yellow\",\n",
    "        \"Not Arrested\": \"darkblue\"\n",
    "    }\n",
    ")\n",
    "fig.update_xaxes(tickangle=0)\n",
    "fig.show()"
   ]
  },
  {
   "cell_type": "markdown",
   "id": "49ad948e",
   "metadata": {},
   "source": [
    "#### Crimes by hour of day"
   ]
  },
  {
   "cell_type": "code",
   "execution_count": null,
   "id": "ec26473a",
   "metadata": {},
   "outputs": [
    {
     "data": {
      "application/vnd.plotly.v1+json": {
       "config": {
        "plotlyServerURL": "https://plot.ly"
       },
       "data": [
        {
         "hovertemplate": "Hour=%{x}<br>count=%{y}<extra></extra>",
         "legendgroup": "",
         "marker": {
          "color": "#636efa",
          "pattern": {
           "shape": ""
          }
         },
         "name": "",
         "orientation": "v",
         "showlegend": false,
         "textposition": "auto",
         "type": "bar",
         "x": {
          "bdata": "AAAAAAEAAAACAAAAAwAAAAQAAAAFAAAABgAAAAcAAAAIAAAACQAAAAoAAAALAAAADAAAAA0AAAAOAAAADwAAABAAAAARAAAAEgAAABMAAAAUAAAAFQAAABYAAAAXAAAA",
          "dtype": "i4"
         },
         "xaxis": "x",
         "y": {
          "bdata": "SacGAOieAwA0EQMAAX4CALbmAQDvmAEAo9wBAIaiAgBJ4AMA2PQEAAbWBAAnDgUA444GANVjBQDpuAUAgBMGAGjDBQAS2gUARDIGAPRhBgA/VwYAjyMGAAQJBgA5CgUA",
          "dtype": "i4"
         },
         "yaxis": "y"
        }
       ],
       "layout": {
        "barmode": "relative",
        "legend": {
         "tracegroupgap": 0
        },
        "template": {
         "data": {
          "bar": [
           {
            "error_x": {
             "color": "#2a3f5f"
            },
            "error_y": {
             "color": "#2a3f5f"
            },
            "marker": {
             "line": {
              "color": "#E5ECF6",
              "width": 0.5
             },
             "pattern": {
              "fillmode": "overlay",
              "size": 10,
              "solidity": 0.2
             }
            },
            "type": "bar"
           }
          ],
          "barpolar": [
           {
            "marker": {
             "line": {
              "color": "#E5ECF6",
              "width": 0.5
             },
             "pattern": {
              "fillmode": "overlay",
              "size": 10,
              "solidity": 0.2
             }
            },
            "type": "barpolar"
           }
          ],
          "carpet": [
           {
            "aaxis": {
             "endlinecolor": "#2a3f5f",
             "gridcolor": "white",
             "linecolor": "white",
             "minorgridcolor": "white",
             "startlinecolor": "#2a3f5f"
            },
            "baxis": {
             "endlinecolor": "#2a3f5f",
             "gridcolor": "white",
             "linecolor": "white",
             "minorgridcolor": "white",
             "startlinecolor": "#2a3f5f"
            },
            "type": "carpet"
           }
          ],
          "choropleth": [
           {
            "colorbar": {
             "outlinewidth": 0,
             "ticks": ""
            },
            "type": "choropleth"
           }
          ],
          "contour": [
           {
            "colorbar": {
             "outlinewidth": 0,
             "ticks": ""
            },
            "colorscale": [
             [
              0,
              "#0d0887"
             ],
             [
              0.1111111111111111,
              "#46039f"
             ],
             [
              0.2222222222222222,
              "#7201a8"
             ],
             [
              0.3333333333333333,
              "#9c179e"
             ],
             [
              0.4444444444444444,
              "#bd3786"
             ],
             [
              0.5555555555555556,
              "#d8576b"
             ],
             [
              0.6666666666666666,
              "#ed7953"
             ],
             [
              0.7777777777777778,
              "#fb9f3a"
             ],
             [
              0.8888888888888888,
              "#fdca26"
             ],
             [
              1,
              "#f0f921"
             ]
            ],
            "type": "contour"
           }
          ],
          "contourcarpet": [
           {
            "colorbar": {
             "outlinewidth": 0,
             "ticks": ""
            },
            "type": "contourcarpet"
           }
          ],
          "heatmap": [
           {
            "colorbar": {
             "outlinewidth": 0,
             "ticks": ""
            },
            "colorscale": [
             [
              0,
              "#0d0887"
             ],
             [
              0.1111111111111111,
              "#46039f"
             ],
             [
              0.2222222222222222,
              "#7201a8"
             ],
             [
              0.3333333333333333,
              "#9c179e"
             ],
             [
              0.4444444444444444,
              "#bd3786"
             ],
             [
              0.5555555555555556,
              "#d8576b"
             ],
             [
              0.6666666666666666,
              "#ed7953"
             ],
             [
              0.7777777777777778,
              "#fb9f3a"
             ],
             [
              0.8888888888888888,
              "#fdca26"
             ],
             [
              1,
              "#f0f921"
             ]
            ],
            "type": "heatmap"
           }
          ],
          "histogram": [
           {
            "marker": {
             "pattern": {
              "fillmode": "overlay",
              "size": 10,
              "solidity": 0.2
             }
            },
            "type": "histogram"
           }
          ],
          "histogram2d": [
           {
            "colorbar": {
             "outlinewidth": 0,
             "ticks": ""
            },
            "colorscale": [
             [
              0,
              "#0d0887"
             ],
             [
              0.1111111111111111,
              "#46039f"
             ],
             [
              0.2222222222222222,
              "#7201a8"
             ],
             [
              0.3333333333333333,
              "#9c179e"
             ],
             [
              0.4444444444444444,
              "#bd3786"
             ],
             [
              0.5555555555555556,
              "#d8576b"
             ],
             [
              0.6666666666666666,
              "#ed7953"
             ],
             [
              0.7777777777777778,
              "#fb9f3a"
             ],
             [
              0.8888888888888888,
              "#fdca26"
             ],
             [
              1,
              "#f0f921"
             ]
            ],
            "type": "histogram2d"
           }
          ],
          "histogram2dcontour": [
           {
            "colorbar": {
             "outlinewidth": 0,
             "ticks": ""
            },
            "colorscale": [
             [
              0,
              "#0d0887"
             ],
             [
              0.1111111111111111,
              "#46039f"
             ],
             [
              0.2222222222222222,
              "#7201a8"
             ],
             [
              0.3333333333333333,
              "#9c179e"
             ],
             [
              0.4444444444444444,
              "#bd3786"
             ],
             [
              0.5555555555555556,
              "#d8576b"
             ],
             [
              0.6666666666666666,
              "#ed7953"
             ],
             [
              0.7777777777777778,
              "#fb9f3a"
             ],
             [
              0.8888888888888888,
              "#fdca26"
             ],
             [
              1,
              "#f0f921"
             ]
            ],
            "type": "histogram2dcontour"
           }
          ],
          "mesh3d": [
           {
            "colorbar": {
             "outlinewidth": 0,
             "ticks": ""
            },
            "type": "mesh3d"
           }
          ],
          "parcoords": [
           {
            "line": {
             "colorbar": {
              "outlinewidth": 0,
              "ticks": ""
             }
            },
            "type": "parcoords"
           }
          ],
          "pie": [
           {
            "automargin": true,
            "type": "pie"
           }
          ],
          "scatter": [
           {
            "fillpattern": {
             "fillmode": "overlay",
             "size": 10,
             "solidity": 0.2
            },
            "type": "scatter"
           }
          ],
          "scatter3d": [
           {
            "line": {
             "colorbar": {
              "outlinewidth": 0,
              "ticks": ""
             }
            },
            "marker": {
             "colorbar": {
              "outlinewidth": 0,
              "ticks": ""
             }
            },
            "type": "scatter3d"
           }
          ],
          "scattercarpet": [
           {
            "marker": {
             "colorbar": {
              "outlinewidth": 0,
              "ticks": ""
             }
            },
            "type": "scattercarpet"
           }
          ],
          "scattergeo": [
           {
            "marker": {
             "colorbar": {
              "outlinewidth": 0,
              "ticks": ""
             }
            },
            "type": "scattergeo"
           }
          ],
          "scattergl": [
           {
            "marker": {
             "colorbar": {
              "outlinewidth": 0,
              "ticks": ""
             }
            },
            "type": "scattergl"
           }
          ],
          "scattermap": [
           {
            "marker": {
             "colorbar": {
              "outlinewidth": 0,
              "ticks": ""
             }
            },
            "type": "scattermap"
           }
          ],
          "scattermapbox": [
           {
            "marker": {
             "colorbar": {
              "outlinewidth": 0,
              "ticks": ""
             }
            },
            "type": "scattermapbox"
           }
          ],
          "scatterpolar": [
           {
            "marker": {
             "colorbar": {
              "outlinewidth": 0,
              "ticks": ""
             }
            },
            "type": "scatterpolar"
           }
          ],
          "scatterpolargl": [
           {
            "marker": {
             "colorbar": {
              "outlinewidth": 0,
              "ticks": ""
             }
            },
            "type": "scatterpolargl"
           }
          ],
          "scatterternary": [
           {
            "marker": {
             "colorbar": {
              "outlinewidth": 0,
              "ticks": ""
             }
            },
            "type": "scatterternary"
           }
          ],
          "surface": [
           {
            "colorbar": {
             "outlinewidth": 0,
             "ticks": ""
            },
            "colorscale": [
             [
              0,
              "#0d0887"
             ],
             [
              0.1111111111111111,
              "#46039f"
             ],
             [
              0.2222222222222222,
              "#7201a8"
             ],
             [
              0.3333333333333333,
              "#9c179e"
             ],
             [
              0.4444444444444444,
              "#bd3786"
             ],
             [
              0.5555555555555556,
              "#d8576b"
             ],
             [
              0.6666666666666666,
              "#ed7953"
             ],
             [
              0.7777777777777778,
              "#fb9f3a"
             ],
             [
              0.8888888888888888,
              "#fdca26"
             ],
             [
              1,
              "#f0f921"
             ]
            ],
            "type": "surface"
           }
          ],
          "table": [
           {
            "cells": {
             "fill": {
              "color": "#EBF0F8"
             },
             "line": {
              "color": "white"
             }
            },
            "header": {
             "fill": {
              "color": "#C8D4E3"
             },
             "line": {
              "color": "white"
             }
            },
            "type": "table"
           }
          ]
         },
         "layout": {
          "annotationdefaults": {
           "arrowcolor": "#2a3f5f",
           "arrowhead": 0,
           "arrowwidth": 1
          },
          "autotypenumbers": "strict",
          "coloraxis": {
           "colorbar": {
            "outlinewidth": 0,
            "ticks": ""
           }
          },
          "colorscale": {
           "diverging": [
            [
             0,
             "#8e0152"
            ],
            [
             0.1,
             "#c51b7d"
            ],
            [
             0.2,
             "#de77ae"
            ],
            [
             0.3,
             "#f1b6da"
            ],
            [
             0.4,
             "#fde0ef"
            ],
            [
             0.5,
             "#f7f7f7"
            ],
            [
             0.6,
             "#e6f5d0"
            ],
            [
             0.7,
             "#b8e186"
            ],
            [
             0.8,
             "#7fbc41"
            ],
            [
             0.9,
             "#4d9221"
            ],
            [
             1,
             "#276419"
            ]
           ],
           "sequential": [
            [
             0,
             "#0d0887"
            ],
            [
             0.1111111111111111,
             "#46039f"
            ],
            [
             0.2222222222222222,
             "#7201a8"
            ],
            [
             0.3333333333333333,
             "#9c179e"
            ],
            [
             0.4444444444444444,
             "#bd3786"
            ],
            [
             0.5555555555555556,
             "#d8576b"
            ],
            [
             0.6666666666666666,
             "#ed7953"
            ],
            [
             0.7777777777777778,
             "#fb9f3a"
            ],
            [
             0.8888888888888888,
             "#fdca26"
            ],
            [
             1,
             "#f0f921"
            ]
           ],
           "sequentialminus": [
            [
             0,
             "#0d0887"
            ],
            [
             0.1111111111111111,
             "#46039f"
            ],
            [
             0.2222222222222222,
             "#7201a8"
            ],
            [
             0.3333333333333333,
             "#9c179e"
            ],
            [
             0.4444444444444444,
             "#bd3786"
            ],
            [
             0.5555555555555556,
             "#d8576b"
            ],
            [
             0.6666666666666666,
             "#ed7953"
            ],
            [
             0.7777777777777778,
             "#fb9f3a"
            ],
            [
             0.8888888888888888,
             "#fdca26"
            ],
            [
             1,
             "#f0f921"
            ]
           ]
          },
          "colorway": [
           "#636efa",
           "#EF553B",
           "#00cc96",
           "#ab63fa",
           "#FFA15A",
           "#19d3f3",
           "#FF6692",
           "#B6E880",
           "#FF97FF",
           "#FECB52"
          ],
          "font": {
           "color": "#2a3f5f"
          },
          "geo": {
           "bgcolor": "white",
           "lakecolor": "white",
           "landcolor": "#E5ECF6",
           "showlakes": true,
           "showland": true,
           "subunitcolor": "white"
          },
          "hoverlabel": {
           "align": "left"
          },
          "hovermode": "closest",
          "mapbox": {
           "style": "light"
          },
          "paper_bgcolor": "white",
          "plot_bgcolor": "#E5ECF6",
          "polar": {
           "angularaxis": {
            "gridcolor": "white",
            "linecolor": "white",
            "ticks": ""
           },
           "bgcolor": "#E5ECF6",
           "radialaxis": {
            "gridcolor": "white",
            "linecolor": "white",
            "ticks": ""
           }
          },
          "scene": {
           "xaxis": {
            "backgroundcolor": "#E5ECF6",
            "gridcolor": "white",
            "gridwidth": 2,
            "linecolor": "white",
            "showbackground": true,
            "ticks": "",
            "zerolinecolor": "white"
           },
           "yaxis": {
            "backgroundcolor": "#E5ECF6",
            "gridcolor": "white",
            "gridwidth": 2,
            "linecolor": "white",
            "showbackground": true,
            "ticks": "",
            "zerolinecolor": "white"
           },
           "zaxis": {
            "backgroundcolor": "#E5ECF6",
            "gridcolor": "white",
            "gridwidth": 2,
            "linecolor": "white",
            "showbackground": true,
            "ticks": "",
            "zerolinecolor": "white"
           }
          },
          "shapedefaults": {
           "line": {
            "color": "#2a3f5f"
           }
          },
          "ternary": {
           "aaxis": {
            "gridcolor": "white",
            "linecolor": "white",
            "ticks": ""
           },
           "baxis": {
            "gridcolor": "white",
            "linecolor": "white",
            "ticks": ""
           },
           "bgcolor": "#E5ECF6",
           "caxis": {
            "gridcolor": "white",
            "linecolor": "white",
            "ticks": ""
           }
          },
          "title": {
           "x": 0.05
          },
          "xaxis": {
           "automargin": true,
           "gridcolor": "white",
           "linecolor": "white",
           "ticks": "",
           "title": {
            "standoff": 15
           },
           "zerolinecolor": "white",
           "zerolinewidth": 2
          },
          "yaxis": {
           "automargin": true,
           "gridcolor": "white",
           "linecolor": "white",
           "ticks": "",
           "title": {
            "standoff": 15
           },
           "zerolinecolor": "white",
           "zerolinewidth": 2
          }
         }
        },
        "title": {
         "text": "Number of Crimes by Hour"
        },
        "xaxis": {
         "anchor": "y",
         "domain": [
          0,
          1
         ],
         "dtick": 1,
         "tickfont": {
          "size": 10
         },
         "title": {
          "text": "Hour"
         }
        },
        "yaxis": {
         "anchor": "x",
         "domain": [
          0,
          1
         ],
         "title": {
          "text": "count"
         }
        }
       }
      }
     },
     "metadata": {},
     "output_type": "display_data"
    }
   ],
   "source": [
    "agg_by_hour = df_crimes.groupBy('Hour').count().orderBy('Hour')\n",
    "agg_by_hour_pd = agg_by_hour.toPandas()\n",
    "fig = px.bar(agg_by_hour_pd, x='Hour', y='count', title='Number of Crimes by Hour')\n",
    "\n",
    "fig.update_layout(\n",
    "    xaxis=dict(\n",
    "        dtick=1,\n",
    "        tickfont=dict(size=10)\n",
    "    )\n",
    ")\n",
    "\n",
    "fig.show()"
   ]
  },
  {
   "cell_type": "markdown",
   "id": "07f63981",
   "metadata": {},
   "source": [
    "## Saving data"
   ]
  },
  {
   "cell_type": "code",
   "execution_count": null,
   "id": "d3f5f335",
   "metadata": {},
   "outputs": [],
   "source": [
    "# Create a smaller sapling of data and saving it too\n",
    "\n",
    "seed_to_use = 5\n",
    "with_replacement = False\n",
    "sampling_fraction = 0.3\n",
    "df_crimes_small = df_crimes.sample(\n",
    "                        withReplacement=with_replacement,\n",
    "                        fraction=sampling_fraction,\n",
    "                        seed=seed_to_use\n",
    ")\n",
    "\n",
    "df_crimes.write.mode('overwrite').parquet('../Datasets/3_crimes_cleaned')\n",
    "df_crimes_small.write.mode('overwrite').parquet('../Datasets/3_crimes_cleaned_small')"
   ]
  }
 ],
 "metadata": {
  "kernelspec": {
   "display_name": "vscode_pyspark",
   "language": "python",
   "name": "python3"
  },
  "language_info": {
   "codemirror_mode": {
    "name": "ipython",
    "version": 3
   },
   "file_extension": ".py",
   "mimetype": "text/x-python",
   "name": "python",
   "nbconvert_exporter": "python",
   "pygments_lexer": "ipython3",
   "version": "3.11.12"
  }
 },
 "nbformat": 4,
 "nbformat_minor": 5
}
