{
 "cells": [
  {
   "cell_type": "markdown",
   "id": "274861e5",
   "metadata": {},
   "source": [
    "### Downloading dataset"
   ]
  },
  {
   "cell_type": "code",
   "execution_count": 2,
   "id": "14bae09d",
   "metadata": {},
   "outputs": [
    {
     "name": "stdout",
     "output_type": "stream",
     "text": [
      "File ‘../Datasets/3_crimes.csv’ already there; not retrieving.\n"
     ]
    }
   ],
   "source": [
    "!wget -nc -O ../Datasets/3_crimes.csv https://huggingface.co/datasets/gymprathap/Chicago-Crime-Dataset/resolve/main/Crimes_-_2001_to_Present_20240713.csv\n"
   ]
  },
  {
   "cell_type": "markdown",
   "id": "2d888e73",
   "metadata": {},
   "source": [
    "### Spark setup"
   ]
  },
  {
   "cell_type": "code",
   "execution_count": 1,
   "id": "dc391e3c",
   "metadata": {},
   "outputs": [],
   "source": [
    "# Basic imports\n",
    "import pyspark\n",
    "from pyspark.sql import SparkSession\n",
    "import pyspark.sql.functions as F"
   ]
  },
  {
   "cell_type": "code",
   "execution_count": 2,
   "id": "3b60d028",
   "metadata": {},
   "outputs": [],
   "source": [
    "# Build SparkSession\n",
    "spark = SparkSession.builder \\\n",
    "    .appName(\"CrimesFix\") \\\n",
    "    .config(\"spark.driver.memory\", \"8g\") \\\n",
    "    .config(\"spark.executor.memory\", \"8g\") \\\n",
    "    .config(\"spark.sql.shuffle.partitions\", \"16\") \\\n",
    "    .getOrCreate()"
   ]
  },
  {
   "cell_type": "markdown",
   "id": "1afe0ce0",
   "metadata": {},
   "source": [
    "## Inicial data inspection"
   ]
  },
  {
   "cell_type": "markdown",
   "id": "1e5ea3c1",
   "metadata": {},
   "source": [
    "### Importing dataset"
   ]
  },
  {
   "cell_type": "code",
   "execution_count": 4,
   "id": "83ecee2b",
   "metadata": {},
   "outputs": [
    {
     "name": "stdout",
     "output_type": "stream",
     "text": [
      "ID,Case Number,Date,Block,IUCR,Primary Type,Description,Location Description,Arrest,Domestic,Beat,District,Ward,Community Area,FBI Code,X Coordinate,Y Coordinate,Year,Updated On,Latitude,Longitude,Location\n",
      "11037294,JA371270,03/18/2015 12:00:00 PM,0000X W WACKER DR,1153,DECEPTIVE PRACTICE,FINANCIAL IDENTITY THEFT OVER $ 300,BANK,false,false,0111,001,42,32,11,,,2015,08/01/2017 03:52:26 PM,,,\n",
      "11646293,JC213749,12/20/2018 03:00:00 PM,023XX N LOCKWOOD AVE,1154,DECEPTIVE PRACTICE,FINANCIAL IDENTITY THEFT $300 AND UNDER,APARTMENT,false,false,2515,025,36,19,11,,,2018,04/06/2019 04:04:43 PM,,,\n",
      "11645836,JC212333,05/01/2016 12:25:00 AM,055XX S ROCKWELL ST,1153,DECEPTIVE PRACTICE,FINANCIAL IDENTITY THEFT OVER $ 300,,false,false,0824,008,15,63,11,,,2016,04/06/2019 04:04:43 PM,,,\n",
      "11645959,JC211511,12/20/2018 04:00:00 PM,045XX N ALBANY AVE,2820,OTHER OFFENSE,TELEPHONE THREAT,RESIDENCE,false,false,1724,017,33,14,08A,,,2018,04/06/2019 04:04:43 PM,,,\n",
      "11645601,JC212935,06/01/2014 12:01:00 AM,087XX S SANGAMON ST,1153,DECEPTIVE PRACTICE,FINANCIAL IDENTITY THEFT OVER $ 300,RESIDENCE,false,false,2222,022,21,71,11,,,2014,04/06/2019 04:04:43 PM,,,\n",
      "11646166,JC213529,09/01/2018 12:01:00 AM,082XX S INGLESIDE AVE,0810,THEFT,OVER $500,RESIDENCE,false,true,0631,006,8,44,06,,,2018,04/06/2019 04:04:43 PM,,,\n",
      "11645648,JC212959,01/01/2018 08:00:00 AM,024XX N MONITOR AVE,1153,DECEPTIVE PRACTICE,FINANCIAL IDENTITY THEFT OVER $ 300,RESIDENCE,false,false,2515,025,30,19,11,,,2018,04/06/2019 04:04:43 PM,,,\n",
      "11645557,JC212685,04/01/2018 12:01:00 AM,080XX S VERNON AVE,1153,DECEPTIVE PRACTICE,FINANCIAL IDENTITY THEFT OVER $ 300,RESIDENCE,false,false,0631,006,6,44,11,,,2018,04/06/2019 04:04:43 PM,,,\n",
      "11645527,JC212744,02/02/2015 10:00:00 AM,069XX W ARCHER AVE,1153,DECEPTIVE PRACTICE,FINANCIAL IDENTITY THEFT OVER $ 300,OTHER,false,false,0811,008,23,56,11,,,2015,04/06/2019 04:04:43 PM,,,\n"
     ]
    }
   ],
   "source": [
    "# Reading data\n",
    "file_transactions = '/home/jovyan/code/Projecto/Datasets/3_crimes.csv'\n",
    "\n",
    "! head $file_transactions\n",
    "df_crimes = spark.read.csv(file_transactions, header=True, sep=',', inferSchema=True)\n"
   ]
  },
  {
   "cell_type": "markdown",
   "id": "a8597655",
   "metadata": {},
   "source": [
    "### Check top 10 rows of the inicial dataset and atributes' datatypes"
   ]
  },
  {
   "cell_type": "code",
   "execution_count": 5,
   "id": "2b5d5af0",
   "metadata": {},
   "outputs": [
    {
     "name": "stdout",
     "output_type": "stream",
     "text": [
      "+--------+-----------+--------------------+--------------------+----+------------------+--------------------+--------------------+------+--------+----+--------+----+--------------+--------+------------+------------+----+--------------------+--------+---------+--------+\n",
      "|      ID|Case Number|                Date|               Block|IUCR|      Primary Type|         Description|Location Description|Arrest|Domestic|Beat|District|Ward|Community Area|FBI Code|X Coordinate|Y Coordinate|Year|          Updated On|Latitude|Longitude|Location|\n",
      "+--------+-----------+--------------------+--------------------+----+------------------+--------------------+--------------------+------+--------+----+--------+----+--------------+--------+------------+------------+----+--------------------+--------+---------+--------+\n",
      "|11037294|   JA371270|03/18/2015 12:00:...|   0000X W WACKER DR|1153|DECEPTIVE PRACTICE|FINANCIAL IDENTIT...|                BANK| false|   false| 111|       1|  42|            32|      11|        NULL|        NULL|2015|08/01/2017 03:52:...|    NULL|     NULL|    NULL|\n",
      "|11646293|   JC213749|12/20/2018 03:00:...|023XX N LOCKWOOD AVE|1154|DECEPTIVE PRACTICE|FINANCIAL IDENTIT...|           APARTMENT| false|   false|2515|      25|  36|            19|      11|        NULL|        NULL|2018|04/06/2019 04:04:...|    NULL|     NULL|    NULL|\n",
      "|11645836|   JC212333|05/01/2016 12:25:...| 055XX S ROCKWELL ST|1153|DECEPTIVE PRACTICE|FINANCIAL IDENTIT...|                NULL| false|   false| 824|       8|  15|            63|      11|        NULL|        NULL|2016|04/06/2019 04:04:...|    NULL|     NULL|    NULL|\n",
      "|11645959|   JC211511|12/20/2018 04:00:...|  045XX N ALBANY AVE|2820|     OTHER OFFENSE|    TELEPHONE THREAT|           RESIDENCE| false|   false|1724|      17|  33|            14|     08A|        NULL|        NULL|2018|04/06/2019 04:04:...|    NULL|     NULL|    NULL|\n",
      "|11645601|   JC212935|06/01/2014 12:01:...| 087XX S SANGAMON ST|1153|DECEPTIVE PRACTICE|FINANCIAL IDENTIT...|           RESIDENCE| false|   false|2222|      22|  21|            71|      11|        NULL|        NULL|2014|04/06/2019 04:04:...|    NULL|     NULL|    NULL|\n",
      "|11646166|   JC213529|09/01/2018 12:01:...|082XX S INGLESIDE...|0810|             THEFT|           OVER $500|           RESIDENCE| false|    true| 631|       6|   8|            44|      06|        NULL|        NULL|2018|04/06/2019 04:04:...|    NULL|     NULL|    NULL|\n",
      "|11645648|   JC212959|01/01/2018 08:00:...| 024XX N MONITOR AVE|1153|DECEPTIVE PRACTICE|FINANCIAL IDENTIT...|           RESIDENCE| false|   false|2515|      25|  30|            19|      11|        NULL|        NULL|2018|04/06/2019 04:04:...|    NULL|     NULL|    NULL|\n",
      "|11645557|   JC212685|04/01/2018 12:01:...|  080XX S VERNON AVE|1153|DECEPTIVE PRACTICE|FINANCIAL IDENTIT...|           RESIDENCE| false|   false| 631|       6|   6|            44|      11|        NULL|        NULL|2018|04/06/2019 04:04:...|    NULL|     NULL|    NULL|\n",
      "|11645527|   JC212744|02/02/2015 10:00:...|  069XX W ARCHER AVE|1153|DECEPTIVE PRACTICE|FINANCIAL IDENTIT...|               OTHER| false|   false| 811|       8|  23|            56|      11|        NULL|        NULL|2015|04/06/2019 04:04:...|    NULL|     NULL|    NULL|\n",
      "|11645833|   JC213044|05/05/2012 12:25:...|     057XX W OHIO ST|1153|DECEPTIVE PRACTICE|FINANCIAL IDENTIT...|                NULL| false|   false|1511|      15|  29|            25|      11|        NULL|        NULL|2012|04/06/2019 04:04:...|    NULL|     NULL|    NULL|\n",
      "+--------+-----------+--------------------+--------------------+----+------------------+--------------------+--------------------+------+--------+----+--------+----+--------------+--------+------------+------------+----+--------------------+--------+---------+--------+\n",
      "only showing top 10 rows\n",
      "\n",
      "df_crimes - number of rows is 8104658.\n",
      "root\n",
      " |-- ID: integer (nullable = true)\n",
      " |-- Case Number: string (nullable = true)\n",
      " |-- Date: string (nullable = true)\n",
      " |-- Block: string (nullable = true)\n",
      " |-- IUCR: string (nullable = true)\n",
      " |-- Primary Type: string (nullable = true)\n",
      " |-- Description: string (nullable = true)\n",
      " |-- Location Description: string (nullable = true)\n",
      " |-- Arrest: boolean (nullable = true)\n",
      " |-- Domestic: boolean (nullable = true)\n",
      " |-- Beat: integer (nullable = true)\n",
      " |-- District: integer (nullable = true)\n",
      " |-- Ward: integer (nullable = true)\n",
      " |-- Community Area: integer (nullable = true)\n",
      " |-- FBI Code: string (nullable = true)\n",
      " |-- X Coordinate: integer (nullable = true)\n",
      " |-- Y Coordinate: integer (nullable = true)\n",
      " |-- Year: integer (nullable = true)\n",
      " |-- Updated On: string (nullable = true)\n",
      " |-- Latitude: double (nullable = true)\n",
      " |-- Longitude: double (nullable = true)\n",
      " |-- Location: string (nullable = true)\n",
      "\n"
     ]
    }
   ],
   "source": [
    "df_crimes.show(10)\n",
    "print(f'df_crimes - number of rows is {df_crimes.count()    }.')\n",
    "df_crimes.printSchema()"
   ]
  },
  {
   "cell_type": "markdown",
   "id": "66c28a80",
   "metadata": {},
   "source": [
    "### Duplicates and NULLs"
   ]
  },
  {
   "cell_type": "code",
   "execution_count": 6,
   "id": "d5368651",
   "metadata": {},
   "outputs": [
    {
     "name": "stdout",
     "output_type": "stream",
     "text": [
      "df_crimes - number of rows is 8104658; after dropDuplicates() applied would be 8104658.\n"
     ]
    }
   ],
   "source": [
    "# Now let's check the number of duplicated rows\n",
    "print(f'df_crimes - number of rows is {df_crimes.count()  }; after dropDuplicates() applied would be {df_crimes.dropDuplicates().count()   }.')"
   ]
  },
  {
   "cell_type": "code",
   "execution_count": 7,
   "id": "69eaccb5",
   "metadata": {},
   "outputs": [
    {
     "name": "stdout",
     "output_type": "stream",
     "text": [
      "df_crimes - number of rows after dropna(how='any') would be 7399802.\n"
     ]
    }
   ],
   "source": [
    "# Check for null values\n",
    "print(f'''df_crimes - number of rows after dropna(how='any') would be {df_crimes.dropna(how='any').count()     }.''')"
   ]
  },
  {
   "cell_type": "code",
   "execution_count": null,
   "id": "b0a91c7d",
   "metadata": {},
   "outputs": [
    {
     "name": "stdout",
     "output_type": "stream",
     "text": [
      "Checking nulls at each column of df_crimes\n"
     ]
    },
    {
     "data": {
      "text/plain": [
       "{'ID': 0,\n",
       " 'Case Number': 0,\n",
       " 'Date': 0,\n",
       " 'Block': 0,\n",
       " 'IUCR': 0,\n",
       " 'Primary Type': 0,\n",
       " 'Description': 0,\n",
       " 'Location Description': 13257,\n",
       " 'Arrest': 0,\n",
       " 'Domestic': 0,\n",
       " 'Beat': 0,\n",
       " 'District': 47,\n",
       " 'Ward': 614831,\n",
       " 'Community Area': 613455,\n",
       " 'FBI Code': 0,\n",
       " 'X Coordinate': 89642,\n",
       " 'Y Coordinate': 89642,\n",
       " 'Year': 0,\n",
       " 'Updated On': 0,\n",
       " 'Latitude': 89642,\n",
       " 'Longitude': 89642,\n",
       " 'Location': 89642}"
      ]
     },
     "execution_count": 8,
     "metadata": {},
     "output_type": "execute_result"
    }
   ],
   "source": [
    "# There is half a million of nulls in the dataset, so let's check how many nulls are in each column\n",
    "print('Checking nulls at each column of df_crimes')\n",
    "dict_nulls_retail = {col: df_crimes.filter(df_crimes[col].isNull()).count() for col in df_crimes.columns}\n",
    "dict_nulls_retail"
   ]
  },
  {
   "cell_type": "code",
   "execution_count": null,
   "id": "0d98f31e",
   "metadata": {},
   "outputs": [
    {
     "name": "stdout",
     "output_type": "stream",
     "text": [
      "root\n",
      " |-- ID: integer (nullable = true)\n",
      " |-- Case Number: string (nullable = true)\n",
      " |-- Date: string (nullable = true)\n",
      " |-- Block: string (nullable = true)\n",
      " |-- IUCR: string (nullable = true)\n",
      " |-- Primary Type: string (nullable = true)\n",
      " |-- Description: string (nullable = true)\n",
      " |-- Location Description: string (nullable = true)\n",
      " |-- Arrest: boolean (nullable = true)\n",
      " |-- Domestic: boolean (nullable = true)\n",
      " |-- Beat: integer (nullable = true)\n",
      " |-- District: integer (nullable = true)\n",
      " |-- Ward: integer (nullable = true)\n",
      " |-- Community Area: integer (nullable = true)\n",
      " |-- FBI Code: string (nullable = true)\n",
      " |-- Year: integer (nullable = true)\n",
      " |-- Updated On: string (nullable = true)\n",
      "\n"
     ]
    }
   ],
   "source": [
    "#We see that the last 5 columns about location have a lot of nulls, so let's drop them, as they are not useful for our analysis. Because otherwise nulls removing can affect filled rows.\n",
    "\n",
    "# Drop the specified columns from df_crimes\n",
    "columns_to_drop = ['X Coordinate', 'Y Coordinate', 'Latitude', 'Longitude', 'Location']\n",
    "df_crimes = df_crimes.drop(*columns_to_drop)\n",
    "\n",
    "# Verify the remaining columns\n",
    "df_crimes.printSchema()"
   ]
  },
  {
   "cell_type": "code",
   "execution_count": 15,
   "id": "89329373",
   "metadata": {},
   "outputs": [
    {
     "name": "stdout",
     "output_type": "stream",
     "text": [
      "df_crimes - number of rows before 8104658 after dropna(how='any') would be 7475294.\n"
     ]
    }
   ],
   "source": [
    "# Check for null values again\n",
    "print(f'''df_crimes - number of rows before {df_crimes.count()} after dropna(how='any') would be {df_crimes.dropna(how='any').count()     }.''')"
   ]
  },
  {
   "cell_type": "markdown",
   "id": "86f3601b",
   "metadata": {},
   "source": [
    "### Drop null values and make sure everything is clear"
   ]
  },
  {
   "cell_type": "code",
   "execution_count": 17,
   "id": "ea8f6eea",
   "metadata": {},
   "outputs": [],
   "source": [
    "df_crimes = df_crimes.dropna(how='any')"
   ]
  },
  {
   "cell_type": "code",
   "execution_count": null,
   "id": "3783a882",
   "metadata": {},
   "outputs": [
    {
     "name": "stdout",
     "output_type": "stream",
     "text": [
      "Checking nulls at each column of df_crimes\n"
     ]
    },
    {
     "data": {
      "text/plain": [
       "{'ID': 0,\n",
       " 'Case Number': 0,\n",
       " 'Date': 0,\n",
       " 'Block': 0,\n",
       " 'IUCR': 0,\n",
       " 'Primary Type': 0,\n",
       " 'Description': 0,\n",
       " 'Location Description': 0,\n",
       " 'Arrest': 0,\n",
       " 'Domestic': 0,\n",
       " 'Beat': 0,\n",
       " 'District': 0,\n",
       " 'Ward': 0,\n",
       " 'Community Area': 0,\n",
       " 'FBI Code': 0,\n",
       " 'Year': 0,\n",
       " 'Updated On': 0}"
      ]
     },
     "execution_count": 18,
     "metadata": {},
     "output_type": "execute_result"
    }
   ],
   "source": [
    "print('Checking nulls at each column of df_crimes')\n",
    "dict_nulls_retail = {col: df_crimes.filter(df_crimes[col].isNull()).count() for col in df_crimes.columns}\n",
    "dict_nulls_retail"
   ]
  },
  {
   "cell_type": "markdown",
   "id": "423f6ab7",
   "metadata": {},
   "source": [
    "### Unique values"
   ]
  },
  {
   "cell_type": "code",
   "execution_count": 22,
   "id": "a336baa5",
   "metadata": {},
   "outputs": [
    {
     "name": "stdout",
     "output_type": "stream",
     "text": [
      "\n",
      "Uniqueness of values:\n",
      "Column ID has 7475294 unique values out of 7475294 records.\n",
      "Column Case Number has 7474737 unique values out of 7475294 records.\n",
      "Column Date has 3103277 unique values out of 7475294 records.\n",
      "Column Block has 39071 unique values out of 7475294 records.\n",
      "Column IUCR has 404 unique values out of 7475294 records.\n",
      "Column Primary Type has 35 unique values out of 7475294 records.\n",
      "Column Description has 551 unique values out of 7475294 records.\n",
      "Column Location Description has 217 unique values out of 7475294 records.\n",
      "Column Arrest has 2 unique values out of 7475294 records.\n",
      "Column Domestic has 2 unique values out of 7475294 records.\n",
      "Column Beat has 304 unique values out of 7475294 records.\n",
      "Column District has 24 unique values out of 7475294 records.\n",
      "Column Ward has 50 unique values out of 7475294 records.\n",
      "Column Community Area has 78 unique values out of 7475294 records.\n",
      "Column FBI Code has 27 unique values out of 7475294 records.\n",
      "Column Year has 24 unique values out of 7475294 records.\n",
      "Column Updated On has 6364 unique values out of 7475294 records.\n"
     ]
    }
   ],
   "source": [
    "print('\\nUniqueness of values:')\n",
    "number_records = df_crimes.count()\n",
    "cols_interest = df_crimes.columns\n",
    "for cl in cols_interest:\n",
    "    k = df_crimes.select(cl).distinct().count()\n",
    "    print(f'Column {cl} has {k} unique values out of {number_records} records.')"
   ]
  },
  {
   "cell_type": "markdown",
   "id": "95839691",
   "metadata": {},
   "source": [
    "## Attributes review after a data inspection + necessary data transformation"
   ]
  },
  {
   "cell_type": "markdown",
   "id": "2d7774b2",
   "metadata": {},
   "source": [
    "### After a primary review of the variables and cleaning dataset from NULLs, we can execute detailed data exploration and transformation. \n",
    "### Let's break it down by attributes:"
   ]
  },
  {
   "cell_type": "markdown",
   "id": "7a207723",
   "metadata": {},
   "source": [
    "#### ID"
   ]
  },
  {
   "cell_type": "markdown",
   "id": "b7b3f75a",
   "metadata": {},
   "source": [
    "This attribute represents the number of a row. Considering our work as a ML task, we do not need this column, therefore it can be removed."
   ]
  },
  {
   "cell_type": "code",
   "execution_count": 39,
   "id": "5556e30a",
   "metadata": {},
   "outputs": [
    {
     "name": "stdout",
     "output_type": "stream",
     "text": [
      "root\n",
      " |-- Case Number: string (nullable = true)\n",
      " |-- Date: string (nullable = true)\n",
      " |-- Block: string (nullable = true)\n",
      " |-- IUCR: string (nullable = true)\n",
      " |-- Primary Type: string (nullable = true)\n",
      " |-- Description: string (nullable = true)\n",
      " |-- Location Description: string (nullable = true)\n",
      " |-- Arrest: boolean (nullable = true)\n",
      " |-- Domestic: boolean (nullable = true)\n",
      " |-- Beat: integer (nullable = true)\n",
      " |-- District: integer (nullable = true)\n",
      " |-- Ward: integer (nullable = true)\n",
      " |-- Community Area: integer (nullable = true)\n",
      " |-- FBI Code: string (nullable = true)\n",
      " |-- Year: integer (nullable = true)\n",
      " |-- Updated On: string (nullable = true)\n",
      " |-- Timestamp: timestamp (nullable = true)\n",
      " |-- Hour: integer (nullable = true)\n",
      " |-- Minute: integer (nullable = true)\n",
      " |-- Day: integer (nullable = true)\n",
      " |-- Month: integer (nullable = true)\n",
      "\n"
     ]
    }
   ],
   "source": [
    "df_crimes = df_crimes.drop(\"ID\")\n",
    "df_crimes.printSchema()"
   ]
  },
  {
   "cell_type": "markdown",
   "id": "b0df3062",
   "metadata": {},
   "source": [
    "#### Case Number"
   ]
  },
  {
   "cell_type": "markdown",
   "id": "936585d6",
   "metadata": {},
   "source": [
    "This attribute represents the official case number assigned by the police. As we can see, amount of case numbers is lower than the amount of rows, this can happen if:\n",
    "- the same case involves more than one offense;\n",
    "- there are multiple locations or suspects;\n",
    "- there are different actions recorded for the same incident... \n",
    "\n",
    "Although number of them is small, we have to remove all of this cases because we can not review each of them and conclude the reason of duplicated case number.\n",
    "\n",
    "**Therefore, we remove all cases where multiple rows belong to the same Case Number.**\n",
    "**After that we remove this column, because it is irrelevant for the model.**"
   ]
  },
  {
   "cell_type": "code",
   "execution_count": null,
   "id": "e8b86dca",
   "metadata": {},
   "outputs": [
    {
     "name": "stdout",
     "output_type": "stream",
     "text": [
      "Column Case Number has 7474272 unique values out of 7474272 records.\n"
     ]
    }
   ],
   "source": [
    "# First find Case Numbers that occur exactly once\n",
    "case_counts = (\n",
    "    df_crimes\n",
    "    .groupBy(\"Case Number\")\n",
    "    .agg(F.count(\"*\").alias(\"cnt\"))\n",
    "    .filter(\"cnt = 1\")\n",
    "    .select(\"Case Number\")\n",
    ")\n",
    "\n",
    "# Now leave only those strings that refer to unique Case Number\n",
    "df_crimes = df_crimes.join(case_counts, on=\"Case Number\", how=\"inner\")\n",
    "\n",
    "k = df_crimes.select('Case Number').distinct().count()\n",
    "print(f'Column Case Number has {k} unique values out of {number_records} records.')"
   ]
  },
  {
   "cell_type": "code",
   "execution_count": 97,
   "id": "eca444f5",
   "metadata": {},
   "outputs": [],
   "source": [
    "df_crimes = df_crimes.drop('Case Number')"
   ]
  },
  {
   "cell_type": "markdown",
   "id": "8e0296cf",
   "metadata": {},
   "source": [
    "#### Date"
   ]
  },
  {
   "cell_type": "markdown",
   "id": "88ae57e2",
   "metadata": {},
   "source": [
    "This attribute reflects the date and time of the offense in timestamp format. \\\n",
    "This information is very important. However, in order to analyze it, it is necessary to manipulate the data into an acceptable form. \\\n",
    "Let's break the data into pieces of Month, Day, Hour, Minute. Since we have Year column already in the initial dataset, we will move it upfront, so date columns will be placed together. \\\n",
    "After extracting parts of the Date, we can remove this column."
   ]
  },
  {
   "cell_type": "code",
   "execution_count": null,
   "id": "deca9ea0",
   "metadata": {},
   "outputs": [],
   "source": [
    "# Convert the Date column to timestamp and extract components\n",
    "df_crimes = df_crimes.withColumn('Timestamp', F.to_timestamp(df_crimes['Date'], 'MM/dd/yyyy hh:mm:ss a'))\n",
    "df_crimes = df_crimes.withColumn('Hour', F.hour(df_crimes['Timestamp']))\n",
    "df_crimes = df_crimes.withColumn('Minute', F.minute(df_crimes['Timestamp']))\n",
    "df_crimes = df_crimes.withColumn('Day', F.dayofmonth(df_crimes['Timestamp']))\n",
    "df_crimes = df_crimes.withColumn('Month', F.month(df_crimes['Timestamp']))\n",
    "df_crimes = df_crimes.drop('Timestamp')\n",
    "\n",
    "#Make correct column order and removing date\n",
    "desired_order = [\n",
    "    \"Year\", \"Month\", \"Day\", \"Hour\", \"Minute\"\n",
    "]\n",
    "remaining_columns = [col for col in df_crimes.columns if col not in desired_order + [\"Date\"]]\n",
    "new_column_order = desired_order + remaining_columns\n",
    "df_crimes = df_crimes.select(*new_column_order)"
   ]
  },
  {
   "cell_type": "markdown",
   "id": "02b8123d",
   "metadata": {},
   "source": [
    "#### Block"
   ]
  },
  {
   "cell_type": "markdown",
   "id": "9909aa70",
   "metadata": {},
   "source": [
    "The street where the crime occurred, but not the full address - most often rounded up to the nearest block (for example: 010XX W 59TH ST). \\ \n",
    "It was concidered unnecessary to extract something from this attribute and use it, due to its preciseness. For the geographical contextualization, we have other column to consider."
   ]
  },
  {
   "cell_type": "code",
   "execution_count": null,
   "id": "a2ca5cde",
   "metadata": {},
   "outputs": [
    {
     "name": "stdout",
     "output_type": "stream",
     "text": [
      "root\n",
      " |-- Case Number: string (nullable = true)\n",
      " |-- Year: integer (nullable = true)\n",
      " |-- Month: integer (nullable = true)\n",
      " |-- Day: integer (nullable = true)\n",
      " |-- Hour: integer (nullable = true)\n",
      " |-- Minute: integer (nullable = true)\n",
      " |-- IUCR: string (nullable = true)\n",
      " |-- Primary Type: string (nullable = true)\n",
      " |-- Description: string (nullable = true)\n",
      " |-- Location Description: string (nullable = true)\n",
      " |-- Arrest: boolean (nullable = true)\n",
      " |-- Domestic: boolean (nullable = true)\n",
      " |-- Beat: integer (nullable = true)\n",
      " |-- District: integer (nullable = true)\n",
      " |-- Ward: integer (nullable = true)\n",
      " |-- Community Area: integer (nullable = true)\n",
      " |-- FBI Code: string (nullable = true)\n",
      " |-- Updated On: string (nullable = true)\n",
      " |-- Timestamp: timestamp (nullable = true)\n",
      "\n"
     ]
    }
   ],
   "source": [
    "df_crimes = df_crimes.drop('Block')"
   ]
  },
  {
   "cell_type": "markdown",
   "id": "a1bc6278",
   "metadata": {},
   "source": [
    "#### IUCR"
   ]
  },
  {
   "cell_type": "markdown",
   "id": "905f94c1",
   "metadata": {},
   "source": [
    "The code assigned to the type of offense under the Illinois UCR system. \\\n",
    "The attribute fulfills all the requirements of the work, so no manipulation is required."
   ]
  },
  {
   "cell_type": "markdown",
   "id": "311b0833",
   "metadata": {},
   "source": [
    "#### Primary Type"
   ]
  },
  {
   "cell_type": "markdown",
   "id": "0a82afe2",
   "metadata": {},
   "source": [
    "The primary type of crime. We have 35 types in our dataset. \\\n",
    "Have to check the unique values of a column, for contextual understanding of the dataset. \\\n",
    "Then create a numeric interpretation of this categorical attribute."
   ]
  },
  {
   "cell_type": "code",
   "execution_count": null,
   "id": "f6c6d3f1",
   "metadata": {},
   "outputs": [
    {
     "name": "stdout",
     "output_type": "stream",
     "text": [
      "+---------------------------------+\n",
      "|Primary Type                     |\n",
      "+---------------------------------+\n",
      "|OFFENSE INVOLVING CHILDREN       |\n",
      "|HUMAN TRAFFICKING                |\n",
      "|CRIMINAL DAMAGE                  |\n",
      "|PUBLIC PEACE VIOLATION           |\n",
      "|NON-CRIMINAL (SUBJECT SPECIFIED) |\n",
      "|ROBBERY                          |\n",
      "|KIDNAPPING                       |\n",
      "|STALKING                         |\n",
      "|INTIMIDATION                     |\n",
      "|CONCEALED CARRY LICENSE VIOLATION|\n",
      "|HOMICIDE                         |\n",
      "|MOTOR VEHICLE THEFT              |\n",
      "|CRIM SEXUAL ASSAULT              |\n",
      "|LIQUOR LAW VIOLATION             |\n",
      "|THEFT                            |\n",
      "|ASSAULT                          |\n",
      "|PROSTITUTION                     |\n",
      "|WEAPONS VIOLATION                |\n",
      "|INTERFERENCE WITH PUBLIC OFFICER |\n",
      "|GAMBLING                         |\n",
      "|NON - CRIMINAL                   |\n",
      "|BATTERY                          |\n",
      "|OBSCENITY                        |\n",
      "|PUBLIC INDECENCY                 |\n",
      "|DECEPTIVE PRACTICE               |\n",
      "|ARSON                            |\n",
      "|NARCOTICS                        |\n",
      "|BURGLARY                         |\n",
      "|SEX OFFENSE                      |\n",
      "|CRIMINAL SEXUAL ASSAULT          |\n",
      "|RITUALISM                        |\n",
      "|NON-CRIMINAL                     |\n",
      "|CRIMINAL TRESPASS                |\n",
      "|OTHER NARCOTIC VIOLATION         |\n",
      "|OTHER OFFENSE                    |\n",
      "+---------------------------------+\n",
      "\n"
     ]
    }
   ],
   "source": [
    "# Display all types of crimes (35)\n",
    "df_crimes.select(\"Primary Type\").distinct().show(35, truncate=False)"
   ]
  },
  {
   "cell_type": "code",
   "execution_count": null,
   "id": "3ada9b11",
   "metadata": {},
   "outputs": [
    {
     "name": "stdout",
     "output_type": "stream",
     "text": [
      "+-------------------+----------------+\n",
      "|Primary Type       |Primary Type Num|\n",
      "+-------------------+----------------+\n",
      "|NARCOTICS          |3               |\n",
      "|HOMICIDE           |21              |\n",
      "|HOMICIDE           |21              |\n",
      "|HOMICIDE           |21              |\n",
      "|MOTOR VEHICLE THEFT|7               |\n",
      "|BURGLARY           |6               |\n",
      "|MOTOR VEHICLE THEFT|7               |\n",
      "|MOTOR VEHICLE THEFT|7               |\n",
      "|MOTOR VEHICLE THEFT|7               |\n",
      "|THEFT              |0               |\n",
      "+-------------------+----------------+\n",
      "only showing top 10 rows\n",
      "\n"
     ]
    }
   ],
   "source": [
    "from pyspark.ml.feature import StringIndexer\n",
    "# Create an indexer\n",
    "indexer = StringIndexer(inputCol=\"Primary Type\", outputCol=\"Primary Type Num\")\n",
    "# Train the indexer and transform the data\n",
    "df_crimes = indexer.fit(df_crimes).transform(df_crimes)\n",
    "df_crimes = df_crimes.withColumn(\"Primary Type Num\", F.col(\"Primary Type Num\").cast(\"int\"))"
   ]
  },
  {
   "cell_type": "code",
   "execution_count": null,
   "id": "aa4e7c94",
   "metadata": {},
   "outputs": [
    {
     "name": "stdout",
     "output_type": "stream",
     "text": [
      "root\n",
      " |-- Case Number: string (nullable = true)\n",
      " |-- Year: integer (nullable = true)\n",
      " |-- Month: integer (nullable = true)\n",
      " |-- Day: integer (nullable = true)\n",
      " |-- Hour: integer (nullable = true)\n",
      " |-- Minute: integer (nullable = true)\n",
      " |-- Primary Type Num: integer (nullable = true)\n",
      " |-- Primary Type: string (nullable = true)\n",
      " |-- IUCR: string (nullable = true)\n",
      " |-- Description: string (nullable = true)\n",
      " |-- Location Description: string (nullable = true)\n",
      " |-- Arrest: boolean (nullable = true)\n",
      " |-- Domestic: boolean (nullable = true)\n",
      " |-- Beat: integer (nullable = true)\n",
      " |-- District: integer (nullable = true)\n",
      " |-- Ward: integer (nullable = true)\n",
      " |-- Community Area: integer (nullable = true)\n",
      " |-- FBI Code: string (nullable = true)\n",
      " |-- Updated On: string (nullable = true)\n",
      " |-- Timestamp: timestamp (nullable = true)\n",
      "\n"
     ]
    }
   ],
   "source": [
    "#Make correct column order\n",
    "desired_order = [\n",
    "    'Year', 'Month', 'Day', 'Hour', 'Minute', 'Primary Type Num', 'Primary Type'\n",
    "]\n",
    "remaining_columns = [col for col in df_crimes.columns if col not in desired_order]\n",
    "new_column_order = desired_order + remaining_columns\n",
    "df_crimes = df_crimes.select(*new_column_order)\n",
    "df_crimes.printSchema()"
   ]
  },
  {
   "cell_type": "markdown",
   "id": "487644a1",
   "metadata": {},
   "source": [
    "#### Description"
   ]
  },
  {
   "cell_type": "markdown",
   "id": "91e0d215",
   "metadata": {},
   "source": [
    "To understand the data contained in this column, let's first of all check some of unique values"
   ]
  },
  {
   "cell_type": "code",
   "execution_count": 57,
   "id": "e0d518cd",
   "metadata": {},
   "outputs": [
    {
     "name": "stdout",
     "output_type": "stream",
     "text": [
      "+------------------------------+\n",
      "|Description                   |\n",
      "+------------------------------+\n",
      "|DOMESTIC BATTERY SIMPLE       |\n",
      "|UNLAWFUL POSS OF HANDGUN      |\n",
      "|ATT CRIM SEXUAL ABUSE         |\n",
      "|TO RESIDENCE                  |\n",
      "|ATTEMPT ARSON                 |\n",
      "|CRIMINAL TRANSMISSION OF HIV  |\n",
      "|PRO EMP HANDS NO/MIN INJURY   |\n",
      "|UNLAWFUL USE/SALE AIR RIFLE   |\n",
      "|MANU/DELIVER:AMPHETAMINES     |\n",
      "|BOMB THREAT                   |\n",
      "|ENDANGERING LIFE/HEALTH CHILD |\n",
      "|ATTEMPT: ARMED-OTHER DANG WEAP|\n",
      "|BY EXPLOSIVE                  |\n",
      "|ATT: TRUCK, BUS, MOTOR HOME   |\n",
      "|ATT AGG CRIMINAL SEXUAL ABUSE |\n",
      "|FALSE FIRE ALARM              |\n",
      "|OBSTRUCTING SERVICE           |\n",
      "|AGG PRO.EMP: OTHER DANG WEAPON|\n",
      "|AGGRAVATED OF A CHILD         |\n",
      "|UNLAWFUL USE OF A COMPUTER    |\n",
      "+------------------------------+\n",
      "only showing top 20 rows\n",
      "\n"
     ]
    }
   ],
   "source": [
    "df_crimes.select('Description').distinct().show(truncate=False)"
   ]
  },
  {
   "cell_type": "markdown",
   "id": "8db7ef0b",
   "metadata": {},
   "source": [
    "It was decided to exclude the Description column. \\\n",
    "This attribute contains about 551 unique values and represents a refinement to the more generalized attribute Primary Type. \\\n",
    "For this work, it was decided to focus on generalized crime categories. \\"
   ]
  },
  {
   "cell_type": "code",
   "execution_count": 75,
   "id": "30f6006d",
   "metadata": {},
   "outputs": [],
   "source": [
    "df_crimes = df_crimes.drop(\"Description\")"
   ]
  },
  {
   "cell_type": "markdown",
   "id": "e584eda2",
   "metadata": {},
   "source": [
    "#### Location Description"
   ]
  },
  {
   "cell_type": "markdown",
   "id": "c1163516",
   "metadata": {},
   "source": [
    "Where exactly did the crime take place. To clearly understand the attribute, let's check some of unique values"
   ]
  },
  {
   "cell_type": "code",
   "execution_count": 59,
   "id": "f77f603b",
   "metadata": {},
   "outputs": [
    {
     "name": "stdout",
     "output_type": "stream",
     "text": [
      "+-----------------------------------------+\n",
      "|Location Description                     |\n",
      "+-----------------------------------------+\n",
      "|CHA HALLWAY                              |\n",
      "|GAS STATION                              |\n",
      "|CURRENCY EXCHANGE                        |\n",
      "|CTA PLATFORM                             |\n",
      "|SPORTS ARENA/STADIUM                     |\n",
      "|CHURCH / SYNAGOGUE / PLACE OF WORSHIP    |\n",
      "|TAVERN                                   |\n",
      "|AIRPORT PARKING LOT                      |\n",
      "|FARM                                     |\n",
      "|VEHICLE - COMMERCIAL: TROLLEY BUS        |\n",
      "|RESIDENCE                                |\n",
      "|HOUSE                                    |\n",
      "|VEHICLE NON-COMMERCIAL                   |\n",
      "|APPLIANCE STORE                          |\n",
      "|HOSPITAL                                 |\n",
      "|SCHOOL - PRIVATE GROUNDS                 |\n",
      "|OTHER RAILROAD PROPERTY / TRAIN DEPOT    |\n",
      "|CTA PARKING LOT / GARAGE / OTHER PROPERTY|\n",
      "|COLLEGE / UNIVERSITY - RESIDENCE HALL    |\n",
      "|PARKING LOT/GARAGE(NON.RESID.)           |\n",
      "+-----------------------------------------+\n",
      "only showing top 20 rows\n",
      "\n"
     ]
    }
   ],
   "source": [
    "df_crimes.select('Location Description').distinct().show(truncate=False)"
   ]
  },
  {
   "cell_type": "code",
   "execution_count": 71,
   "id": "3cc9768f",
   "metadata": {},
   "outputs": [
    {
     "name": "stdout",
     "output_type": "stream",
     "text": [
      "+--------------------+------------------------+\n",
      "|Location Description|Location Description Num|\n",
      "+--------------------+------------------------+\n",
      "|SIDEWALK            |3                       |\n",
      "|APARTMENT           |2                       |\n",
      "|APARTMENT           |2                       |\n",
      "|CHA STAIRWELL       |172                     |\n",
      "|STREET              |0                       |\n",
      "|OTHER               |4                       |\n",
      "|STREET              |0                       |\n",
      "|STREET              |0                       |\n",
      "|STREET              |0                       |\n",
      "|RESIDENCE           |1                       |\n",
      "+--------------------+------------------------+\n",
      "only showing top 10 rows\n",
      "\n"
     ]
    }
   ],
   "source": [
    "indexer = StringIndexer(\n",
    "    inputCol=\"Location Description\", \n",
    "    outputCol=\"Location Description Num\"\n",
    ")\n",
    "df_crimes = indexer.fit(df_crimes).transform(df_crimes)\n",
    "df_crimes = df_crimes.withColumn(\"Location Description Num\", col(\"Location Description Num\").cast(\"int\"))\n",
    "df_crimes.select(\"Location Description\", \"Location Description Num\").show(10, truncate=False)"
   ]
  },
  {
   "cell_type": "code",
   "execution_count": null,
   "id": "65b07315",
   "metadata": {},
   "outputs": [
    {
     "name": "stdout",
     "output_type": "stream",
     "text": [
      "root\n",
      " |-- Case Number: string (nullable = true)\n",
      " |-- Year: integer (nullable = true)\n",
      " |-- Month: integer (nullable = true)\n",
      " |-- Day: integer (nullable = true)\n",
      " |-- Hour: integer (nullable = true)\n",
      " |-- Minute: integer (nullable = true)\n",
      " |-- Primary Type Num: integer (nullable = true)\n",
      " |-- Primary Type: string (nullable = true)\n",
      " |-- IUCR: string (nullable = true)\n",
      " |-- Location Description Num: integer (nullable = true)\n",
      " |-- Location Description: string (nullable = true)\n",
      " |-- Arrest: boolean (nullable = true)\n",
      " |-- Domestic: boolean (nullable = true)\n",
      " |-- Beat: integer (nullable = true)\n",
      " |-- District: integer (nullable = true)\n",
      " |-- Ward: integer (nullable = true)\n",
      " |-- Community Area: integer (nullable = true)\n",
      " |-- FBI Code: string (nullable = true)\n",
      " |-- Updated On: string (nullable = true)\n",
      "\n"
     ]
    }
   ],
   "source": [
    "#Make correct column order\n",
    "desired_order = [\n",
    "    'Year', 'Month', 'Day', 'Hour', 'Minute', 'Primary Type Num', 'Primary Type', 'IUCR', 'Location Description Num', 'Location Description'\n",
    "]\n",
    "remaining_columns = [col for col in df_crimes.columns if col not in desired_order]\n",
    "new_column_order = desired_order + remaining_columns\n",
    "df_crimes = df_crimes.select(*new_column_order)\n",
    "df_crimes.printSchema()"
   ]
  },
  {
   "cell_type": "markdown",
   "id": "748849c5",
   "metadata": {},
   "source": [
    "#### Arrest"
   ]
  },
  {
   "cell_type": "markdown",
   "id": "e8bb98c3",
   "metadata": {},
   "source": [
    "Boolean column (true/false), indicates whether an arrest was made in this case. \\\n",
    "We need to transform it into a binary column (1/0)"
   ]
  },
  {
   "cell_type": "code",
   "execution_count": null,
   "id": "258fe0c9",
   "metadata": {},
   "outputs": [],
   "source": [
    "# Convert the Boolean column to a binary numeric column (0/1)\n",
    "df_crimes = df_crimes.withColumn(\"Arrest\", F.col(\"Arrest\").cast(\"int\"))"
   ]
  },
  {
   "cell_type": "markdown",
   "id": "3b8a18f4",
   "metadata": {},
   "source": [
    "#### Domestic"
   ]
  },
  {
   "cell_type": "markdown",
   "id": "6f3e1375",
   "metadata": {},
   "source": [
    "Boolean column (true/false), indicates whether the crime is related to domestic violence. \\\n",
    "We need to transform it into a binary column (1/0)"
   ]
  },
  {
   "cell_type": "code",
   "execution_count": 83,
   "id": "e07bcc89",
   "metadata": {},
   "outputs": [],
   "source": [
    "# Convert the Boolean column to a binary numeric column (0/1)\n",
    "df_crimes = df_crimes.withColumn(\"Domestic\", F.col(\"Domestic\").cast(\"int\"))"
   ]
  },
  {
   "cell_type": "code",
   "execution_count": 84,
   "id": "f3f7b97b",
   "metadata": {},
   "outputs": [
    {
     "name": "stdout",
     "output_type": "stream",
     "text": [
      "+-----------+----+-----+---+----+------+----------------+-------------------+----+------------------------+--------------------+------+--------+----+--------+----+--------------+--------+--------------------+----------+\n",
      "|Case Number|Year|Month|Day|Hour|Minute|Primary Type Num|       Primary Type|IUCR|Location Description Num|Location Description|Arrest|Domestic|Beat|District|Ward|Community Area|FBI Code|          Updated On|Arrest_Num|\n",
      "+-----------+----+-----+---+----+------+----------------+-------------------+----+------------------------+--------------------+------+--------+----+--------+----+--------------+--------+--------------------+----------+\n",
      "|  04X245238|2004|   12| 13|  21|    15|               3|          NARCOTICS|2024|                       3|            SIDEWALK|     1|       0|1122|      11|  27|            23|      18|02/28/2018 03:56:...|         1|\n",
      "|    F780368|2018|    3|  3|  13|    25|              21|           HOMICIDE|0110|                       2|           APARTMENT|     1|       0| 212|       2|   4|            35|     01A|09/01/2022 03:42:...|         1|\n",
      "|    G004662|2001|    1|  3|   6|     0|               7|MOTOR VEHICLE THEFT|0910|                       0|              STREET|     0|       0|2533|      25|  37|            25|      07|08/17/2015 03:03:...|         0|\n",
      "|    G015815|2001|    1|  5|  12|     0|               7|MOTOR VEHICLE THEFT|0910|                       0|              STREET|     0|       0|1712|      17|  39|            13|      07|03/31/2006 10:03:...|         0|\n",
      "|    G055003|2001|    1| 26|  22|     0|               7|MOTOR VEHICLE THEFT|0910|                       0|              STREET|     0|       0|1233|      12|  25|            31|      07|03/31/2006 10:03:...|         0|\n",
      "|    G056812|2001|    1| 27|  21|     0|               7|MOTOR VEHICLE THEFT|0910|                       0|              STREET|     0|       0|1414|      14|  35|            22|      07|08/17/2015 03:03:...|         0|\n",
      "|    G070503|2001|    2|  2|   0|     0|               0|              THEFT|0810|                       0|              STREET|     0|       0| 735|       7|  17|            67|      06|02/18/2017 03:47:...|         0|\n",
      "|    G082465|2001|    2|  9|  23|    45|              21|           HOMICIDE|0110|                       2|           APARTMENT|     1|       0| 223|       2|   4|            38|     01A|09/19/2022 03:41:...|         1|\n",
      "|    G100207|2001|    2| 18|  17|    40|               1|            BATTERY|0486|                       0|              STREET|     0|       1| 711|       7|   3|            68|     08B|08/17/2015 03:03:...|         0|\n",
      "|    G100617|2001|    2| 17|  21|     0|               7|MOTOR VEHICLE THEFT|0910|                       0|              STREET|     0|       0|1833|      18|  42|             8|      07|08/17/2015 03:03:...|         0|\n",
      "+-----------+----+-----+---+----+------+----------------+-------------------+----+------------------------+--------------------+------+--------+----+--------+----+--------------+--------+--------------------+----------+\n",
      "only showing top 10 rows\n",
      "\n"
     ]
    }
   ],
   "source": [
    "df_crimes.show(10)"
   ]
  },
  {
   "cell_type": "markdown",
   "id": "99f5be75",
   "metadata": {},
   "source": [
    "#### Beat"
   ]
  },
  {
   "cell_type": "markdown",
   "id": "a03bef52",
   "metadata": {},
   "source": [
    "The smallest unit of a geographic division of the police force.\\\n",
    "Each Beat is part of a specific police district.\\\n",
    "Useful for operational analytics.\\\n",
    "It was decided not to make any manipulations and not to delete the column, as it may play an important role in the model, due to the fact that the operation of different units leads to different outcomes and there may be a pattern in it."
   ]
  },
  {
   "cell_type": "markdown",
   "id": "9dd60daf",
   "metadata": {},
   "source": [
    "#### District, Ward, Community Area"
   ]
  },
  {
   "cell_type": "markdown",
   "id": "1e25ad92",
   "metadata": {},
   "source": [
    "These two geographical features indicate the following context:\\\n",
    "- **District:** Police District. A wider area that includes several Beats.\n",
    "- **Ward:** A political-administrative district of Chicago. Used for municipal government.\n",
    "- **Community Area:** A geographic unit of a city used for city planning.\n",
    "\n",
    "All of the columns remain without any changes."
   ]
  },
  {
   "cell_type": "markdown",
   "id": "b0e0acba",
   "metadata": {},
   "source": [
    "#### FBI Code"
   ]
  },
  {
   "cell_type": "markdown",
   "id": "0ad0fc65",
   "metadata": {},
   "source": [
    "The FBI's categorization of the offense. Provides a standard for comparison with other regions and for aggregating data at the national level.\\\n",
    "Column remain without any changes."
   ]
  },
  {
   "cell_type": "markdown",
   "id": "7c2c3f71",
   "metadata": {},
   "source": [
    "#### Updated On"
   ]
  },
  {
   "cell_type": "markdown",
   "id": "c1a6983f",
   "metadata": {},
   "source": [
    "The date on which the record was updated in the database.\\\n",
    "Column is irrelevant for this work therefore is removed."
   ]
  },
  {
   "cell_type": "code",
   "execution_count": 88,
   "id": "f6e66a34",
   "metadata": {},
   "outputs": [],
   "source": [
    "df_crimes = df_crimes.drop('Updated On')"
   ]
  },
  {
   "cell_type": "markdown",
   "id": "ef95da98",
   "metadata": {},
   "source": [
    "### Quick data check after transformations"
   ]
  },
  {
   "cell_type": "markdown",
   "id": "6fa4491e",
   "metadata": {},
   "source": [
    "#### Unique values and columns list"
   ]
  },
  {
   "cell_type": "code",
   "execution_count": 89,
   "id": "8cf3bebd",
   "metadata": {},
   "outputs": [
    {
     "name": "stdout",
     "output_type": "stream",
     "text": [
      "\n",
      "Uniqueness of values:\n",
      "Column Case Number has 7474272 unique values out of 7474272 records.\n",
      "Column Year has 24 unique values out of 7474272 records.\n",
      "Column Month has 12 unique values out of 7474272 records.\n",
      "Column Day has 31 unique values out of 7474272 records.\n",
      "Column Hour has 24 unique values out of 7474272 records.\n",
      "Column Minute has 60 unique values out of 7474272 records.\n",
      "Column Primary Type Num has 35 unique values out of 7474272 records.\n",
      "Column Primary Type has 35 unique values out of 7474272 records.\n",
      "Column IUCR has 404 unique values out of 7474272 records.\n",
      "Column Location Description Num has 216 unique values out of 7474272 records.\n",
      "Column Location Description has 216 unique values out of 7474272 records.\n",
      "Column Arrest has 2 unique values out of 7474272 records.\n",
      "Column Domestic has 2 unique values out of 7474272 records.\n",
      "Column Beat has 304 unique values out of 7474272 records.\n",
      "Column District has 24 unique values out of 7474272 records.\n",
      "Column Ward has 50 unique values out of 7474272 records.\n",
      "Column Community Area has 78 unique values out of 7474272 records.\n",
      "Column FBI Code has 27 unique values out of 7474272 records.\n",
      "Column Arrest_Num has 2 unique values out of 7474272 records.\n"
     ]
    }
   ],
   "source": [
    "print('\\nUniqueness of values:')\n",
    "number_records = df_crimes.count()\n",
    "cols_interest = df_crimes.columns\n",
    "for cl in cols_interest:\n",
    "    k = df_crimes.select(cl).distinct().count()\n",
    "    print(f'Column {cl} has {k} unique values out of {number_records} records.')"
   ]
  },
  {
   "cell_type": "markdown",
   "id": "2fd621eb",
   "metadata": {},
   "source": [
    "## Data is ready!"
   ]
  },
  {
   "cell_type": "markdown",
   "id": "866db365",
   "metadata": {},
   "source": [
    "## Statistical data exploration"
   ]
  },
  {
   "cell_type": "markdown",
   "id": "bc39bb66",
   "metadata": {},
   "source": [
    "#### Create dataframes containing numerical and categorical attributes"
   ]
  },
  {
   "cell_type": "code",
   "execution_count": 98,
   "id": "56314d04",
   "metadata": {},
   "outputs": [
    {
     "name": "stdout",
     "output_type": "stream",
     "text": [
      "Numerical columns: ['Year', 'Month', 'Day', 'Hour', 'Minute', 'Primary Type Num', 'Location Description Num', 'Arrest', 'Domestic', 'Beat', 'District', 'Ward', 'Community Area']\n",
      "Categorical columns: ['Primary Type', 'IUCR', 'Location Description', 'FBI Code']\n"
     ]
    }
   ],
   "source": [
    "from pyspark.sql.types import NumericType, StringType, BooleanType\n",
    "\n",
    "# Get the schema of the dataframe\n",
    "schema = df_crimes.schema\n",
    "\n",
    "# Identify numerical and categorical columns\n",
    "# (assuming numerical columns are of type NumericType and categorical columns are of type StringType or BooleanType)\n",
    "numerical_columns = [field.name for field in schema if isinstance(field.dataType, NumericType)]\n",
    "categorical_columns = [field.name for field in schema if isinstance(field.dataType, (StringType, BooleanType))]\n",
    "\n",
    "# Form two dataframes\n",
    "numerical_df = df_crimes.select(*numerical_columns)\n",
    "categorical_df = df_crimes.select(*categorical_columns)\n",
    "\n",
    "print(\"Numerical columns:\", numerical_columns)\n",
    "print(\"Categorical columns:\", categorical_columns)"
   ]
  },
  {
   "cell_type": "markdown",
   "id": "8bce58c1",
   "metadata": {},
   "source": [
    "#### Statistics of numerical variables"
   ]
  },
  {
   "cell_type": "code",
   "execution_count": 101,
   "id": "f67d71d0",
   "metadata": {},
   "outputs": [
    {
     "name": "stdout",
     "output_type": "stream",
     "text": [
      "+-------+-----------------+-----------------+------------------+------------------+------------------+------------------+------------------------+-------------------+------------------+------------------+------------------+------------------+------------------+\n",
      "|summary|             Year|            Month|               Day|              Hour|            Minute|  Primary Type Num|Location Description Num|             Arrest|          Domestic|              Beat|          District|              Ward|    Community Area|\n",
      "+-------+-----------------+-----------------+------------------+------------------+------------------+------------------+------------------------+-------------------+------------------+------------------+------------------+------------------+------------------+\n",
      "|  count|          7474272|          7474272|           7474272|           7474272|           7474272|           7474272|                 7474272|            7474272|           7474272|           7474272|           7474272|           7474272|           7474272|\n",
      "|   mean|2011.220748990671|6.599915148926879|15.637586777682161|13.073147190789953|19.640202149453486| 3.734357540105578|       7.705574268637802|0.25291867890277475|0.1731490371236155|1181.3892567731011|11.291907894173507|22.767925224021816|  37.4255087318203|\n",
      "| stddev|6.362273385736702|3.326457810237779| 8.850478500380705| 6.759544124651146|18.532174064331908|3.9850850412328955|      14.407744644988105| 0.4346847662904892|0.3783760922965651| 702.7376076833893| 6.954146860378877|13.851820936234114|21.536972847845313|\n",
      "|    min|             2001|                1|                 1|                 0|                 0|                 0|                       0|                  0|                 0|               111|                 1|                 1|                 0|\n",
      "|    max|             2024|               12|                31|                23|                59|                34|                     215|                  1|                 1|              2535|                31|                50|                77|\n",
      "+-------+-----------------+-----------------+------------------+------------------+------------------+------------------+------------------------+-------------------+------------------+------------------+------------------+------------------+------------------+\n",
      "\n"
     ]
    }
   ],
   "source": [
    "numerical_df.describe().show()"
   ]
  },
  {
   "cell_type": "code",
   "execution_count": null,
   "id": "384afe90",
   "metadata": {},
   "outputs": [],
   "source": [
    "categorical_df.describe().show()"
   ]
  },
  {
   "cell_type": "markdown",
   "id": "1cb1b514",
   "metadata": {},
   "source": []
  },
  {
   "cell_type": "markdown",
   "id": "ccfdb3e9",
   "metadata": {},
   "source": [
    "### Now, for a more in depth analysis"
   ]
  },
  {
   "cell_type": "code",
   "execution_count": 21,
   "id": "ec734336",
   "metadata": {},
   "outputs": [
    {
     "data": {
      "text/plain": [
       "[Row(ID=11037294, Case Number='JA371270', Date='03/18/2015 12:00:00 PM', Block='0000X W WACKER DR', IUCR='1153', Primary Type='DECEPTIVE PRACTICE', Description='FINANCIAL IDENTITY THEFT OVER $ 300', Location Description='BANK', Arrest=False, Domestic=False, Beat=111, District=1, Ward=42, Community Area=32, FBI Code='11', Year=2015, Updated On='08/01/2017 03:52:26 PM'),\n",
       " Row(ID=11646293, Case Number='JC213749', Date='12/20/2018 03:00:00 PM', Block='023XX N LOCKWOOD AVE', IUCR='1154', Primary Type='DECEPTIVE PRACTICE', Description='FINANCIAL IDENTITY THEFT $300 AND UNDER', Location Description='APARTMENT', Arrest=False, Domestic=False, Beat=2515, District=25, Ward=36, Community Area=19, FBI Code='11', Year=2018, Updated On='04/06/2019 04:04:43 PM'),\n",
       " Row(ID=11645959, Case Number='JC211511', Date='12/20/2018 04:00:00 PM', Block='045XX N ALBANY AVE', IUCR='2820', Primary Type='OTHER OFFENSE', Description='TELEPHONE THREAT', Location Description='RESIDENCE', Arrest=False, Domestic=False, Beat=1724, District=17, Ward=33, Community Area=14, FBI Code='08A', Year=2018, Updated On='04/06/2019 04:04:43 PM'),\n",
       " Row(ID=11645601, Case Number='JC212935', Date='06/01/2014 12:01:00 AM', Block='087XX S SANGAMON ST', IUCR='1153', Primary Type='DECEPTIVE PRACTICE', Description='FINANCIAL IDENTITY THEFT OVER $ 300', Location Description='RESIDENCE', Arrest=False, Domestic=False, Beat=2222, District=22, Ward=21, Community Area=71, FBI Code='11', Year=2014, Updated On='04/06/2019 04:04:43 PM'),\n",
       " Row(ID=11646166, Case Number='JC213529', Date='09/01/2018 12:01:00 AM', Block='082XX S INGLESIDE AVE', IUCR='0810', Primary Type='THEFT', Description='OVER $500', Location Description='RESIDENCE', Arrest=False, Domestic=True, Beat=631, District=6, Ward=8, Community Area=44, FBI Code='06', Year=2018, Updated On='04/06/2019 04:04:43 PM'),\n",
       " Row(ID=11645648, Case Number='JC212959', Date='01/01/2018 08:00:00 AM', Block='024XX N MONITOR AVE', IUCR='1153', Primary Type='DECEPTIVE PRACTICE', Description='FINANCIAL IDENTITY THEFT OVER $ 300', Location Description='RESIDENCE', Arrest=False, Domestic=False, Beat=2515, District=25, Ward=30, Community Area=19, FBI Code='11', Year=2018, Updated On='04/06/2019 04:04:43 PM'),\n",
       " Row(ID=11645557, Case Number='JC212685', Date='04/01/2018 12:01:00 AM', Block='080XX S VERNON AVE', IUCR='1153', Primary Type='DECEPTIVE PRACTICE', Description='FINANCIAL IDENTITY THEFT OVER $ 300', Location Description='RESIDENCE', Arrest=False, Domestic=False, Beat=631, District=6, Ward=6, Community Area=44, FBI Code='11', Year=2018, Updated On='04/06/2019 04:04:43 PM'),\n",
       " Row(ID=11645527, Case Number='JC212744', Date='02/02/2015 10:00:00 AM', Block='069XX W ARCHER AVE', IUCR='1153', Primary Type='DECEPTIVE PRACTICE', Description='FINANCIAL IDENTITY THEFT OVER $ 300', Location Description='OTHER', Arrest=False, Domestic=False, Beat=811, District=8, Ward=23, Community Area=56, FBI Code='11', Year=2015, Updated On='04/06/2019 04:04:43 PM'),\n",
       " Row(ID=11645568, Case Number='JC212803', Date='12/18/2018 11:00:00 AM', Block='032XX N WILTON AVE', IUCR='1153', Primary Type='DECEPTIVE PRACTICE', Description='FINANCIAL IDENTITY THEFT OVER $ 300', Location Description='RESIDENCE', Arrest=False, Domestic=False, Beat=1924, District=19, Ward=44, Community Area=6, FBI Code='11', Year=2018, Updated On='04/06/2019 04:04:43 PM'),\n",
       " Row(ID=12045583, Case Number='JD226426', Date='05/07/2020 10:24:00 AM', Block='035XX S INDIANA AVE', IUCR='0820', Primary Type='THEFT', Description='$500 AND UNDER', Location Description='APARTMENT', Arrest=False, Domestic=False, Beat=212, District=2, Ward=3, Community Area=35, FBI Code='06', Year=2020, Updated On='05/14/2020 08:47:15 AM')]"
      ]
     },
     "execution_count": 21,
     "metadata": {},
     "output_type": "execute_result"
    }
   ],
   "source": [
    "#df_crime = spark.read.parquet('../Datasets/3_crimes_cleaned')\n",
    "#df_crime.show(10)\n",
    "\n",
    "df_crimes_cleaned.head(10)"
   ]
  },
  {
   "cell_type": "code",
   "execution_count": 25,
   "id": "03f7a01d",
   "metadata": {},
   "outputs": [
    {
     "name": "stdout",
     "output_type": "stream",
     "text": [
      "+----------------------+\n",
      "|Date                  |\n",
      "+----------------------+\n",
      "|10/16/2021 06:55:00 PM|\n",
      "|08/18/2021 12:00:00 PM|\n",
      "|08/23/2021 02:30:00 PM|\n",
      "|02/01/2022 07:00:00 PM|\n",
      "|10/05/2021 04:55:00 AM|\n",
      "|09/12/2021 02:00:00 AM|\n",
      "|08/07/2021 06:00:00 PM|\n",
      "|11/14/2021 08:01:00 PM|\n",
      "|01/16/2022 05:10:00 PM|\n",
      "|02/15/2022 11:30:00 PM|\n",
      "+----------------------+\n",
      "only showing top 10 rows\n",
      "\n"
     ]
    }
   ],
   "source": [
    "df_crime.select('Date').show(10, truncate=False)"
   ]
  },
  {
   "cell_type": "code",
   "execution_count": null,
   "id": "63ae0912",
   "metadata": {},
   "outputs": [
    {
     "name": "stdout",
     "output_type": "stream",
     "text": [
      "+----------------------+----+------+---+-----+----+\n",
      "|Date                  |Hour|Minute|Day|Month|Year|\n",
      "+----------------------+----+------+---+-----+----+\n",
      "|10/16/2021 06:55:00 PM|18  |55    |16 |10   |2021|\n",
      "|08/18/2021 12:00:00 PM|12  |0     |18 |8    |2021|\n",
      "|08/23/2021 02:30:00 PM|14  |30    |23 |8    |2021|\n",
      "|02/01/2022 07:00:00 PM|19  |0     |1  |2    |2022|\n",
      "|10/05/2021 04:55:00 AM|4   |55    |5  |10   |2021|\n",
      "|09/12/2021 02:00:00 AM|2   |0     |12 |9    |2021|\n",
      "|08/07/2021 06:00:00 PM|18  |0     |7  |8    |2021|\n",
      "|11/14/2021 08:01:00 PM|20  |1     |14 |11   |2021|\n",
      "|01/16/2022 05:10:00 PM|17  |10    |16 |1    |2022|\n",
      "|02/15/2022 11:30:00 PM|23  |30    |15 |2    |2022|\n",
      "+----------------------+----+------+---+-----+----+\n",
      "only showing top 10 rows\n",
      "\n"
     ]
    }
   ],
   "source": [
    "\n",
    "\n",
    "# Convert the Date column to timestamp and extract components\n",
    "df_crime = df_crime.withColumn('Timestamp', F.to_timestamp(df_crime['Date'], 'MM/dd/yyyy hh:mm:ss a'))\n",
    "df_crime = df_crime.withColumn('Hour', F.hour(df_crime['Timestamp']))\n",
    "df_crime = df_crime.withColumn('Minute', F.minute(df_crime['Timestamp']))\n",
    "df_crime = df_crime.withColumn('Day', F.dayofmonth(df_crime['Timestamp']))\n",
    "df_crime = df_crime.withColumn('Month', F.month(df_crime['Timestamp']))\n",
    "\n",
    "# Show the updated DataFrame\n",
    "df_crime.select('Date', 'Hour', 'Minute', 'Day', 'Month').show(10, truncate=False)"
   ]
  },
  {
   "cell_type": "markdown",
   "id": "6f30a58f",
   "metadata": {},
   "source": [
    "### Now we're gonna save the the prepared dataset for the next steps to avoid \"connection refused\" errors down the line"
   ]
  },
  {
   "cell_type": "code",
   "execution_count": null,
   "id": "a7b3cb98",
   "metadata": {},
   "outputs": [],
   "source": [
    "\n",
    "# Create a smaller sapling of data and saving it too\n",
    "\n",
    "seed_to_use = 5\n",
    "with_replacement = False\n",
    "sampling_fraction = 0.3\n",
    "df_crimes_small = df_crimes.sample(\n",
    "                        withReplacement=with_replacement,\n",
    "                        fraction=sampling_fraction,\n",
    "                        seed=seed_to_use\n",
    ")\n",
    "\n",
    "df_crimes.write.mode('overwrite').parquet('../Datasets/3_crimes_cleaned')\n",
    "df_crimes_small.write.mode('overwrite').parquet('../Datasets/3_crimes_cleaned_small')"
   ]
  }
 ],
 "metadata": {
  "kernelspec": {
   "display_name": "vscode_pyspark",
   "language": "python",
   "name": "python3"
  },
  "language_info": {
   "codemirror_mode": {
    "name": "ipython",
    "version": 3
   },
   "file_extension": ".py",
   "mimetype": "text/x-python",
   "name": "python",
   "nbconvert_exporter": "python",
   "pygments_lexer": "ipython3",
   "version": "3.11.12"
  }
 },
 "nbformat": 4,
 "nbformat_minor": 5
}
