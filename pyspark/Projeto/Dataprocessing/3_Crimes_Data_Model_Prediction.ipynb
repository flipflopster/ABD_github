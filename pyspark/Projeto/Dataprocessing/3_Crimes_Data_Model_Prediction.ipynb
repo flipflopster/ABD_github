{
 "cells": [
  {
   "cell_type": "markdown",
   "id": "3ce7ac0a",
   "metadata": {},
   "source": [
    "# Data classification using ML models"
   ]
  },
  {
   "cell_type": "code",
   "execution_count": 58,
   "id": "cb4e1389",
   "metadata": {},
   "outputs": [],
   "source": [
    "# Imports\n",
    "import pyspark\n",
    "from pyspark.sql import SparkSession\n",
    "import pyspark.sql.functions as F\n",
    "import pyspark.sql.types as T\n",
    "\n",
    "from pyspark.ml import Pipeline, PipelineModel\n",
    "from pyspark.ml.stat import Correlation\n",
    "from pyspark.ml.feature import VectorAssembler, StringIndexer, OneHotEncoder\n",
    "from pyspark.ml.classification import LinearSVC, LogisticRegression, GBTClassifier, RandomForestClassifier\n",
    "from pyspark.ml.evaluation import BinaryClassificationEvaluator\n",
    "\n",
    "import pandas as pd\n",
    "import seaborn as sns\n",
    "import matplotlib.pyplot as plt\n",
    "import numpy as np\n"
   ]
  },
  {
   "cell_type": "code",
   "execution_count": 39,
   "id": "4ac9f4fd",
   "metadata": {},
   "outputs": [],
   "source": [
    "# Build SparkSession\n",
    "spark = SparkSession.builder \\\n",
    "    .appName(\"CrimesFix\") \\\n",
    "    .config(\"spark.driver.memory\", \"8g\") \\\n",
    "    .config(\"spark.executor.memory\", \"8g\") \\\n",
    "    .config(\"spark.sql.shuffle.partitions\", \"16\") \\\n",
    "    .getOrCreate()"
   ]
  },
  {
   "cell_type": "code",
   "execution_count": 40,
   "id": "9ed0004b",
   "metadata": {},
   "outputs": [],
   "source": [
    "df_test = spark.read.parquet(\"../Datasets/crimes-small-test\")"
   ]
  },
  {
   "cell_type": "markdown",
   "id": "b65b8334",
   "metadata": {},
   "source": [
    "## Model Evaluation"
   ]
  },
  {
   "cell_type": "markdown",
   "id": "96c8d9c7",
   "metadata": {},
   "source": [
    "### Linear SVM Model"
   ]
  },
  {
   "cell_type": "code",
   "execution_count": 41,
   "id": "ca71ca8f",
   "metadata": {},
   "outputs": [
    {
     "name": "stdout",
     "output_type": "stream",
     "text": [
      "Metric areaUnderROC of the linear model = 0.9021118928128665\n"
     ]
    }
   ],
   "source": [
    "linear_model = PipelineModel.load('model-LinearSVM')\n",
    "\n",
    "df_predictions = linear_model.transform(df_test)\n",
    "\n",
    "df_predictions_eval = df_predictions.select('features', \n",
    "                    'rawPrediction', 'prediction', 'Arrest')\n",
    "\n",
    "binary_evaluator = BinaryClassificationEvaluator(labelCol='Arrest',\n",
    "                                                rawPredictionCol='rawPrediction',\n",
    "                                                metricName='areaUnderROC')\n",
    "    \n",
    "area_under_ROC_linear = binary_evaluator.evaluate(df_predictions_eval)\n",
    "\n",
    "# Print out result\n",
    "print(f'Metric areaUnderROC of the linear model = {area_under_ROC_linear}')"
   ]
  },
  {
   "cell_type": "code",
   "execution_count": 42,
   "id": "38926aa3",
   "metadata": {},
   "outputs": [
    {
     "name": "stdout",
     "output_type": "stream",
     "text": [
      "+----------+------+------+\n",
      "|prediction|Arrest| count|\n",
      "+----------+------+------+\n",
      "|       0.0|     0|491830|\n",
      "|       1.0|     1|110874|\n",
      "|       1.0|     0| 41804|\n",
      "|       0.0|     1| 45624|\n",
      "+----------+------+------+\n",
      "\n"
     ]
    }
   ],
   "source": [
    "# Counting of the kind of predictions made\n",
    "df_confusion_matrix = df_predictions_eval.groupBy('prediction', 'Arrest').count()\n",
    "df_confusion_matrix.show()"
   ]
  },
  {
   "cell_type": "code",
   "execution_count": 43,
   "id": "a6ba4c3b",
   "metadata": {},
   "outputs": [
    {
     "name": "stdout",
     "output_type": "stream",
     "text": [
      "\n",
      "Confusion Matrix:\n",
      "\n",
      "+-----------------------------------+\n",
      "|               | Pred 0  | Pred 1  |\n",
      "+-----------------------------------+\n",
      "|    True 0     | 491830  |  41804  |\n",
      "+-----------------------------------+\n",
      "|    True 1     |  45624  | 110874  |\n",
      "+-----------------------------------+\n"
     ]
    }
   ],
   "source": [
    "# Compute the confusion matrix\n",
    "tp = df_confusion_matrix.filter((F.col('prediction')==1.0) & (F.col('Arrest')==1)).first()\n",
    "tn = df_confusion_matrix.filter((F.col('prediction')==0.0) & (F.col('Arrest')==0)).first()\n",
    "fp = df_confusion_matrix.filter((F.col('prediction')==1.0) & (F.col('Arrest')==0)).first()\n",
    "fn = df_confusion_matrix.filter((F.col('prediction')==0.0) & (F.col('Arrest')==1)).first()\n",
    "\n",
    "confmat = {'TP': 0.0, 'TN': 0.0, 'FP': 0.0, 'FN': 0.0}\n",
    "if (tp):\n",
    "    confmat['TP'] = tp['count'] * 1.0\n",
    "if (tn):\n",
    "    confmat['TN'] = tn['count'] * 1.0\n",
    "if (fp):\n",
    "    confmat['FP'] = fp['count'] * 1.0\n",
    "if (fn):\n",
    "    confmat['FN'] = fn['count'] * 1.0\n",
    "\n",
    "# Printing the matrix\n",
    "print(\"\\nConfusion Matrix:\\n\")\n",
    "print(\"+\" + \"-\" * 35 + \"+\")\n",
    "print(\"|{:^15}|{:^9}|{:^9}|\".format(\"\", \"Pred 0\", \"Pred 1\"))\n",
    "print(\"+\" + \"-\" * 35 + \"+\")\n",
    "print(\"|{:^15}|{:^9}|{:^9}|\".format(\"True 0\", int(confmat['TN']), int(confmat['FP'])))\n",
    "print(\"+\" + \"-\" * 35 + \"+\")\n",
    "print(\"|{:^15}|{:^9}|{:^9}|\".format(\"True 1\", int(confmat['FN']), int(confmat['TP'])))\n",
    "print(\"+\" + \"-\" * 35 + \"+\")"
   ]
  },
  {
   "cell_type": "code",
   "execution_count": 44,
   "id": "9632324c",
   "metadata": {},
   "outputs": [
    {
     "name": "stdout",
     "output_type": "stream",
     "text": [
      "All evaluation metrics (rounded to 4 digits):\n",
      " Metric areaUnderROC of the Linear SVM Model = 0.9021\n",
      " Linear Accuracy = 0.8733\n",
      " Linear Precision = 0.7262\n",
      " Linear Recall = 0.7085\n",
      " Linear Specificity = 0.9217\n",
      " Linear F1 score = 0.7172\n"
     ]
    }
   ],
   "source": [
    "# Based on the confusion matrix, computed the evaluation matrics:\n",
    "#   accuracy, precision, recall, specifity and F1 score\n",
    "\n",
    "# PS: Check divisons by 0.0\n",
    "TP = confmat['TP']\n",
    "TN = confmat['TN']\n",
    "FP = confmat['FP']\n",
    "FN = confmat['FN']\n",
    "\n",
    "accuracy_linear = (TP + TN) / (TP + TN + FP + FN) if (TP + TN + FP + FN) > 0 else 0.0\n",
    "precision_linear = TP / (TP + FP) if (TP + FP) > 0 else 0.0\n",
    "recall_linear = TP / (TP + FN) if (TP + FN) > 0 else 0.0\n",
    "specifiсity_linear = TN / (TN + FP) if (TN + FP) > 0 else 0.0\n",
    "f1score_linear = 2 * precision_linear * recall_linear / (precision_linear + recall_linear) if (precision_linear + recall_linear) > 0 else 0.0\n",
    "\n",
    "print('All evaluation metrics (rounded to 4 digits):')\n",
    "print(f' Metric areaUnderROC of the Linear SVM Model = {round(area_under_ROC_linear, 4)}')\n",
    "print(f' Linear Accuracy = {round(accuracy_linear, 4)}')\n",
    "print(f' Linear Precision = {round(precision_linear, 4)}')\n",
    "print(f' Linear Recall = {round(recall_linear, 4)}')\n",
    "print(f' Linear Specificity = {round(specifiсity_linear, 4)}')\n",
    "print(f' Linear F1 score = {round(f1score_linear, 4)}')"
   ]
  },
  {
   "cell_type": "markdown",
   "id": "55bc5e42",
   "metadata": {},
   "source": [
    "### Logistic Regression Classifier"
   ]
  },
  {
   "cell_type": "code",
   "execution_count": 45,
   "id": "62e4a83b",
   "metadata": {},
   "outputs": [
    {
     "name": "stdout",
     "output_type": "stream",
     "text": [
      "Metric areaUnderROC of the Logistic Regression model = 0.9098001675270245\n"
     ]
    }
   ],
   "source": [
    "model_logreg = PipelineModel.load('model-LogReg')\n",
    "\n",
    "df_predictions = model_logreg.transform(df_test)\n",
    "\n",
    "df_predictions_eval = df_predictions.select('features', \n",
    "                    'rawPrediction', 'prediction', 'Arrest')\n",
    "\n",
    "binary_evaluator = BinaryClassificationEvaluator(labelCol='Arrest',\n",
    "                                                rawPredictionCol='rawPrediction',\n",
    "                                                metricName='areaUnderROC')\n",
    "    \n",
    "area_under_ROC_logreg = binary_evaluator.evaluate(df_predictions_eval)\n",
    "\n",
    "# Print out result\n",
    "print(f'Metric areaUnderROC of the Logistic Regression model = {area_under_ROC_logreg}')"
   ]
  },
  {
   "cell_type": "code",
   "execution_count": 46,
   "id": "876de105",
   "metadata": {},
   "outputs": [
    {
     "name": "stdout",
     "output_type": "stream",
     "text": [
      "+----------+------+------+\n",
      "|prediction|Arrest| count|\n",
      "+----------+------+------+\n",
      "|       0.0|     0|471129|\n",
      "|       1.0|     1|118934|\n",
      "|       1.0|     0| 62505|\n",
      "|       0.0|     1| 37564|\n",
      "+----------+------+------+\n",
      "\n"
     ]
    }
   ],
   "source": [
    "# Counting of the kind of predictions made\n",
    "df_confusion_matrix = df_predictions_eval.groupBy('prediction', 'Arrest').count()\n",
    "df_confusion_matrix.show()"
   ]
  },
  {
   "cell_type": "code",
   "execution_count": 47,
   "id": "d3370d9c",
   "metadata": {},
   "outputs": [
    {
     "name": "stdout",
     "output_type": "stream",
     "text": [
      "\n",
      "Confusion Matrix:\n",
      "\n",
      "+-----------------------------------+\n",
      "|               | Pred 0  | Pred 1  |\n",
      "+-----------------------------------+\n",
      "|    True 0     | 471129  |  62505  |\n",
      "+-----------------------------------+\n",
      "|    True 1     |  37564  | 118934  |\n",
      "+-----------------------------------+\n"
     ]
    }
   ],
   "source": [
    "# Compute the confusion matrix\n",
    "tp = df_confusion_matrix.filter((F.col('prediction')==1.0) & (F.col('Arrest')==1)).first()\n",
    "tn = df_confusion_matrix.filter((F.col('prediction')==0.0) & (F.col('Arrest')==0)).first()\n",
    "fp = df_confusion_matrix.filter((F.col('prediction')==1.0) & (F.col('Arrest')==0)).first()\n",
    "fn = df_confusion_matrix.filter((F.col('prediction')==0.0) & (F.col('Arrest')==1)).first()\n",
    "\n",
    "confmat = {'TP': 0.0, 'TN': 0.0, 'FP': 0.0, 'FN': 0.0}\n",
    "if (tp):\n",
    "    confmat['TP'] = tp['count'] * 1.0\n",
    "if (tn):\n",
    "    confmat['TN'] = tn['count'] * 1.0\n",
    "if (fp):\n",
    "    confmat['FP'] = fp['count'] * 1.0\n",
    "if (fn):\n",
    "    confmat['FN'] = fn['count'] * 1.0\n",
    "\n",
    "# Printing the matrix\n",
    "print(\"\\nConfusion Matrix:\\n\")\n",
    "print(\"+\" + \"-\" * 35 + \"+\")\n",
    "print(\"|{:^15}|{:^9}|{:^9}|\".format(\"\", \"Pred 0\", \"Pred 1\"))\n",
    "print(\"+\" + \"-\" * 35 + \"+\")\n",
    "print(\"|{:^15}|{:^9}|{:^9}|\".format(\"True 0\", int(confmat['TN']), int(confmat['FP'])))\n",
    "print(\"+\" + \"-\" * 35 + \"+\")\n",
    "print(\"|{:^15}|{:^9}|{:^9}|\".format(\"True 1\", int(confmat['FN']), int(confmat['TP'])))\n",
    "print(\"+\" + \"-\" * 35 + \"+\")"
   ]
  },
  {
   "cell_type": "code",
   "execution_count": 48,
   "id": "18d7b84d",
   "metadata": {},
   "outputs": [
    {
     "name": "stdout",
     "output_type": "stream",
     "text": [
      "All evaluation metrics (rounded to 4 digits):\n",
      " Metric areaUnderROC of the Logistic Regression Model = 0.9098\n",
      " Linear Accuracy = 0.855\n",
      " Linear Precision = 0.6555\n",
      " Linear Recall = 0.76\n",
      " Linear Specificity = 0.8829\n",
      " Linear F1 score = 0.7039\n"
     ]
    }
   ],
   "source": [
    "# Based on the confusion matrix, computed the evaluation matrics:\n",
    "#   accuracy, precision, recall, specifity and F1 score\n",
    "\n",
    "# PS: Check divisons by 0.0\n",
    "TP = confmat['TP']\n",
    "TN = confmat['TN']\n",
    "FP = confmat['FP']\n",
    "FN = confmat['FN']\n",
    "\n",
    "accuracy_logreg = (TP + TN) / (TP + TN + FP + FN) if (TP + TN + FP + FN) > 0 else 0.0\n",
    "precision_logreg = TP / (TP + FP) if (TP + FP) > 0 else 0.0\n",
    "recall_logreg = TP / (TP + FN) if (TP + FN) > 0 else 0.0\n",
    "specifiсity_logreg = TN / (TN + FP) if (TN + FP) > 0 else 0.0\n",
    "f1score_logreg = 2 * precision_logreg * recall_logreg / (precision_logreg + recall_logreg) if (precision_logreg + recall_logreg) > 0 else 0.0\n",
    "\n",
    "print('All evaluation metrics (rounded to 4 digits):')\n",
    "print(f' Metric areaUnderROC of the Logistic Regression Model = {round(area_under_ROC_logreg, 4)}')\n",
    "print(f' Linear Accuracy = {round(accuracy_logreg, 4)}')\n",
    "print(f' Linear Precision = {round(precision_logreg, 4)}')\n",
    "print(f' Linear Recall = {round(recall_logreg, 4)}')\n",
    "print(f' Linear Specificity = {round(specifiсity_logreg, 4)}')\n",
    "print(f' Linear F1 score = {round(f1score_logreg, 4)}')"
   ]
  },
  {
   "cell_type": "markdown",
   "id": "23e4f46a",
   "metadata": {},
   "source": [
    "### Random Forest Classifier"
   ]
  },
  {
   "cell_type": "code",
   "execution_count": 49,
   "id": "cb014b9e",
   "metadata": {},
   "outputs": [
    {
     "name": "stdout",
     "output_type": "stream",
     "text": [
      "Metric areaUnderROC of the Random Forest model = 0.8761805604252068\n"
     ]
    }
   ],
   "source": [
    "model_rf = PipelineModel.load('model-RandomForest')\n",
    "\n",
    "df_predictions = model_rf.transform(df_test)\n",
    "\n",
    "df_predictions_eval = df_predictions.select('features', \n",
    "                    'rawPrediction', 'prediction', 'Arrest')\n",
    "\n",
    "binary_evaluator = BinaryClassificationEvaluator(labelCol='Arrest',\n",
    "                                                rawPredictionCol='rawPrediction',\n",
    "                                                metricName='areaUnderROC')\n",
    "    \n",
    "area_under_ROC_rf = binary_evaluator.evaluate(df_predictions_eval)\n",
    "\n",
    "# Print out result\n",
    "print(f'Metric areaUnderROC of the Random Forest model = {area_under_ROC_rf}')"
   ]
  },
  {
   "cell_type": "code",
   "execution_count": 50,
   "id": "33a6fa25",
   "metadata": {},
   "outputs": [
    {
     "name": "stdout",
     "output_type": "stream",
     "text": [
      "+----------+------+------+\n",
      "|prediction|Arrest| count|\n",
      "+----------+------+------+\n",
      "|       0.0|     0|483781|\n",
      "|       1.0|     1|102851|\n",
      "|       1.0|     0| 49853|\n",
      "|       0.0|     1| 53647|\n",
      "+----------+------+------+\n",
      "\n"
     ]
    }
   ],
   "source": [
    "# Counting of the kind of predictions made\n",
    "df_confusion_matrix = df_predictions_eval.groupBy('prediction', 'Arrest').count()\n",
    "df_confusion_matrix.show()"
   ]
  },
  {
   "cell_type": "code",
   "execution_count": 51,
   "id": "35c9c91e",
   "metadata": {},
   "outputs": [
    {
     "name": "stdout",
     "output_type": "stream",
     "text": [
      "\n",
      "Confusion Matrix:\n",
      "\n",
      "+-----------------------------------+\n",
      "|               | Pred 0  | Pred 1  |\n",
      "+-----------------------------------+\n",
      "|    True 0     | 483781  |  49853  |\n",
      "+-----------------------------------+\n",
      "|    True 1     |  53647  | 102851  |\n",
      "+-----------------------------------+\n"
     ]
    }
   ],
   "source": [
    "# Compute the confusion matrix\n",
    "tp = df_confusion_matrix.filter((F.col('prediction')==1.0) & (F.col('Arrest')==1)).first()\n",
    "tn = df_confusion_matrix.filter((F.col('prediction')==0.0) & (F.col('Arrest')==0)).first()\n",
    "fp = df_confusion_matrix.filter((F.col('prediction')==1.0) & (F.col('Arrest')==0)).first()\n",
    "fn = df_confusion_matrix.filter((F.col('prediction')==0.0) & (F.col('Arrest')==1)).first()\n",
    "\n",
    "confmat = {'TP': 0.0, 'TN': 0.0, 'FP': 0.0, 'FN': 0.0}\n",
    "if (tp):\n",
    "    confmat['TP'] = tp['count'] * 1.0\n",
    "if (tn):\n",
    "    confmat['TN'] = tn['count'] * 1.0\n",
    "if (fp):\n",
    "    confmat['FP'] = fp['count'] * 1.0\n",
    "if (fn):\n",
    "    confmat['FN'] = fn['count'] * 1.0\n",
    "\n",
    "# Printing the matrix\n",
    "print(\"\\nConfusion Matrix:\\n\")\n",
    "print(\"+\" + \"-\" * 35 + \"+\")\n",
    "print(\"|{:^15}|{:^9}|{:^9}|\".format(\"\", \"Pred 0\", \"Pred 1\"))\n",
    "print(\"+\" + \"-\" * 35 + \"+\")\n",
    "print(\"|{:^15}|{:^9}|{:^9}|\".format(\"True 0\", int(confmat['TN']), int(confmat['FP'])))\n",
    "print(\"+\" + \"-\" * 35 + \"+\")\n",
    "print(\"|{:^15}|{:^9}|{:^9}|\".format(\"True 1\", int(confmat['FN']), int(confmat['TP'])))\n",
    "print(\"+\" + \"-\" * 35 + \"+\")"
   ]
  },
  {
   "cell_type": "code",
   "execution_count": 52,
   "id": "26b548c3",
   "metadata": {},
   "outputs": [
    {
     "name": "stdout",
     "output_type": "stream",
     "text": [
      "All evaluation metrics (rounded to 4 digits):\n",
      " Metric areaUnderROC of the Random Forest Model = 0.8762\n",
      " Linear Accuracy = 0.85\n",
      " Linear Precision = 0.6735\n",
      " Linear Recall = 0.6572\n",
      " Linear Specificity = 0.9066\n",
      " Linear F1 score = 0.6653\n"
     ]
    }
   ],
   "source": [
    "# Based on the confusion matrix, computed the evaluation matrics:\n",
    "#   accuracy, precision, recall, specifity and F1 score\n",
    "\n",
    "# PS: Check divisons by 0.0\n",
    "TP = confmat['TP']\n",
    "TN = confmat['TN']\n",
    "FP = confmat['FP']\n",
    "FN = confmat['FN']\n",
    "\n",
    "accuracy_rf = (TP + TN) / (TP + TN + FP + FN) if (TP + TN + FP + FN) > 0 else 0.0\n",
    "precision_rf = TP / (TP + FP) if (TP + FP) > 0 else 0.0\n",
    "recall_rf = TP / (TP + FN) if (TP + FN) > 0 else 0.0\n",
    "specifiсity_rf = TN / (TN + FP) if (TN + FP) > 0 else 0.0\n",
    "f1score_rf = 2 * precision_rf * recall_rf / (precision_rf + recall_rf) if (precision_rf + recall_rf) > 0 else 0.0\n",
    "\n",
    "print('All evaluation metrics (rounded to 4 digits):')\n",
    "print(f' Metric areaUnderROC of the Random Forest Model = {round(area_under_ROC_rf, 4)}')\n",
    "print(f' Linear Accuracy = {round(accuracy_rf, 4)}')\n",
    "print(f' Linear Precision = {round(precision_rf, 4)}')\n",
    "print(f' Linear Recall = {round(recall_rf, 4)}')\n",
    "print(f' Linear Specificity = {round(specifiсity_rf, 4)}')\n",
    "print(f' Linear F1 score = {round(f1score_rf, 4)}')"
   ]
  },
  {
   "cell_type": "code",
   "execution_count": 78,
   "id": "14fadbfe",
   "metadata": {},
   "outputs": [
    {
     "data": {
      "image/png": "[encoded data removed]",
      "text/plain": [
       "<Figure size 1200x700 with 1 Axes>"
      ]
     },
     "metadata": {},
     "output_type": "display_data"
    }
   ],
   "source": [
    "# Dictionary with metrics for all models\n",
    "metrics = {\n",
    "    'Model': ['SVM', 'LogReg', 'RandomForest'],\n",
    "    'Accuracy': [accuracy_linear, accuracy_logreg, accuracy_rf],\n",
    "    'Precision': [precision_linear, precision_logreg, precision_rf],\n",
    "    'Recall': [recall_linear, recall_logreg, recall_rf],\n",
    "    'F1': [f1score_linear, f1score_logreg, f1score_rf],\n",
    "    'Specificity': [specifiсity_linear, specifiсity_logreg, specifiсity_rf],\n",
    "    'AUC': [area_under_ROC_linear, area_under_ROC_logreg, area_under_ROC_rf]\n",
    "}\n",
    "\n",
    "# Convert to DataFrame\n",
    "df_metrics = pd.DataFrame(metrics)\n",
    "\n",
    "# Define the base colors for each model\n",
    "base_colors = {'SVM': '#1f77b4', 'LogReg': '#ff7f0e', 'RandomForest': '#2ca02c'}\n",
    "\n",
    "# Create a chart\n",
    "fig, ax = plt.subplots(figsize=(12, 7))\n",
    "\n",
    "# Parameters for column groups\n",
    "metric_names = ['Accuracy', 'Precision', 'Recall', 'F1', 'Specificity', 'AUC']\n",
    "model_names = ['SVM', 'LogReg', 'RandomForest']\n",
    "x = np.arange(len(metric_names))\n",
    "width = 0.25\n",
    "\n",
    "# For each metric, determine which models performed the worst\n",
    "for i, metric in enumerate(metric_names):\n",
    "    metric_values = df_metrics[metric].values\n",
    "    model_performance = list(zip(model_names, metric_values))\n",
    "    \n",
    "    # Sort by metric value (descending)\n",
    "    model_performance.sort(key=lambda x: x[1], reverse=True)\n",
    "    \n",
    "    # Determine the worst 2 models for this metric\n",
    "    worst_models = {model_performance[-1][0], model_performance[-2][0]}\n",
    "    \n",
    "    # Draw columns for each model\n",
    "    for j, model in enumerate(model_names):\n",
    "        value = df_metrics[df_metrics['Model'] == model][metric].iloc[0]\n",
    "        \n",
    "        # Choose a color: dull for the worst models, bright for the best ones\n",
    "        if model in worst_models:\n",
    "            # Faint color (add transparency)\n",
    "            color = base_colors[model]\n",
    "            alpha = 0.4\n",
    "        else:\n",
    "            # Bright color\n",
    "            color = base_colors[model]\n",
    "            alpha = 1.0\n",
    "        \n",
    "        # Column position\n",
    "        pos = x[i] + (j - 1) * width\n",
    "        \n",
    "        # Draw a column\n",
    "        bar = ax.bar(pos, value, width, color=color, alpha=alpha, \n",
    "                    label=model if i == 0 else \"\")\n",
    "\n",
    "# Setting the schedule\n",
    "ax.set_xlabel('Metric', fontsize=12)\n",
    "ax.set_ylabel('Score', fontsize=12)\n",
    "ax.set_title('Comparison of Models by Metrics', fontsize=14, fontweight='bold')\n",
    "ax.set_xticks(x)\n",
    "ax.set_xticklabels(metric_names)\n",
    "ax.set_ylim(0, 1.05)\n",
    "ax.grid(axis='y', linestyle='--', alpha=0.7)\n",
    "\n",
    "# Create a legend with base colors\n",
    "legend_elements = [plt.Rectangle((0,0),1,1, facecolor=base_colors[model], \n",
    "                                label=model) for model in model_names]\n",
    "ax.legend(handles=legend_elements, title='Model', loc='upper right')\n",
    "plt.tight_layout()\n",
    "plt.show()"
   ]
  },
  {
   "cell_type": "code",
   "execution_count": null,
   "id": "4ad082ac",
   "metadata": {},
   "outputs": [
    {
     "name": "stdout",
     "output_type": "stream",
     "text": [
      "+--------------+------------+-------------+----------+-------+---------------+-------+\n",
      "|              |   Accuracy |   Precision |   Recall |    F1 |   Specificity |   AUC |\n",
      "+==============+============+=============+==========+=======+===============+=======+\n",
      "| SVM          |      0.873 |       0.726 |    0.709 | 0.717 |         0.922 | 0.902 |\n",
      "+--------------+------------+-------------+----------+-------+---------------+-------+\n",
      "| LogReg       |      0.855 |       0.655 |    0.760 | 0.704 |         0.883 | 0.910 |\n",
      "+--------------+------------+-------------+----------+-------+---------------+-------+\n",
      "| RandomForest |      0.850 |       0.673 |    0.657 | 0.665 |         0.907 | 0.876 |\n",
      "+--------------+------------+-------------+----------+-------+---------------+-------+\n"
     ]
    }
   ],
   "source": [
    "# Устанавливаем модели как индекс (строки)\n",
    "df_metrics = df_metrics.set_index('Model')\n",
    "\n",
    "# Округляем значения до 3 знаков после запятой для лучшей читаемости\n",
    "df_metrics = df_metrics.round(3)\n",
    "\n",
    "# Выводим таблицу с метриками\n",
    "from tabulate import tabulate\n",
    "print(tabulate(df_metrics, headers=df_metrics.columns, tablefmt='grid', floatfmt='.3f'))"
   ]
  }
 ],
 "metadata": {
  "kernelspec": {
   "display_name": "vscode_pyspark",
   "language": "python",
   "name": "python3"
  },
  "language_info": {
   "codemirror_mode": {
    "name": "ipython",
    "version": 3
   },
   "file_extension": ".py",
   "mimetype": "text/x-python",
   "name": "python",
   "nbconvert_exporter": "python",
   "pygments_lexer": "ipython3",
   "version": "3.11.12"
  }
 },
 "nbformat": 4,
 "nbformat_minor": 5
}
