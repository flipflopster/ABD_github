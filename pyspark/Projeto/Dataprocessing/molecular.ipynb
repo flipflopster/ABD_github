{
 "cells": [
  {
   "cell_type": "markdown",
   "id": "2103ff2e",
   "metadata": {},
   "source": [
    "# This notebook handles the data treatment for the dataset found at:\n",
    "https://github.com/LumosBio/MolData/blob/main/Data/all_molecular_data.zip"
   ]
  },
  {
   "cell_type": "markdown",
   "id": "1dbd0979",
   "metadata": {},
   "source": [
    "\n",
    "# Data ingestion\n"
   ]
  },
  {
   "cell_type": "code",
   "execution_count": null,
   "id": "bf3c7115",
   "metadata": {},
   "outputs": [],
   "source": [
    "# Basic imports\n",
    "import pyspark\n",
    "from pyspark.sql import SparkSession\n",
    "import pyspark.sql.functions as F"
   ]
  },
  {
   "cell_type": "code",
   "execution_count": 2,
   "id": "ccfcddad",
   "metadata": {},
   "outputs": [],
   "source": [
    "# Build SparkSession\n",
    "spark = SparkSession.builder.appName(\"JoinWindowingSQL\").getOrCreate()"
   ]
  },
  {
   "cell_type": "code",
   "execution_count": 3,
   "id": "f6f61a2a",
   "metadata": {},
   "outputs": [],
   "source": [
    "data_dir ='../Datasets/'\n",
    "mol_data1 = data_dir + 'aid_disease_mapping.csv'\n",
    "mol_data2 = data_dir + 'aid_target_mapping.csv'"
   ]
  },
  {
   "cell_type": "code",
   "execution_count": 5,
   "id": "7a541e53",
   "metadata": {},
   "outputs": [
    {
     "name": "stdout",
     "output_type": "stream",
     "text": [
      "AID,cancer,nervous System,immune system,cardiovascular,toxicity,obesity,virus,diabetes,metabolic disorders,bacteria,parasite,epigenetics_genetics,pulmonary,infection,aging,fungal\n",
      "activity_1554,1,0,0,0,0,0,0,0,0,0,0,0,0,0,0,0\n",
      "activity_2732,0,1,1,0,0,1,0,1,0,0,0,0,0,0,0,0\n",
      "activity_1085,1,0,1,0,0,0,1,0,0,0,0,0,0,0,0,0\n",
      "activity_1236,0,1,0,1,0,0,0,0,0,0,0,0,0,0,0,0\n",
      "activity_1274,0,1,1,1,0,0,0,0,0,0,0,0,0,0,0,0\n",
      "activity_781,1,1,1,0,0,0,0,0,0,0,0,0,0,0,0,0\n",
      "activity_422,1,1,0,0,0,0,0,0,0,0,0,0,0,0,0,0\n",
      "activity_1224905,1,0,0,0,0,0,0,0,0,0,0,0,0,0,0,0\n",
      "activity_624256,1,0,0,0,0,0,0,0,0,0,0,0,0,0,0,0\n"
     ]
    }
   ],
   "source": [
    "! head $mol_data1"
   ]
  },
  {
   "cell_type": "code",
   "execution_count": 6,
   "id": "20e56faa",
   "metadata": {},
   "outputs": [],
   "source": [
    "df_mol1 = spark.read.csv(mol_data1, header=True, sep=',', inferSchema=True)\n",
    "df_mol2 = spark.read.csv(mol_data2, header=True, sep=',', inferSchema=True)"
   ]
  },
  {
   "cell_type": "code",
   "execution_count": 8,
   "id": "017e4081",
   "metadata": {},
   "outputs": [
    {
     "name": "stdout",
     "output_type": "stream",
     "text": [
      "+----------------+------+--------------+-------------+--------------+--------+-------+-----+--------+-------------------+--------+--------+--------------------+---------+---------+-----+------+\n",
      "|             AID|cancer|nervous System|immune system|cardiovascular|toxicity|obesity|virus|diabetes|metabolic disorders|bacteria|parasite|epigenetics_genetics|pulmonary|infection|aging|fungal|\n",
      "+----------------+------+--------------+-------------+--------------+--------+-------+-----+--------+-------------------+--------+--------+--------------------+---------+---------+-----+------+\n",
      "|   activity_1554|     1|             0|            0|             0|       0|      0|    0|       0|                  0|       0|       0|                   0|        0|        0|    0|     0|\n",
      "|   activity_2732|     0|             1|            1|             0|       0|      1|    0|       1|                  0|       0|       0|                   0|        0|        0|    0|     0|\n",
      "|   activity_1085|     1|             0|            1|             0|       0|      0|    1|       0|                  0|       0|       0|                   0|        0|        0|    0|     0|\n",
      "|   activity_1236|     0|             1|            0|             1|       0|      0|    0|       0|                  0|       0|       0|                   0|        0|        0|    0|     0|\n",
      "|   activity_1274|     0|             1|            1|             1|       0|      0|    0|       0|                  0|       0|       0|                   0|        0|        0|    0|     0|\n",
      "|    activity_781|     1|             1|            1|             0|       0|      0|    0|       0|                  0|       0|       0|                   0|        0|        0|    0|     0|\n",
      "|    activity_422|     1|             1|            0|             0|       0|      0|    0|       0|                  0|       0|       0|                   0|        0|        0|    0|     0|\n",
      "|activity_1224905|     1|             0|            0|             0|       0|      0|    0|       0|                  0|       0|       0|                   0|        0|        0|    0|     0|\n",
      "| activity_624256|     1|             0|            0|             0|       0|      0|    0|       0|                  0|       0|       0|                   0|        0|        0|    0|     0|\n",
      "| activity_588358|     0|             0|            1|             0|       0|      0|    0|       0|                  0|       0|       0|                   0|        0|        0|    0|     0|\n",
      "+----------------+------+--------------+-------------+--------------+--------+-------+-----+--------+-------------------+--------+--------+--------------------+---------+---------+-----+------+\n",
      "only showing top 10 rows\n",
      "\n",
      "+----------------+-----------------+--------------+----------------+---------+--------+--------------------+------+--------------------+-----------+-----------+--------------+-----------+------+-----------+\n",
      "|             AID|Membrane receptor|Enzyme (other)|Nuclear receptor|Hydrolase|Protease|Transcription factor|Kinase|Epigenetic regulator|Ion channel|Transferase|Oxidoreductase|Transporter|NTPase|Phosphatase|\n",
      "+----------------+-----------------+--------------+----------------+---------+--------+--------------------+------+--------------------+-----------+-----------+--------------+-----------+------+-----------+\n",
      "|   activity_1554|                0|             0|               0|        0|       0|                   0|     0|                   0|          0|          0|             0|          0|     0|          0|\n",
      "|   activity_2732|                0|             0|               0|        0|       0|                   1|     0|                   0|          0|          0|             0|          0|     0|          0|\n",
      "|   activity_1085|                0|             0|               0|        0|       0|                   0|     0|                   0|          0|          0|             0|          0|     0|          0|\n",
      "|   activity_1236|                0|             0|               0|        0|       1|                   0|     0|                   0|          0|          0|             0|          0|     0|          0|\n",
      "|   activity_1274|                0|             0|               0|        0|       0|                   0|     0|                   0|          0|          0|             0|          0|     0|          0|\n",
      "|    activity_781|                0|             0|               0|        0|       0|                   0|     0|                   0|          0|          0|             0|          0|     0|          0|\n",
      "|    activity_422|                0|             0|               0|        0|       0|                   0|     0|                   0|          0|          0|             0|          0|     0|          0|\n",
      "|activity_1224905|                0|             0|               0|        0|       0|                   0|     0|                   0|          0|          0|             0|          0|     0|          0|\n",
      "| activity_624256|                0|             0|               0|        0|       0|                   0|     0|                   0|          0|          0|             0|          0|     0|          0|\n",
      "| activity_588358|                0|             0|               0|        0|       0|                   0|     0|                   0|          0|          0|             0|          0|     0|          0|\n",
      "+----------------+-----------------+--------------+----------------+---------+--------+--------------------+------+--------------------+-----------+-----------+--------------+-----------+------+-----------+\n",
      "only showing top 10 rows\n",
      "\n"
     ]
    }
   ],
   "source": [
    "df_mol1.show(10)\n",
    "df_mol2.show(10)"
   ]
  },
  {
   "cell_type": "code",
   "execution_count": 16,
   "id": "51262584",
   "metadata": {},
   "outputs": [],
   "source": [
    "df_mol = df_mol1.join(df_mol2, on='AID', how='inner')"
   ]
  },
  {
   "cell_type": "code",
   "execution_count": 17,
   "id": "cd9986d1",
   "metadata": {},
   "outputs": [
    {
     "name": "stdout",
     "output_type": "stream",
     "text": [
      "+----------------+------+--------------+-------------+--------------+--------+-------+-----+--------+-------------------+--------+--------+--------------------+---------+---------+-----+------+-----------------+--------------+----------------+---------+--------+--------------------+------+--------------------+-----------+-----------+--------------+-----------+------+-----------+\n",
      "|             AID|cancer|nervous System|immune system|cardiovascular|toxicity|obesity|virus|diabetes|metabolic disorders|bacteria|parasite|epigenetics_genetics|pulmonary|infection|aging|fungal|Membrane receptor|Enzyme (other)|Nuclear receptor|Hydrolase|Protease|Transcription factor|Kinase|Epigenetic regulator|Ion channel|Transferase|Oxidoreductase|Transporter|NTPase|Phosphatase|\n",
      "+----------------+------+--------------+-------------+--------------+--------+-------+-----+--------+-------------------+--------+--------+--------------------+---------+---------+-----+------+-----------------+--------------+----------------+---------+--------+--------------------+------+--------------------+-----------+-----------+--------------+-----------+------+-----------+\n",
      "|   activity_1554|     1|             0|            0|             0|       0|      0|    0|       0|                  0|       0|       0|                   0|        0|        0|    0|     0|                0|             0|               0|        0|       0|                   0|     0|                   0|          0|          0|             0|          0|     0|          0|\n",
      "|   activity_2732|     0|             1|            1|             0|       0|      1|    0|       1|                  0|       0|       0|                   0|        0|        0|    0|     0|                0|             0|               0|        0|       0|                   1|     0|                   0|          0|          0|             0|          0|     0|          0|\n",
      "|   activity_1085|     1|             0|            1|             0|       0|      0|    1|       0|                  0|       0|       0|                   0|        0|        0|    0|     0|                0|             0|               0|        0|       0|                   0|     0|                   0|          0|          0|             0|          0|     0|          0|\n",
      "|   activity_1236|     0|             1|            0|             1|       0|      0|    0|       0|                  0|       0|       0|                   0|        0|        0|    0|     0|                0|             0|               0|        0|       1|                   0|     0|                   0|          0|          0|             0|          0|     0|          0|\n",
      "|   activity_1274|     0|             1|            1|             1|       0|      0|    0|       0|                  0|       0|       0|                   0|        0|        0|    0|     0|                0|             0|               0|        0|       0|                   0|     0|                   0|          0|          0|             0|          0|     0|          0|\n",
      "|    activity_781|     1|             1|            1|             0|       0|      0|    0|       0|                  0|       0|       0|                   0|        0|        0|    0|     0|                0|             0|               0|        0|       0|                   0|     0|                   0|          0|          0|             0|          0|     0|          0|\n",
      "|    activity_422|     1|             1|            0|             0|       0|      0|    0|       0|                  0|       0|       0|                   0|        0|        0|    0|     0|                0|             0|               0|        0|       0|                   0|     0|                   0|          0|          0|             0|          0|     0|          0|\n",
      "|activity_1224905|     1|             0|            0|             0|       0|      0|    0|       0|                  0|       0|       0|                   0|        0|        0|    0|     0|                0|             0|               0|        0|       0|                   0|     0|                   0|          0|          0|             0|          0|     0|          0|\n",
      "| activity_624256|     1|             0|            0|             0|       0|      0|    0|       0|                  0|       0|       0|                   0|        0|        0|    0|     0|                0|             0|               0|        0|       0|                   0|     0|                   0|          0|          0|             0|          0|     0|          0|\n",
      "| activity_588358|     0|             0|            1|             0|       0|      0|    0|       0|                  0|       0|       0|                   0|        0|        0|    0|     0|                0|             0|               0|        0|       0|                   0|     0|                   0|          0|          0|             0|          0|     0|          0|\n",
      "|activity_1346378|     0|             0|            0|             0|       0|      0|    0|       0|                  0|       0|       0|                   0|        0|        1|    0|     0|                0|             0|               0|        0|       0|                   0|     0|                   0|          0|          1|             0|          0|     0|          0|\n",
      "| activity_743266|     0|             0|            0|             0|       0|      0|    0|       0|                  1|       0|       0|                   0|        0|        0|    1|     0|                1|             0|               0|        0|       0|                   0|     0|                   0|          0|          0|             0|          0|     0|          0|\n",
      "| activity_624417|     0|             1|            1|             0|       0|      1|    0|       1|                  0|       0|       0|                   0|        0|        0|    0|     0|                1|             0|               0|        0|       0|                   0|     0|                   0|          0|          0|             0|          0|     0|          0|\n",
      "| activity_624418|     0|             1|            1|             0|       0|      1|    0|       1|                  0|       0|       0|                   0|        0|        0|    0|     0|                0|             0|               0|        0|       0|                   0|     0|                   0|          0|          0|             0|          0|     0|          0|\n",
      "| activity_652104|     0|             1|            1|             0|       1|      0|    0|       0|                  0|       0|       0|                   0|        0|        0|    0|     0|                0|             0|               0|        0|       0|                   0|     0|                   0|          0|          0|             0|          0|     0|          0|\n",
      "+----------------+------+--------------+-------------+--------------+--------+-------+-----+--------+-------------------+--------+--------+--------------------+---------+---------+-----+------+-----------------+--------------+----------------+---------+--------+--------------------+------+--------------------+-----------+-----------+--------------+-----------+------+-----------+\n",
      "only showing top 15 rows\n",
      "\n"
     ]
    }
   ],
   "source": [
    "df_mol.show(15)"
   ]
  },
  {
   "cell_type": "code",
   "execution_count": 26,
   "id": "93ee7f5a",
   "metadata": {},
   "outputs": [],
   "source": [
    "df_mol = df_mol.withColumn(\"ID\", F.regexp_replace(\"AID\", \"activity_\", \"\"))\n",
    "df_mol = df_mol.withColumn(\"ID\", F.col(\"ID\").cast(\"int\")).orderBy(\"ID\")\n"
   ]
  },
  {
   "cell_type": "code",
   "execution_count": 27,
   "id": "296601c1",
   "metadata": {},
   "outputs": [
    {
     "name": "stdout",
     "output_type": "stream",
     "text": [
      "+------------+------+--------------+-------------+--------------+--------+-------+-----+--------+-------------------+--------+--------+--------------------+---------+---------+-----+------+-----------------+--------------+----------------+---------+--------+--------------------+------+--------------------+-----------+-----------+--------------+-----------+------+-----------+---+\n",
      "|         AID|cancer|nervous System|immune system|cardiovascular|toxicity|obesity|virus|diabetes|metabolic disorders|bacteria|parasite|epigenetics_genetics|pulmonary|infection|aging|fungal|Membrane receptor|Enzyme (other)|Nuclear receptor|Hydrolase|Protease|Transcription factor|Kinase|Epigenetic regulator|Ion channel|Transferase|Oxidoreductase|Transporter|NTPase|Phosphatase| ID|\n",
      "+------------+------+--------------+-------------+--------------+--------+-------+-----+--------+-------------------+--------+--------+--------------------+---------+---------+-----+------+-----------------+--------------+----------------+---------+--------+--------------------+------+--------------------+-----------+-----------+--------------+-----------+------+-----------+---+\n",
      "|activity_422|     1|             1|            0|             0|       0|      0|    0|       0|                  0|       0|       0|                   0|        0|        0|    0|     0|                0|             0|               0|        0|       0|                   0|     0|                   0|          0|          0|             0|          0|     0|          0|422|\n",
      "|activity_445|     1|             0|            0|             0|       0|      0|    0|       0|                  0|       0|       0|                   0|        0|        0|    0|     0|                0|             0|               0|        0|       0|                   0|     0|                   0|          0|          0|             0|          0|     0|          0|445|\n",
      "|activity_485|     0|             0|            0|             1|       0|      0|    0|       0|                  0|       0|       0|                   0|        0|        0|    0|     0|                1|             0|               0|        0|       0|                   0|     0|                   0|          0|          0|             0|          0|     0|          0|485|\n",
      "|activity_631|     1|             0|            1|             1|       0|      1|    0|       1|                  0|       0|       0|                   0|        0|        0|    0|     0|                0|             0|               1|        0|       0|                   0|     0|                   1|          0|          0|             0|          0|     0|          0|631|\n",
      "|activity_731|     1|             0|            1|             1|       0|      1|    0|       1|                  0|       0|       0|                   0|        0|        0|    0|     0|                0|             0|               1|        0|       0|                   0|     0|                   1|          0|          0|             0|          0|     0|          0|731|\n",
      "|activity_757|     1|             0|            0|             0|       0|      0|    0|       0|                  0|       0|       0|                   0|        0|        0|    0|     0|                0|             0|               0|        1|       0|                   0|     0|                   0|          0|          0|             0|          0|     0|          0|757|\n",
      "|activity_758|     1|             0|            0|             0|       0|      0|    0|       0|                  0|       0|       0|                   0|        0|        0|    0|     0|                0|             0|               0|        1|       0|                   0|     0|                   0|          0|          0|             0|          0|     0|          0|758|\n",
      "|activity_759|     1|             0|            0|             0|       0|      0|    0|       0|                  0|       0|       0|                   0|        0|        0|    0|     0|                0|             0|               0|        1|       0|                   0|     0|                   0|          0|          0|             0|          0|     0|          0|759|\n",
      "|activity_760|     1|             0|            0|             0|       0|      0|    0|       0|                  0|       0|       0|                   0|        0|        0|    0|     0|                0|             0|               0|        1|       0|                   0|     0|                   0|          0|          0|             0|          0|     0|          0|760|\n",
      "|activity_761|     1|             0|            0|             0|       0|      0|    0|       0|                  0|       0|       0|                   0|        0|        0|    0|     0|                0|             0|               0|        0|       0|                   0|     0|                   0|          0|          0|             0|          0|     0|          0|761|\n",
      "|activity_764|     1|             0|            0|             0|       0|      0|    0|       0|                  0|       0|       0|                   0|        0|        0|    0|     0|                0|             0|               0|        1|       0|                   0|     0|                   0|          0|          0|             0|          0|     0|          0|764|\n",
      "|activity_781|     1|             1|            1|             0|       0|      0|    0|       0|                  0|       0|       0|                   0|        0|        0|    0|     0|                0|             0|               0|        0|       0|                   0|     0|                   0|          0|          0|             0|          0|     0|          0|781|\n",
      "|activity_793|     0|             1|            0|             1|       0|      0|    0|       0|                  0|       0|       0|                   0|        0|        0|    0|     0|                1|             0|               0|        0|       0|                   0|     0|                   0|          0|          0|             0|          0|     0|          0|793|\n",
      "|activity_803|     0|             1|            0|             0|       0|      0|    0|       0|                  0|       0|       0|                   0|        0|        0|    0|     0|                1|             0|               0|        0|       0|                   0|     0|                   0|          0|          0|             0|          0|     0|          0|803|\n",
      "|activity_817|     0|             0|            0|             0|       0|      0|    0|       0|                  1|       0|       0|                   1|        0|        0|    0|     0|                0|             0|               0|        0|       0|                   0|     0|                   0|          0|          0|             0|          0|     0|          0|817|\n",
      "+------------+------+--------------+-------------+--------------+--------+-------+-----+--------+-------------------+--------+--------+--------------------+---------+---------+-----+------+-----------------+--------------+----------------+---------+--------+--------------------+------+--------------------+-----------+-----------+--------------+-----------+------+-----------+---+\n",
      "only showing top 15 rows\n",
      "\n"
     ]
    }
   ],
   "source": [
    "df_mol.show(15)"
   ]
  },
  {
   "cell_type": "code",
   "execution_count": 28,
   "id": "66d21f85",
   "metadata": {},
   "outputs": [
    {
     "name": "stdout",
     "output_type": "stream",
     "text": [
      "df_mol - number of rows: 600\n",
      "root\n",
      " |-- AID: string (nullable = true)\n",
      " |-- cancer: integer (nullable = true)\n",
      " |-- nervous System: integer (nullable = true)\n",
      " |-- immune system: integer (nullable = true)\n",
      " |-- cardiovascular: integer (nullable = true)\n",
      " |-- toxicity: integer (nullable = true)\n",
      " |-- obesity: integer (nullable = true)\n",
      " |-- virus: integer (nullable = true)\n",
      " |-- diabetes: integer (nullable = true)\n",
      " |-- metabolic disorders: integer (nullable = true)\n",
      " |-- bacteria: integer (nullable = true)\n",
      " |-- parasite: integer (nullable = true)\n",
      " |-- epigenetics_genetics: integer (nullable = true)\n",
      " |-- pulmonary: integer (nullable = true)\n",
      " |-- infection: integer (nullable = true)\n",
      " |-- aging: integer (nullable = true)\n",
      " |-- fungal: integer (nullable = true)\n",
      " |-- Membrane receptor: integer (nullable = true)\n",
      " |-- Enzyme (other): integer (nullable = true)\n",
      " |-- Nuclear receptor: integer (nullable = true)\n",
      " |-- Hydrolase: integer (nullable = true)\n",
      " |-- Protease: integer (nullable = true)\n",
      " |-- Transcription factor: integer (nullable = true)\n",
      " |-- Kinase: integer (nullable = true)\n",
      " |-- Epigenetic regulator: integer (nullable = true)\n",
      " |-- Ion channel: integer (nullable = true)\n",
      " |-- Transferase: integer (nullable = true)\n",
      " |-- Oxidoreductase: integer (nullable = true)\n",
      " |-- Transporter: integer (nullable = true)\n",
      " |-- NTPase: integer (nullable = true)\n",
      " |-- Phosphatase: integer (nullable = true)\n",
      " |-- ID: integer (nullable = true)\n",
      "\n"
     ]
    }
   ],
   "source": [
    "print(f'df_mol - number of rows: {df_mol.count()      }')\n",
    "df_mol.printSchema()"
   ]
  },
  {
   "cell_type": "code",
   "execution_count": 30,
   "id": "aceca1e6",
   "metadata": {},
   "outputs": [
    {
     "name": "stdout",
     "output_type": "stream",
     "text": [
      "df - number of rows is 600; after dropDuplicates() applied would be 600.\n"
     ]
    }
   ],
   "source": [
    "print(f'df - number of rows is {df_mol.count()}; after dropDuplicates() applied would be {df_mol.dropDuplicates().count()}.')"
   ]
  },
  {
   "cell_type": "code",
   "execution_count": 31,
   "id": "2597d6b1",
   "metadata": {},
   "outputs": [
    {
     "name": "stdout",
     "output_type": "stream",
     "text": [
      "df - number of rows after dropna(how='any') applied would be 600.\n"
     ]
    }
   ],
   "source": [
    "print(f'''df - number of rows after dropna(how='any') applied would be {df_mol.dropna(how='any').count()}.''')"
   ]
  }
 ],
 "metadata": {
  "kernelspec": {
   "display_name": "vscode_pyspark",
   "language": "python",
   "name": "python3"
  },
  "language_info": {
   "codemirror_mode": {
    "name": "ipython",
    "version": 3
   },
   "file_extension": ".py",
   "mimetype": "text/x-python",
   "name": "python",
   "nbconvert_exporter": "python",
   "pygments_lexer": "ipython3",
   "version": "3.11.11"
  }
 },
 "nbformat": 4,
 "nbformat_minor": 5
}
