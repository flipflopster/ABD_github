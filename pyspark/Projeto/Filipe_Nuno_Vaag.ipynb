{
 "cells": [
  {
   "cell_type": "code",
   "execution_count": null,
   "id": "ac290d97",
   "metadata": {
    "vscode": {
     "languageId": "plaintext"
    }
   },
   "outputs": [],
   "source": []
  },
  {
   "cell_type": "markdown",
   "id": "19e097ee",
   "metadata": {},
   "source": [
    "#HELLO BITCH"
   ]
  },
  {
   "cell_type": "markdown",
   "id": "00a1eb11",
   "metadata": {},
   "source": []
  }
 ],
 "metadata": {
  "language_info": {
   "name": "python"
  }
 },
 "nbformat": 4,
 "nbformat_minor": 5
}
