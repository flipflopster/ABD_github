{
 "cells": [
  {
   "cell_type": "markdown",
   "metadata": {},
   "source": [
    "---\n",
    "# Algoritmos para Big Data\n",
    "\n",
    "**Handout 2 -  Data joining, windowing, and Spark SQL**\n",
    "\n",
    "**2024/25**\n",
    "\n",
    "This lab class aims to get hands-on experience on three issues related to data processing: data joining, data windowing and Spark SQL.\n",
    "\n",
    "This notebook should contain the implementation of the tasks presented in the handout.\n",
    "\n",
    "Hence both handout and notebook must be considered together as one."
   ]
  },
  {
   "cell_type": "markdown",
   "metadata": {},
   "source": [
    "---\n",
    "# Task A - Data ingestion"
   ]
  },
  {
   "cell_type": "markdown",
   "metadata": {},
   "source": [
    "**Datasest**\n",
    "\n",
    "The file can be downloaded from\n",
    "\n",
    "https://bigdata.iscte-iul.eu/datasets/retail-data.csv"
   ]
  },
  {
   "cell_type": "markdown",
   "metadata": {},
   "source": [
    "**Spark setup**"
   ]
  },
  {
   "cell_type": "code",
   "execution_count": 1,
   "metadata": {},
   "outputs": [],
   "source": [
    "# Basic imports\n",
    "import pyspark\n",
    "from pyspark.sql import SparkSession\n",
    "import pyspark.sql.functions as F"
   ]
  },
  {
   "cell_type": "code",
   "execution_count": 2,
   "metadata": {},
   "outputs": [],
   "source": [
    "# Build SparkSession\n",
    "spark = SparkSession.builder.appName(\"JoinWindowingSQL\").getOrCreate()"
   ]
  },
  {
   "cell_type": "markdown",
   "metadata": {},
   "source": [
    "**Reading and checking data**"
   ]
  },
  {
   "cell_type": "code",
   "execution_count": 3,
   "metadata": {},
   "outputs": [
    {
     "name": "stdout",
     "output_type": "stream",
     "text": [
      "User,Card,Year,Month,Day,Time,Amount,Use Chip,Merchant Name,Merchant City,Merchant State,Zip,MCC,Errors?,Is Fraud?\n",
      "0,0,2002,9,1,06:21,$134.09,Swipe Transaction,3527213246127876953,La Verne,CA,91750.0,5300,,No\n",
      "0,0,2002,9,1,06:42,$38.48,Swipe Transaction,-727612092139916043,Monterey Park,CA,91754.0,5411,,No\n",
      "0,0,2002,9,2,06:22,$120.34,Swipe Transaction,-727612092139916043,Monterey Park,CA,91754.0,5411,,No\n",
      "0,0,2002,9,2,17:45,$128.95,Swipe Transaction,3414527459579106770,Monterey Park,CA,91754.0,5651,,No\n",
      "0,0,2002,9,3,06:23,$104.71,Swipe Transaction,5817218446178736267,La Verne,CA,91750.0,5912,,No\n",
      "0,0,2002,9,3,13:53,$86.19,Swipe Transaction,-7146670748125200898,Monterey Park,CA,91755.0,5970,,No\n",
      "0,0,2002,9,4,05:51,$93.84,Swipe Transaction,-727612092139916043,Monterey Park,CA,91754.0,5411,,No\n",
      "0,0,2002,9,4,06:09,$123.50,Swipe Transaction,-727612092139916043,Monterey Park,CA,91754.0,5411,,No\n",
      "0,0,2002,9,5,06:14,$61.72,Swipe Transaction,-727612092139916043,Monterey Park,CA,91754.0,5411,,No\n"
     ]
    }
   ],
   "source": [
    "# Reading data\n",
    "data_dir ='../../Datasets/'\n",
    "file_transactions = data_dir + 'credit-cards-transactions.csv'\n",
    "\n",
    "! head $file_transactions\n",
    "df_transactions = spark.read.csv(file_transactions, header=True, sep=',', inferSchema=True)\n"
   ]
  },
  {
   "cell_type": "code",
   "execution_count": 4,
   "metadata": {},
   "outputs": [
    {
     "name": "stdout",
     "output_type": "stream",
     "text": [
      "+----+----+----+-----+---+-------------------+-------+-----------------+--------------------+-------------+--------------+-------+----+-------+---------+\n",
      "|User|Card|Year|Month|Day|               Time| Amount|         Use Chip|       Merchant Name|Merchant City|Merchant State|    Zip| MCC|Errors?|Is Fraud?|\n",
      "+----+----+----+-----+---+-------------------+-------+-----------------+--------------------+-------------+--------------+-------+----+-------+---------+\n",
      "|   0|   0|2002|    9|  1|2025-03-27 06:21:00|$134.09|Swipe Transaction| 3527213246127876953|     La Verne|            CA|91750.0|5300|   NULL|       No|\n",
      "|   0|   0|2002|    9|  1|2025-03-27 06:42:00| $38.48|Swipe Transaction| -727612092139916043|Monterey Park|            CA|91754.0|5411|   NULL|       No|\n",
      "|   0|   0|2002|    9|  2|2025-03-27 06:22:00|$120.34|Swipe Transaction| -727612092139916043|Monterey Park|            CA|91754.0|5411|   NULL|       No|\n",
      "|   0|   0|2002|    9|  2|2025-03-27 17:45:00|$128.95|Swipe Transaction| 3414527459579106770|Monterey Park|            CA|91754.0|5651|   NULL|       No|\n",
      "|   0|   0|2002|    9|  3|2025-03-27 06:23:00|$104.71|Swipe Transaction| 5817218446178736267|     La Verne|            CA|91750.0|5912|   NULL|       No|\n",
      "|   0|   0|2002|    9|  3|2025-03-27 13:53:00| $86.19|Swipe Transaction|-7146670748125200898|Monterey Park|            CA|91755.0|5970|   NULL|       No|\n",
      "|   0|   0|2002|    9|  4|2025-03-27 05:51:00| $93.84|Swipe Transaction| -727612092139916043|Monterey Park|            CA|91754.0|5411|   NULL|       No|\n",
      "|   0|   0|2002|    9|  4|2025-03-27 06:09:00|$123.50|Swipe Transaction| -727612092139916043|Monterey Park|            CA|91754.0|5411|   NULL|       No|\n",
      "|   0|   0|2002|    9|  5|2025-03-27 06:14:00| $61.72|Swipe Transaction| -727612092139916043|Monterey Park|            CA|91754.0|5411|   NULL|       No|\n",
      "|   0|   0|2002|    9|  5|2025-03-27 09:35:00| $57.10|Swipe Transaction| 4055257078481058705|     La Verne|            CA|91750.0|7538|   NULL|       No|\n",
      "+----+----+----+-----+---+-------------------+-------+-----------------+--------------------+-------------+--------------+-------+----+-------+---------+\n",
      "only showing top 10 rows\n",
      "\n",
      "df_transactions - number of rows is 24386900.\n",
      "root\n",
      " |-- User: integer (nullable = true)\n",
      " |-- Card: integer (nullable = true)\n",
      " |-- Year: integer (nullable = true)\n",
      " |-- Month: integer (nullable = true)\n",
      " |-- Day: integer (nullable = true)\n",
      " |-- Time: timestamp (nullable = true)\n",
      " |-- Amount: string (nullable = true)\n",
      " |-- Use Chip: string (nullable = true)\n",
      " |-- Merchant Name: long (nullable = true)\n",
      " |-- Merchant City: string (nullable = true)\n",
      " |-- Merchant State: string (nullable = true)\n",
      " |-- Zip: double (nullable = true)\n",
      " |-- MCC: integer (nullable = true)\n",
      " |-- Errors?: string (nullable = true)\n",
      " |-- Is Fraud?: string (nullable = true)\n",
      "\n"
     ]
    }
   ],
   "source": [
    "df_transactions.show(10)\n",
    "print(f'df_transactions - number of rows is {df_transactions.count()    }.')\n",
    "df_transactions.printSchema()"
   ]
  },
  {
   "cell_type": "code",
   "execution_count": 5,
   "metadata": {},
   "outputs": [
    {
     "name": "stdout",
     "output_type": "stream",
     "text": [
      "df_retail - number of rows is 24386900; after dropDuplicates() applied would be 24386834.\n"
     ]
    }
   ],
   "source": [
    "print(f'file_transactions - number of rows is {df_transactions.count()  }; after dropDuplicates() applied would be {df_transactions.dropDuplicates().count()   }.')"
   ]
  },
  {
   "cell_type": "code",
   "execution_count": 17,
   "metadata": {},
   "outputs": [
    {
     "data": {
      "text/plain": [
       "DataFrame[User: int, Card: int, Year: int, Month: int, Day: int, Time: timestamp, Amount: string, Use Chip: string, Merchant Name: bigint, Merchant City: string, MCC: int, Is Fraud?: string]"
      ]
     },
     "execution_count": 17,
     "metadata": {},
     "output_type": "execute_result"
    }
   ],
   "source": [
    "df_transactions.dropDuplicates()"
   ]
  },
  {
   "cell_type": "code",
   "execution_count": 7,
   "metadata": {},
   "outputs": [
    {
     "name": "stdout",
     "output_type": "stream",
     "text": [
      "file_transactions - number of rows after dropna(how='any') would be 324890.\n"
     ]
    }
   ],
   "source": [
    "print(f'''file_transactions - number of rows after dropna(how='any') would be {df_transactions.dropna(how='any').count()     }.''')"
   ]
  },
  {
   "cell_type": "code",
   "execution_count": 8,
   "metadata": {},
   "outputs": [
    {
     "name": "stdout",
     "output_type": "stream",
     "text": [
      "Checking nulls at each column of df_transactions\n"
     ]
    },
    {
     "data": {
      "text/plain": [
       "{'User': 0,\n",
       " 'Card': 0,\n",
       " 'Year': 0,\n",
       " 'Month': 0,\n",
       " 'Day': 0,\n",
       " 'Time': 0,\n",
       " 'Amount': 0,\n",
       " 'Use Chip': 0,\n",
       " 'Merchant Name': 0,\n",
       " 'Merchant City': 0,\n",
       " 'Merchant State': 2720821,\n",
       " 'Zip': 2878135,\n",
       " 'MCC': 0,\n",
       " 'Errors?': 23998469,\n",
       " 'Is Fraud?': 0}"
      ]
     },
     "execution_count": 8,
     "metadata": {},
     "output_type": "execute_result"
    }
   ],
   "source": [
    "print('Checking nulls at each column of df_transactions')\n",
    "dict_nulls_retail = {col: df_transactions.filter(df_transactions[col].isNull()).count() for col in df_transactions.columns}\n",
    "dict_nulls_retail"
   ]
  },
  {
   "cell_type": "code",
   "execution_count": 14,
   "metadata": {},
   "outputs": [
    {
     "name": "stdout",
     "output_type": "stream",
     "text": [
      "root\n",
      " |-- User: integer (nullable = true)\n",
      " |-- Card: integer (nullable = true)\n",
      " |-- Year: integer (nullable = true)\n",
      " |-- Month: integer (nullable = true)\n",
      " |-- Day: integer (nullable = true)\n",
      " |-- Time: timestamp (nullable = true)\n",
      " |-- Amount: string (nullable = true)\n",
      " |-- Use Chip: string (nullable = true)\n",
      " |-- Merchant Name: long (nullable = true)\n",
      " |-- Merchant City: string (nullable = true)\n",
      " |-- MCC: integer (nullable = true)\n",
      " |-- Is Fraud?: string (nullable = true)\n",
      "\n"
     ]
    }
   ],
   "source": [
    "# Drop the specified columns from df_transactions\n",
    "columns_to_drop = ['Merchant State', 'Zip', 'Errors?']\n",
    "df_transactions = df_transactions.drop(*columns_to_drop)\n",
    "\n",
    "# Verify the remaining columns\n",
    "df_transactions.printSchema()"
   ]
  },
  {
   "cell_type": "markdown",
   "metadata": {},
   "source": [
    "Data seems fine!"
   ]
  },
  {
   "cell_type": "code",
   "execution_count": 15,
   "metadata": {},
   "outputs": [
    {
     "name": "stdout",
     "output_type": "stream",
     "text": [
      "+-------+------------------+------------------+------------------+------------------+------------------+--------+-----------------+--------------------+-------------+-----------------+---------+\n",
      "|summary|              User|              Card|              Year|             Month|               Day|  Amount|         Use Chip|       Merchant Name|Merchant City|              MCC|Is Fraud?|\n",
      "+-------+------------------+------------------+------------------+------------------+------------------+--------+-----------------+--------------------+-------------+-----------------+---------+\n",
      "|  count|          24386900|          24386900|          24386900|          24386900|          24386900|24386900|         24386900|            24386900|     24386900|         24386900| 24386900|\n",
      "|   mean|1001.0193350938414| 1.351366184303868|2011.9551699067943|  6.52506357921671|15.718122721625134|    NULL|             NULL|-4.76922962773083...|         NULL|5561.171253336833|     NULL|\n",
      "| stddev|  569.461157032364|1.4071536259341337| 5.105920688923689|3.4723548345729336| 8.794073288462647|    NULL|             NULL|4.758939870683979...|         NULL|879.3154327182826|     NULL|\n",
      "|    min|                 0|                 0|              1991|                 1|                 1|  $-0.00| Chip Transaction|-9222899435637403521|   Aaronsburg|             1711|       No|\n",
      "|    max|              1999|                 8|              2020|                12|                31| $999.97|Swipe Transaction| 9223291803303717674|       Zwolle|             9402|      Yes|\n",
      "+-------+------------------+------------------+------------------+------------------+------------------+--------+-----------------+--------------------+-------------+-----------------+---------+\n",
      "\n"
     ]
    }
   ],
   "source": [
    "# call describe on df_devices and show\n",
    "df_transactions.describe().show()"
   ]
  },
  {
   "cell_type": "code",
   "execution_count": 16,
   "metadata": {},
   "outputs": [],
   "source": [
    "# numeric columns\n",
    "input_cols_num = ['User', 'Card', 'Year', 'Month', 'Day', 'Merchant Name', 'MCC']\n",
    "# string columns\n",
    "input_cols_str = ['Amount', 'Use Chip', 'Merchant City']\n",
    "# all interest columns together\n",
    "input_cols_all = input_cols_num + input_cols_str"
   ]
  },
  {
   "cell_type": "code",
   "execution_count": null,
   "metadata": {},
   "outputs": [
    {
     "name": "stdout",
     "output_type": "stream",
     "text": [
      "\n",
      "Uniqueness of values:\n",
      "Column User has 2000 unique values out of 24386900 records.\n",
      "Column Card has 9 unique values out of 24386900 records.\n"
     ]
    }
   ],
   "source": [
    "print('\\nUniqueness of values:')\n",
    "number_records = df_transactions.count()\n",
    "cols_interest = df_transactions.columns\n",
    "for cl in cols_interest:\n",
    "    k = df_transactions.select(cl).distinct().count()\n",
    "    print(f'Column {cl} has {k} unique values out of {number_records} records.')"
   ]
  },
  {
   "cell_type": "code",
   "execution_count": null,
   "metadata": {},
   "outputs": [],
   "source": []
  }
 ],
 "metadata": {
  "kernelspec": {
   "display_name": "vscode_pyspark",
   "language": "python",
   "name": "python3"
  },
  "language_info": {
   "codemirror_mode": {
    "name": "ipython",
    "version": 3
   },
   "file_extension": ".py",
   "mimetype": "text/x-python",
   "name": "python",
   "nbconvert_exporter": "python",
   "pygments_lexer": "ipython3",
   "version": "3.11.11"
  }
 },
 "nbformat": 4,
 "nbformat_minor": 2
}
