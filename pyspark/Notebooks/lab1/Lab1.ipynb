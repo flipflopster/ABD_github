{
 "cells": [
  {
   "cell_type": "markdown",
   "metadata": {},
   "source": [
    "# Lab 1"
   ]
  },
  {
   "cell_type": "code",
   "execution_count": 2,
   "metadata": {},
   "outputs": [],
   "source": [
    "import pyspark\n",
    "from pyspark.sql import SparkSession\n",
    "from pyspark.sql import functions as F"
   ]
  },
  {
   "cell_type": "code",
   "execution_count": 3,
   "metadata": {},
   "outputs": [
    {
     "data": {
      "text/html": [
       "\n",
       "            <div>\n",
       "                <p><b>SparkSession - in-memory</b></p>\n",
       "                \n",
       "        <div>\n",
       "            <p><b>SparkContext</b></p>\n",
       "\n",
       "            <p><a href=\"http://7ec596064867:4040\">Spark UI</a></p>\n",
       "\n",
       "            <dl>\n",
       "              <dt>Version</dt>\n",
       "                <dd><code>v3.5.0</code></dd>\n",
       "              <dt>Master</dt>\n",
       "                <dd><code>local[*]</code></dd>\n",
       "              <dt>AppName</dt>\n",
       "                <dd><code>SparkSQL</code></dd>\n",
       "            </dl>\n",
       "        </div>\n",
       "        \n",
       "            </div>\n",
       "        "
      ],
      "text/plain": [
       "<pyspark.sql.session.SparkSession at 0x7fb75a044d90>"
      ]
     },
     "execution_count": 3,
     "metadata": {},
     "output_type": "execute_result"
    }
   ],
   "source": [
    "spark = SparkSession.builder.appName(\"SparkSQL\").getOrCreate()\n",
    "spark"
   ]
  },
  {
   "cell_type": "code",
   "execution_count": 4,
   "metadata": {},
   "outputs": [
    {
     "name": "stdout",
     "output_type": "stream",
     "text": [
      "Age,Gender,Education Level,JobTitle,YearsOfExperience,Salary\n",
      "32,Male,Bachelor's,Software Engineer,5,$90000\n",
      "28,Female,Master's,Data Analyst,3,$65000\n",
      "45,Male,PhD,Senior Manager,15,$150000\n",
      "27,Male,,Developer,7,$100000\n",
      "36,Female,Bachelor's,Sales Associate,7,$60000\n",
      "52,Male,Master's,Director,20,$200000\n",
      "29,Male,Bachelor's,Marketing Analyst,2,$55000\n",
      "42,Female,Master's,Product Manager,12,$120000\n",
      "31,Male,Bachelor's,Sales Manager,4,$80000\n"
     ]
    }
   ],
   "source": [
    "path = \"../Datasets/salary.csv\"\n",
    "! head $path\n"
   ]
  },
  {
   "cell_type": "code",
   "execution_count": 5,
   "metadata": {},
   "outputs": [
    {
     "data": {
      "text/plain": [
       "6703"
      ]
     },
     "execution_count": 5,
     "metadata": {},
     "output_type": "execute_result"
    }
   ],
   "source": [
    "mydata = spark.read.load(path, format=\"csv\", sep=\",\", inferSchema=\"true\", header=\"true\")\n",
    "mydata.count()"
   ]
  },
  {
   "cell_type": "code",
   "execution_count": 6,
   "metadata": {},
   "outputs": [
    {
     "data": {
      "text/plain": [
       "['Age', 'Gender', 'Education Level', 'JobTitle', 'YearsOfExperience', 'Salary']"
      ]
     },
     "execution_count": 6,
     "metadata": {},
     "output_type": "execute_result"
    }
   ],
   "source": [
    "mydata.columns"
   ]
  },
  {
   "cell_type": "code",
   "execution_count": 7,
   "metadata": {},
   "outputs": [
    {
     "name": "stdout",
     "output_type": "stream",
     "text": [
      "+---------------+\n",
      "|Education Level|\n",
      "+---------------+\n",
      "|     Bachelor's|\n",
      "|       Master's|\n",
      "|            PhD|\n",
      "|           NULL|\n",
      "|     Bachelor's|\n",
      "+---------------+\n",
      "only showing top 5 rows\n",
      "\n"
     ]
    }
   ],
   "source": [
    "mydata.select(\"Education Level\").show(5)\n"
   ]
  },
  {
   "cell_type": "code",
   "execution_count": 8,
   "metadata": {},
   "outputs": [],
   "source": [
    "mydata = mydata.filter(mydata.Salary.isNotNull()).filter(mydata.Salary.isNotNull())"
   ]
  },
  {
   "cell_type": "code",
   "execution_count": 9,
   "metadata": {},
   "outputs": [],
   "source": [
    "mydata = mydata.withColumn(\"clean_salary\", F.regexp_replace(\"Salary\", \"[$,]\", \"\").cast(\"double\"))"
   ]
  },
  {
   "cell_type": "code",
   "execution_count": 10,
   "metadata": {},
   "outputs": [
    {
     "name": "stdout",
     "output_type": "stream",
     "text": [
      "+------------------+\n",
      "|    average_salary|\n",
      "+------------------+\n",
      "|115326.96477086132|\n",
      "+------------------+\n",
      "\n"
     ]
    }
   ],
   "source": [
    "mydata.select(F.avg('clean_salary').alias('average_salary')).show()"
   ]
  },
  {
   "cell_type": "code",
   "execution_count": 11,
   "metadata": {},
   "outputs": [
    {
     "data": {
      "text/plain": [
       "Row(avg(clean_salary)=115326.96477086132)"
      ]
     },
     "execution_count": 11,
     "metadata": {},
     "output_type": "execute_result"
    }
   ],
   "source": [
    "mydata.select(F.avg('clean_salary')).take(1)[0]"
   ]
  },
  {
   "cell_type": "code",
   "execution_count": 12,
   "metadata": {},
   "outputs": [
    {
     "name": "stdout",
     "output_type": "stream",
     "text": [
      "+---+------+---------------+---------------------+-----------------+-------+------------+\n",
      "|Age|Gender|Education Level|JobTitle             |YearsOfExperience|Salary |clean_salary|\n",
      "+---+------+---------------+---------------------+-----------------+-------+------------+\n",
      "|32 |Male  |Bachelor's     |Software Engineer    |5.0              |$90000 |90000.0     |\n",
      "|28 |Female|Master's       |Data Analyst         |3.0              |$65000 |65000.0     |\n",
      "|45 |Male  |PhD            |Senior Manager       |15.0             |$150000|150000.0    |\n",
      "|27 |Male  |NULL           |Developer            |7.0              |$100000|100000.0    |\n",
      "|36 |Female|Bachelor's     |Sales Associate      |7.0              |$60000 |60000.0     |\n",
      "|52 |Male  |Master's       |Director             |20.0             |$200000|200000.0    |\n",
      "|29 |Male  |Bachelor's     |Marketing Analyst    |2.0              |$55000 |55000.0     |\n",
      "|42 |Female|Master's       |Product Manager      |12.0             |$120000|120000.0    |\n",
      "|31 |Male  |Bachelor's     |Sales Manager        |4.0              |$80000 |80000.0     |\n",
      "|26 |Female|Bachelor's     |Marketing Coordinator|1.0              |$45000 |45000.0     |\n",
      "|38 |Male  |PhD            |Senior Scientist     |10.0             |$110000|110000.0    |\n",
      "|29 |Male  |Master's       |Software Developer   |3.0              |$75000 |75000.0     |\n",
      "|48 |Female|Bachelor's     |HR Manager           |18.0             |$140000|140000.0    |\n",
      "|35 |Male  |Bachelor's     |Financial Analyst    |6.0              |$65000 |65000.0     |\n",
      "|40 |Female|Master's       |Project Manager      |14.0             |$130000|130000.0    |\n",
      "|27 |Male  |Bachelor's     |Customer Service Rep |2.0              |$40000 |40000.0     |\n",
      "|44 |Male  |Bachelor's     |Operations Manager   |16.0             |$125000|125000.0    |\n",
      "|33 |Female|Master's       |Marketing Manager    |7.0              |$90000 |90000.0     |\n",
      "|39 |Male  |PhD            |Senior Engineer      |12.0             |$115000|115000.0    |\n",
      "|25 |Female|Bachelor's     |Data Entry Clerk     |0.0              |$35000 |35000.0     |\n",
      "+---+------+---------------+---------------------+-----------------+-------+------------+\n",
      "only showing top 20 rows\n",
      "\n"
     ]
    }
   ],
   "source": [
    "mydata.show(truncate=False)"
   ]
  }
 ],
 "metadata": {
  "kernelspec": {
   "display_name": "vscode_pyspark",
   "language": "python",
   "name": "vscode_pyspark"
  },
  "language_info": {
   "codemirror_mode": {
    "name": "ipython",
    "version": 3
   },
   "file_extension": ".py",
   "mimetype": "text/x-python",
   "name": "python",
   "nbconvert_exporter": "python",
   "pygments_lexer": "ipython3",
   "version": "3.11.11"
  }
 },
 "nbformat": 4,
 "nbformat_minor": 2
}
