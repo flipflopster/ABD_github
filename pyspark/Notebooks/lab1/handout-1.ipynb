{
 "cells": [
  {
   "cell_type": "markdown",
   "metadata": {},
   "source": [
    "---\n",
    "# Algoritmos para Big Data\n",
    "\n",
    "**Handout 1 - Data Processing with Spark**\n",
    "\n",
    "**2024/25**\n",
    "\n",
    "This lab class aims to introduce basic PySpark operations to process data that was stored in csv or json files.\n",
    "\n",
    "This notebook should contain the implementation of the tasks presented in the handout.\n",
    "\n",
    "Hence both handout and notebook must be considered together as one."
   ]
  },
  {
   "cell_type": "markdown",
   "metadata": {},
   "source": [
    "---\n",
    "# Task A - Data ingestion"
   ]
  },
  {
   "cell_type": "markdown",
   "metadata": {},
   "source": [
    "### 1."
   ]
  },
  {
   "cell_type": "markdown",
   "metadata": {},
   "source": [
    "**Datasests**\n",
    "\n",
    "The two files can be downloaded from, respectively \n",
    "\n",
    "https://bigdata.iscte-iul.eu/datasets/iot_devices.json\n",
    "\n",
    "https://bigdata.iscte-iul.eu/datasets/fire-calls.csv"
   ]
  },
  {
   "cell_type": "markdown",
   "metadata": {},
   "source": [
    "### 2."
   ]
  },
  {
   "cell_type": "markdown",
   "metadata": {},
   "source": [
    "## Spark setup"
   ]
  },
  {
   "cell_type": "code",
   "execution_count": 160,
   "metadata": {},
   "outputs": [],
   "source": [
    "# Basic imports\n",
    "import pyspark\n",
    "from pyspark.sql import SparkSession, Row\n",
    "import pyspark.sql.functions as F\n",
    "from pyspark.sql.window import Window"
   ]
  },
  {
   "cell_type": "code",
   "execution_count": 111,
   "metadata": {},
   "outputs": [],
   "source": [
    "# Build SparkSession\n",
    "spark = SparkSession.builder.appName(\"DataProcessing\").getOrCreate()"
   ]
  },
  {
   "cell_type": "markdown",
   "metadata": {},
   "source": [
    "## Reading data"
   ]
  },
  {
   "cell_type": "code",
   "execution_count": 112,
   "metadata": {},
   "outputs": [],
   "source": [
    "# Reading data\n",
    "data_dir = \"../Datasets/\"\n",
    "file_iot = data_dir + 'iot_devices.json'\n",
    "file_calls = data_dir + 'sf-fire-calls.csv'\n",
    "\n",
    "data_iot =  spark.read.json(file_iot)\n",
    "data_calls = spark.read.csv(file_calls, header=True, inferSchema=True)\n"
   ]
  },
  {
   "cell_type": "code",
   "execution_count": 113,
   "metadata": {},
   "outputs": [
    {
     "data": {
      "text/plain": [
       "DataFrame[CallNumber: int, UnitID: string, IncidentNumber: int, CallType: string, CallDate: string, WatchDate: string, CallFinalDisposition: string, AvailableDtTm: string, Address: string, City: string, Zipcode: int, Battalion: string, StationArea: string, Box: string, OriginalPriority: string, Priority: string, FinalPriority: int, ALSUnit: boolean, CallTypeGroup: string, NumAlarms: int, UnitType: string, UnitSequenceInCallDispatch: int, FirePreventionDistrict: string, SupervisorDistrict: string, Neighborhood: string, Location: string, RowID: string, Delay: double]"
      ]
     },
     "execution_count": 113,
     "metadata": {},
     "output_type": "execute_result"
    }
   ],
   "source": [
    "data_calls"
   ]
  },
  {
   "cell_type": "markdown",
   "metadata": {},
   "source": [
    "## Checking data\n",
    "\n",
    "**Basic structures and data types**\n",
    "\n",
    "- Columns and rows\n",
    "- DataFrames\n",
    "- Datatypes"
   ]
  },
  {
   "cell_type": "markdown",
   "metadata": {},
   "source": [
    "### 3."
   ]
  },
  {
   "cell_type": "code",
   "execution_count": 114,
   "metadata": {},
   "outputs": [
    {
     "name": "stdout",
     "output_type": "stream",
     "text": [
      "+----------+------+--------------+----------------+----------+----------+--------------------+--------------------+--------------------+----+-------+---------+-----------+----+----------------+--------+-------------+-------+-------------+---------+--------------+--------------------------+----------------------+------------------+--------------------+--------------------+-------------+---------+\n",
      "|CallNumber|UnitID|IncidentNumber|        CallType|  CallDate| WatchDate|CallFinalDisposition|       AvailableDtTm|             Address|City|Zipcode|Battalion|StationArea| Box|OriginalPriority|Priority|FinalPriority|ALSUnit|CallTypeGroup|NumAlarms|      UnitType|UnitSequenceInCallDispatch|FirePreventionDistrict|SupervisorDistrict|        Neighborhood|            Location|        RowID|    Delay|\n",
      "+----------+------+--------------+----------------+----------+----------+--------------------+--------------------+--------------------+----+-------+---------+-----------+----+----------------+--------+-------------+-------+-------------+---------+--------------+--------------------------+----------------------+------------------+--------------------+--------------------+-------------+---------+\n",
      "|  20110016|   T13|       2003235|  Structure Fire|01/11/2002|01/10/2002|               Other|01/11/2002 01:51:...|2000 Block of CAL...|  SF|  94109|      B04|         38|3362|               3|       3|            3|  false|         NULL|        1|         TRUCK|                         2|                     4|                 5|     Pacific Heights|(37.7895840679362...|020110016-T13|     2.95|\n",
      "|  20110022|   M17|       2003241|Medical Incident|01/11/2002|01/10/2002|               Other|01/11/2002 03:01:...|0 Block of SILVER...|  SF|  94124|      B10|         42|6495|               3|       3|            3|   true|         NULL|        1|         MEDIC|                         1|                    10|                10|Bayview Hunters P...|(37.7337623673897...|020110022-M17|      4.7|\n",
      "|  20110023|   M41|       2003242|Medical Incident|01/11/2002|01/10/2002|               Other|01/11/2002 02:39:...|MARKET ST/MCALLIS...|  SF|  94102|      B03|         01|1455|               3|       3|            3|   true|         NULL|        1|         MEDIC|                         2|                     3|                 6|          Tenderloin|(37.7811772186856...|020110023-M41|2.4333334|\n",
      "|  20110032|   E11|       2003250|    Vehicle Fire|01/11/2002|01/10/2002|               Other|01/11/2002 04:16:...|APPLETON AV/MISSI...|  SF|  94110|      B06|         32|5626|               3|       3|            3|  false|         NULL|        1|        ENGINE|                         1|                     6|                 9|      Bernal Heights|(37.7388432849018...|020110032-E11|      1.5|\n",
      "|  20110043|   B04|       2003259|          Alarms|01/11/2002|01/10/2002|               Other|01/11/2002 06:01:...|1400 Block of SUT...|  SF|  94109|      B04|         03|3223|               3|       3|            3|  false|         NULL|        1|         CHIEF|                         2|                     4|                 2|    Western Addition|(37.7872890372638...|020110043-B04|3.4833333|\n",
      "|  20110072|   T08|       2003279|  Structure Fire|01/11/2002|01/11/2002|               Other|01/11/2002 08:03:...|  BEALE ST/FOLSOM ST|  SF|  94105|      B03|         35|2122|               3|       3|            3|  false|         NULL|        1|         TRUCK|                         2|                     3|                 6|Financial Distric...|(37.7886866619654...|020110072-T08|     1.75|\n",
      "|  20110125|   E33|       2003301|          Alarms|01/11/2002|01/11/2002|               Other|01/11/2002 09:46:...|0 Block of FARALL...|  SF|  94112|      B09|         33|8324|               3|       3|            3|  false|         NULL|        1|        ENGINE|                         2|                     9|                11|Oceanview/Merced/...|(37.7140353531157...|020110125-E33|2.7166667|\n",
      "|  20110130|   E36|       2003304|          Alarms|01/11/2002|01/11/2002|               Other|01/11/2002 09:58:...|600 Block of POLK ST|  SF|  94102|      B02|         03|3114|               3|       3|            3|  false|         NULL|        1|        ENGINE|                         1|                     2|                 6|          Tenderloin|(37.7826266328595...|020110130-E36|1.7833333|\n",
      "|  20110197|   E05|       2003343|Medical Incident|01/11/2002|01/11/2002|               Other|01/11/2002 12:06:...|1500 Block of WEB...|  SF|  94115|      B04|         05|3513|               3|       3|            3|  false|         NULL|        1|        ENGINE|                         1|                     4|                 5|           Japantown|(37.784958590666,...|020110197-E05|1.5166667|\n",
      "|  20110215|   E06|       2003348|Medical Incident|01/11/2002|01/11/2002|               Other|01/11/2002 01:08:...|DIAMOND ST/MARKET ST|  SF|  94114|      B05|         06|5415|               3|       3|            3|  false|         NULL|        1|        ENGINE|                         1|                     5|                 8| Castro/Upper Market|(37.7618954753708...|020110215-E06|2.7666667|\n",
      "|  20110274|   M07|       2003381|Medical Incident|01/11/2002|01/11/2002|               Other|01/11/2002 03:31:...|2700 Block of MIS...|  SF|  94110|      B06|         11|5525|               1|       1|            2|   true|         NULL|        1|         MEDIC|                         1|                     6|                 9|             Mission|(37.7530339738059...|020110274-M07|2.1833334|\n",
      "|  20110275|   T15|       2003382|  Structure Fire|01/11/2002|01/11/2002|               Other|01/11/2002 02:59:...|BRUNSWICK ST/GUTT...|  SF|  94112|      B09|         43|6218|               3|       3|            3|  false|         NULL|        1|         TRUCK|                         1|                     9|                11|           Excelsior|(37.7105545807996...|020110275-T15|      2.5|\n",
      "|  20110304|   E03|       2003399|Medical Incident|01/11/2002|01/11/2002|               Other|01/11/2002 04:22:...|1000 Block of SUT...|  SF|  94109|      B04|         03|1557|               3|       3|            3|  false|         NULL|        1|        ENGINE|                         1|                     4|                 3|            Nob Hill|(37.7881263034393...|020110304-E03|2.4166667|\n",
      "|  20110308|   E14|       2003403|Medical Incident|01/11/2002|01/11/2002|               Other|01/11/2002 04:18:...|100 Block of 21ST...|  SF|  94121|      B07|         14|7173|               3|       3|            3|  false|         NULL|        1|        ENGINE|                         1|                     7|                 1|      Outer Richmond|(37.7850084431077...|020110308-E14|     4.95|\n",
      "|  20110313|   B10|       2003408|  Structure Fire|01/11/2002|01/11/2002|               Other|01/11/2002 04:09:...|700 Block of CAPP ST|  SF|  94110|      B06|         07|5472|               3|       3|            3|  false|         NULL|        1|         CHIEF|                         6|                     6|                 9|             Mission|(37.7547064357942...|020110313-B10|1.4166666|\n",
      "|  20110313|    D3|       2003408|  Structure Fire|01/11/2002|01/11/2002|               Other|01/11/2002 04:09:...|700 Block of CAPP ST|  SF|  94110|      B06|         07|5472|               3|       3|            3|  false|         NULL|        1|         CHIEF|                         4|                     6|                 9|             Mission|(37.7547064357942...| 020110313-D3|2.5333333|\n",
      "|  20110313|   E32|       2003408|  Structure Fire|01/11/2002|01/11/2002|               Other|01/11/2002 04:09:...|700 Block of CAPP ST|  SF|  94110|      B06|         07|5472|               3|       3|            3|   true|         NULL|        1|        ENGINE|                         8|                     6|                 9|             Mission|(37.7547064357942...|020110313-E32|1.8833333|\n",
      "|  20110315|   RC2|       2003409|Medical Incident|01/11/2002|01/11/2002|               Other|01/11/2002 04:34:...|200 Block of LAGU...|  SF|  94116|      B08|         20|8635|               3|       3|            3|   true|         NULL|        1|RESCUE CAPTAIN|                         2|                     8|                 7|  West of Twin Peaks|(37.7501117393668...|020110315-RC2|     5.35|\n",
      "|  20110330|   E14|       2003417|Medical Incident|01/11/2002|01/11/2002|               Other|01/11/2002 04:51:...|BALBOA ST/PARK PR...|  SF|  94118|      B07|         31|7145|               3|       3|            3|  false|         NULL|        1|        ENGINE|                         1|                     7|                 1|      Inner Richmond|(37.7768682293368...|020110330-E14|      2.0|\n",
      "|  20110330|   M12|       2003417|Medical Incident|01/11/2002|01/11/2002|               Other|01/11/2002 04:51:...|BALBOA ST/PARK PR...|  SF|  94118|      B07|         31|7145|               3|       3|            3|   true|         NULL|        1|         MEDIC|                         2|                     7|                 1|      Inner Richmond|(37.7768682293368...|020110330-M12|1.8166667|\n",
      "+----------+------+--------------+----------------+----------+----------+--------------------+--------------------+--------------------+----+-------+---------+-----------+----+----------------+--------+-------------+-------+-------------+---------+--------------+--------------------------+----------------------+------------------+--------------------+--------------------+-------------+---------+\n",
      "only showing top 20 rows\n",
      "\n"
     ]
    }
   ],
   "source": [
    "# Checking iot data\n",
    "data_calls.show()"
   ]
  },
  {
   "cell_type": "code",
   "execution_count": 115,
   "metadata": {},
   "outputs": [
    {
     "name": "stdout",
     "output_type": "stream",
     "text": [
      "root\n",
      " |-- battery_level: long (nullable = true)\n",
      " |-- c02_level: long (nullable = true)\n",
      " |-- cca2: string (nullable = true)\n",
      " |-- cca3: string (nullable = true)\n",
      " |-- cn: string (nullable = true)\n",
      " |-- device_id: long (nullable = true)\n",
      " |-- device_name: string (nullable = true)\n",
      " |-- humidity: long (nullable = true)\n",
      " |-- ip: string (nullable = true)\n",
      " |-- latitude: double (nullable = true)\n",
      " |-- lcd: string (nullable = true)\n",
      " |-- longitude: double (nullable = true)\n",
      " |-- scale: string (nullable = true)\n",
      " |-- temp: long (nullable = true)\n",
      " |-- timestamp: long (nullable = true)\n",
      "\n"
     ]
    }
   ],
   "source": [
    "# Checking calls data\n",
    "data_iot.printSchema()\n"
   ]
  },
  {
   "cell_type": "code",
   "execution_count": 116,
   "metadata": {},
   "outputs": [
    {
     "name": "stdout",
     "output_type": "stream",
     "text": [
      "15 ['battery_level', 'c02_level', 'cca2', 'cca3', 'cn', 'device_id', 'device_name', 'humidity', 'ip', 'latitude', 'lcd', 'longitude', 'scale', 'temp', 'timestamp']\n",
      "28 ['CallNumber', 'UnitID', 'IncidentNumber', 'CallType', 'CallDate', 'WatchDate', 'CallFinalDisposition', 'AvailableDtTm', 'Address', 'City', 'Zipcode', 'Battalion', 'StationArea', 'Box', 'OriginalPriority', 'Priority', 'FinalPriority', 'ALSUnit', 'CallTypeGroup', 'NumAlarms', 'UnitType', 'UnitSequenceInCallDispatch', 'FirePreventionDistrict', 'SupervisorDistrict', 'Neighborhood', 'Location', 'RowID', 'Delay']\n"
     ]
    }
   ],
   "source": [
    "col_iot = data_iot.columns\n",
    "col_calls = data_calls.columns\n",
    "print(len(col_iot), col_iot)\n",
    "print(len(col_calls), col_calls)"
   ]
  },
  {
   "cell_type": "markdown",
   "metadata": {},
   "source": [
    "**Expected results**\n",
    "```raw\n",
    "15 ['battery_level', 'c02_level', 'cca2', 'cca3', 'cn', 'device_id', 'device_name', 'humidity', 'ip', 'latitude', 'lcd', 'longitude', 'scale', 'temp', 'timestamp']\n",
    "28 ['CallNumber', 'UnitID', 'IncidentNumber', 'CallType', 'CallDate', 'WatchDate', 'CallFinalDisposition', 'AvailableDtTm', 'Address', 'City', 'Zipcode', 'Battalion', 'StationArea', 'Box', 'OriginalPriority', 'Priority', 'FinalPriority', 'ALSUnit', 'CallTypeGroup', 'NumAlarms', 'UnitType', 'UnitSequenceInCallDispatch', 'FirePreventionDistrict', 'SupervisorDistrict', 'Neighborhood', 'Location', 'RowID', 'Delay']\n",
    "```"
   ]
  },
  {
   "cell_type": "markdown",
   "metadata": {},
   "source": [
    "### 4."
   ]
  },
  {
   "cell_type": "code",
   "execution_count": 117,
   "metadata": {},
   "outputs": [
    {
     "data": {
      "text/plain": [
       "DataFrame[battery_level: bigint, c02_level: bigint, cca2: string, cca3: string, cn: string, device_id: bigint, device_name: string, humidity: bigint, ip: string, latitude: double, lcd: string, longitude: double, scale: string, temp: bigint, timestamp: bigint]"
      ]
     },
     "execution_count": 117,
     "metadata": {},
     "output_type": "execute_result"
    }
   ],
   "source": [
    "# get the first row\n",
    "first_row = data_iot\n",
    "first_row"
   ]
  },
  {
   "cell_type": "markdown",
   "metadata": {},
   "source": [
    "### 5."
   ]
  },
  {
   "cell_type": "code",
   "execution_count": 118,
   "metadata": {},
   "outputs": [
    {
     "data": {
      "text/plain": [
       "DataFrame[battery_level: bigint, c02_level: bigint, cca2: string, cca3: string, cn: string, device_id: bigint, device_name: string, humidity: bigint, ip: string, latitude: double, lcd: string, longitude: double, scale: string, temp: bigint, timestamp: bigint]"
      ]
     },
     "execution_count": 118,
     "metadata": {},
     "output_type": "execute_result"
    }
   ],
   "source": [
    "# get the first five rows\n",
    "five_rows = data_iot\n",
    "five_rows"
   ]
  },
  {
   "cell_type": "markdown",
   "metadata": {},
   "source": [
    "---\n",
    "# Task B - Data cleaning"
   ]
  },
  {
   "cell_type": "markdown",
   "metadata": {},
   "source": [
    "### 1."
   ]
  },
  {
   "cell_type": "markdown",
   "metadata": {},
   "source": [
    "## Removing duplicates if any"
   ]
  },
  {
   "cell_type": "code",
   "execution_count": 119,
   "metadata": {},
   "outputs": [
    {
     "name": "stdout",
     "output_type": "stream",
     "text": [
      "  data_iot: number of rows: 198166, after dropduplicates: 198164\n",
      "data_calls: number of rows: 175296, after dropduplicates: 175296\n"
     ]
    }
   ],
   "source": [
    "# Checking first: use dropDuplicates() and count()\n",
    "print(f'  data_iot: number of rows: {data_iot.count() }, after dropduplicates: {data_iot.dropDuplicates().count()}')\n",
    "print(f'data_calls: number of rows: {data_calls.count() }, after dropduplicates: {data_calls.dropDuplicates().count()}')"
   ]
  },
  {
   "cell_type": "code",
   "execution_count": 120,
   "metadata": {},
   "outputs": [
    {
     "data": {
      "text/plain": [
       "198164"
      ]
     },
     "execution_count": 120,
     "metadata": {},
     "output_type": "execute_result"
    }
   ],
   "source": [
    "# Remove data_iot duplicates\n",
    "data_iot = data_iot.dropDuplicates()\n",
    "data_iot.count()\n",
    "\n",
    "# No need for data_calls"
   ]
  },
  {
   "cell_type": "markdown",
   "metadata": {},
   "source": [
    "## Handling missing values"
   ]
  },
  {
   "cell_type": "markdown",
   "metadata": {},
   "source": [
    "### 2."
   ]
  },
  {
   "cell_type": "code",
   "execution_count": 121,
   "metadata": {},
   "outputs": [
    {
     "name": "stdout",
     "output_type": "stream",
     "text": [
      "Before dropna would be: data_iot = 198164 rows\n",
      "After dropna would be: data_iot = 198164 rows\n",
      "Before dropna would be: data_calls = 175296 rows\n",
      "After dropna would be: data_calls = 74304 rows\n"
     ]
    }
   ],
   "source": [
    "# Checking first\n",
    "\n",
    "# use dropna(how='any')\n",
    "# how='all' remove only if all values are NA\n",
    "print(f\"Before dropna would be: data_iot = {data_iot.count()  } rows\")\n",
    "print(f\"After dropna would be: data_iot = {data_iot.dropna(how='any').count()  } rows\")\n",
    "print(f\"Before dropna would be: data_calls = {data_calls.count() } rows\")\n",
    "print(f\"After dropna would be: data_calls = {data_calls.dropna(how='any').count() } rows\")\n"
   ]
  },
  {
   "cell_type": "code",
   "execution_count": 122,
   "metadata": {},
   "outputs": [
    {
     "data": {
      "text/plain": [
       "{'CallNumber': 0,\n",
       " 'UnitID': 0,\n",
       " 'IncidentNumber': 0,\n",
       " 'CallType': 0,\n",
       " 'CallDate': 0,\n",
       " 'WatchDate': 0,\n",
       " 'CallFinalDisposition': 0,\n",
       " 'AvailableDtTm': 1794,\n",
       " 'Address': 0,\n",
       " 'City': 207,\n",
       " 'Zipcode': 142,\n",
       " 'Battalion': 0,\n",
       " 'StationArea': 75,\n",
       " 'Box': 13,\n",
       " 'OriginalPriority': 922,\n",
       " 'Priority': 0,\n",
       " 'FinalPriority': 0,\n",
       " 'ALSUnit': 0,\n",
       " 'CallTypeGroup': 99517,\n",
       " 'NumAlarms': 0,\n",
       " 'UnitType': 0,\n",
       " 'UnitSequenceInCallDispatch': 1,\n",
       " 'FirePreventionDistrict': 0,\n",
       " 'SupervisorDistrict': 0,\n",
       " 'Neighborhood': 0,\n",
       " 'Location': 0,\n",
       " 'RowID': 0,\n",
       " 'Delay': 0}"
      ]
     },
     "execution_count": 122,
     "metadata": {},
     "output_type": "execute_result"
    }
   ],
   "source": [
    "# Let us see in calls where the NULL values are (by columns)\n",
    "dict_nulls_calls = {col: data_calls.filter(data_calls[col].isNull()).count() for col in data_calls.columns}\n",
    "\n",
    "dict_nulls_calls"
   ]
  },
  {
   "cell_type": "code",
   "execution_count": 123,
   "metadata": {},
   "outputs": [
    {
     "data": {
      "text/plain": [
       "{'battery_level': 0,\n",
       " 'c02_level': 0,\n",
       " 'cca2': 0,\n",
       " 'cca3': 0,\n",
       " 'cn': 0,\n",
       " 'device_id': 0,\n",
       " 'device_name': 0,\n",
       " 'humidity': 0,\n",
       " 'ip': 0,\n",
       " 'latitude': 0,\n",
       " 'lcd': 0,\n",
       " 'longitude': 0,\n",
       " 'scale': 0,\n",
       " 'temp': 0,\n",
       " 'timestamp': 0}"
      ]
     },
     "execution_count": 123,
     "metadata": {},
     "output_type": "execute_result"
    }
   ],
   "source": [
    "# Let us see in iot where the NULL values are (by columns)\n",
    "dict_nulls_iot = data_iot.agg(*[F.count(F.when(F.isnull(c), c)).alias(c) for c in data_iot.columns]).collect()[0].asDict()\n",
    "dict_nulls_iot"
   ]
  },
  {
   "cell_type": "markdown",
   "metadata": {},
   "source": [
    "### 3."
   ]
  },
  {
   "cell_type": "code",
   "execution_count": 124,
   "metadata": {},
   "outputs": [],
   "source": [
    "# Removal of columns 'AvailableDtTm', 'OriginalPriority', 'CallTypeGroup'\n",
    "cols_to_dismiss =  ['AvailableDtTm', 'OriginalPriority', 'CallTypeGroup']\n",
    "\n",
    "# Use drop() and reference the list with *\n",
    "data_cals = data_calls.drop(*cols_to_dismiss)\n",
    "\n",
    "# or the other way around: pick up the valid ones"
   ]
  },
  {
   "cell_type": "markdown",
   "metadata": {},
   "source": [
    "### 4."
   ]
  },
  {
   "cell_type": "code",
   "execution_count": 125,
   "metadata": {},
   "outputs": [
    {
     "name": "stdout",
     "output_type": "stream",
     "text": [
      "after droping columns data_calls = 175296 rows, after removing NULLs: 74304 rows\n"
     ]
    }
   ],
   "source": [
    "# data_calls.describe().show()\n",
    "\n",
    "# Checking the number of rows before and after removing NULLs\n",
    "print(f\"after droping columns data_calls = {data_calls.count() } rows, after removing NULLs: {data_calls.dropna(how = 'any').count() } rows\")\n"
   ]
  },
  {
   "cell_type": "markdown",
   "metadata": {},
   "source": [
    "### 5."
   ]
  },
  {
   "cell_type": "code",
   "execution_count": 126,
   "metadata": {},
   "outputs": [
    {
     "data": {
      "text/plain": [
       "74304"
      ]
     },
     "execution_count": 126,
     "metadata": {},
     "output_type": "execute_result"
    }
   ],
   "source": [
    "# Drop nulls now\n",
    "data_calls = data_calls.dropna(how='any')\n",
    "data_calls.count()"
   ]
  },
  {
   "cell_type": "markdown",
   "metadata": {},
   "source": [
    "**Note:** We could have use fill in, instead of dropping the rows:\n",
    "\n",
    "`df_calls.na.fill({'column: value})`"
   ]
  },
  {
   "cell_type": "code",
   "execution_count": 127,
   "metadata": {},
   "outputs": [
    {
     "name": "stdout",
     "output_type": "stream",
     "text": [
      "-RECORD 0------------------------------------------\n",
      " CallNumber                 | 120010012            \n",
      " UnitID                     | HT48                 \n",
      " IncidentNumber             | 12000007             \n",
      " CallType                   | Outside Fire         \n",
      " CallDate                   | 01/01/2012           \n",
      " WatchDate                  | 12/31/2011           \n",
      " CallFinalDisposition       | Other                \n",
      " AvailableDtTm              | 01/01/2012 01:46:... \n",
      " Address                    | 0 Block of AVENUE... \n",
      " City                       | TI                   \n",
      " Zipcode                    | 94130                \n",
      " Battalion                  | B03                  \n",
      " StationArea                | 48                   \n",
      " Box                        | 2931                 \n",
      " OriginalPriority           | 3                    \n",
      " Priority                   | 3                    \n",
      " FinalPriority              | 3                    \n",
      " ALSUnit                    | false                \n",
      " CallTypeGroup              | Fire                 \n",
      " NumAlarms                  | 1                    \n",
      " UnitType                   | SUPPORT              \n",
      " UnitSequenceInCallDispatch | 3                    \n",
      " FirePreventionDistrict     | None                 \n",
      " SupervisorDistrict         | 6                    \n",
      " Neighborhood               | Treasure Island      \n",
      " Location                   | (37.8153429065568... \n",
      " RowID                      | 120010012-HT48       \n",
      " Delay                      | 3.8                  \n",
      "only showing top 1 row\n",
      "\n"
     ]
    }
   ],
   "source": [
    "# The outcome\n",
    "# Show one record in vertical mode for better reading\n",
    "data_calls.show(1, vertical=True)"
   ]
  },
  {
   "cell_type": "markdown",
   "metadata": {},
   "source": [
    "### 6."
   ]
  },
  {
   "cell_type": "code",
   "execution_count": 128,
   "metadata": {},
   "outputs": [
    {
     "name": "stdout",
     "output_type": "stream",
     "text": [
      "-RECORD 0------------------------------------------\n",
      " CallNumber                 | 120010012            \n",
      " UnitID                     | HT48                 \n",
      " IncidentNumber             | 12000007             \n",
      " CallType                   | Outside Fire         \n",
      " CallDate                   | 01/01/2012           \n",
      " WatchDate                  | 12/31/2011           \n",
      " CallFinalDisposition       | Other                \n",
      " AvailableDtTm              | 01/01/2012 01:46:... \n",
      " Address                    | 0 Block of AVENUE... \n",
      " City                       | TI                   \n",
      " Zipcode                    | 94130                \n",
      " Battalion                  | B03                  \n",
      " StationArea                | 48                   \n",
      " Box                        | 2931                 \n",
      " OriginalPriority           | 3                    \n",
      " Priority                   | 3                    \n",
      " FinalPriority              | 3                    \n",
      " ALSUnit                    | false                \n",
      " CallTypeGroup              | Fire                 \n",
      " NumAlarms                  | 1                    \n",
      " UnitType                   | SUPPORT              \n",
      " UnitSequenceInCallDispatch | 3                    \n",
      " FirePreventionDistrict     | None                 \n",
      " SupervisorDistrict         | 6                    \n",
      " Neighborhood               | Treasure Island      \n",
      " Location                   | (37.8153429065568... \n",
      " RowID                      | 120010012-HT48       \n",
      " Delay                      | 3.8                  \n",
      " CallDateTS                 | 2012-01-01 00:00:00  \n",
      " WatchDateTS                | 2011-12-31 00:00:00  \n",
      "only showing top 1 row\n",
      "\n"
     ]
    }
   ],
   "source": [
    "# Transforming datatypes\n",
    "# Create two new columns 'CallDateTS' and 'WatchDateTS' with withColumn and F.to_timestamp()\n",
    "data_calls = ( data_calls.withColumn('CallDateTS', F.to_timestamp('CallDate', 'MM/dd/yyyy'))\n",
    "                          .withColumn('WatchDateTS', F.to_timestamp('WatchDate', 'MM/dd/yyyy'))\n",
    "              \n",
    ")\n",
    "data_calls.show(1, vertical=True)\n"
   ]
  },
  {
   "cell_type": "markdown",
   "metadata": {},
   "source": [
    "---\n",
    "# Task C - Data transformation"
   ]
  },
  {
   "cell_type": "markdown",
   "metadata": {},
   "source": [
    "### 1."
   ]
  },
  {
   "cell_type": "code",
   "execution_count": 133,
   "metadata": {},
   "outputs": [
    {
     "name": "stdout",
     "output_type": "stream",
     "text": [
      "+----------+------+--------------+----------------+----------+----------+--------------------+--------------------+--------------------+----+-------+---------+-----------+----+----------------+--------+-------------+-------+--------------------+------------+--------+--------------------------+----------------------+------------------+--------------------+--------------------+--------------+---------+-------------------+-------------------+-------------+---------------+\n",
      "|CallNumber|UnitID|IncidentNumber|        CallType|  CallDate| WatchDate|CallFinalDisposition|       AvailableDtTm|             Address|City|Zipcode|Battalion|StationArea| Box|OriginalPriority|Priority|FinalPriority|ALSUnit|       CallTypeGroup|NumberAlarms|UnitType|UnitSequenceInCallDispatch|FirePreventionDistrict|SupervisorDistrict|        Neighborhood|            Location|         RowID|    Delay|         CallDateTS|        WatchDateTS|CallDateMonth|CallDateWeekDay|\n",
      "+----------+------+--------------+----------------+----------+----------+--------------------+--------------------+--------------------+----+-------+---------+-----------+----+----------------+--------+-------------+-------+--------------------+------------+--------+--------------------------+----------------------+------------------+--------------------+--------------------+--------------+---------+-------------------+-------------------+-------------+---------------+\n",
      "| 120010012|  HT48|      12000007|    Outside Fire|01/01/2012|12/31/2011|               Other|01/01/2012 01:46:...|0 Block of AVENUE...|  TI|  94130|      B03|         48|2931|               3|       3|            3|  false|                Fire|           1| SUPPORT|                         3|                  None|                 6|     Treasure Island|(37.8153429065568...|120010012-HT48|      3.8|2012-01-01 00:00:00|2011-12-31 00:00:00|            1|              1|\n",
      "| 120010022|   T16|      12000015|Medical Incident|01/01/2012|12/31/2011|               Other|01/01/2012 12:34:...|DIVISADERO ST/LOM...|  SF|  94123|      B04|         16|4223|               3|       3|            3|  false|Potentially Life-...|           1|   TRUCK|                         1|                     4|                 2|              Marina|(37.7990000491389...| 120010022-T16|5.2166667|2012-01-01 00:00:00|2011-12-31 00:00:00|            1|              1|\n",
      "| 120010024|  KM14|      12000029|Medical Incident|01/01/2012|12/31/2011|    Code 2 Transport|01/01/2012 01:14:...|500 Block of BARN...|  SF|  94124|      B10|         09|6427|               2|       2|            2|  false|Non Life-threatening|           1| PRIVATE|                         1|                    10|                10|Bayview Hunters P...|(37.74044593571, ...|120010024-KM14|    15.95|2012-01-01 00:00:00|2011-12-31 00:00:00|            1|              1|\n",
      "| 120010051|   E28|      12000041|Medical Incident|01/01/2012|12/31/2011|               Other|01/01/2012 01:02:...|300 Block of GREE...|  SF|  94133|      B01|         28|1225|               3|       3|            3|   true|Potentially Life-...|           1|  ENGINE|                         1|                     1|                 3|         North Beach|(37.802884074581,...| 120010051-E28|      2.7|2012-01-01 00:00:00|2011-12-31 00:00:00|            1|              1|\n",
      "| 120010100|   E12|      12000080|Medical Incident|01/01/2012|12/31/2011|               Other|01/01/2012 01:25:...|600 Block of COLE ST|  SF|  94117|      B05|         12|4532|               2|       3|            3|   true|Potentially Life-...|           1|  ENGINE|                         2|                     5|                 5|      Haight Ashbury|(37.769068075766,...| 120010100-E12|5.5333333|2012-01-01 00:00:00|2011-12-31 00:00:00|            1|              1|\n",
      "+----------+------+--------------+----------------+----------+----------+--------------------+--------------------+--------------------+----+-------+---------+-----------+----+----------------+--------+-------------+-------+--------------------+------------+--------+--------------------------+----------------------+------------------+--------------------+--------------------+--------------+---------+-------------------+-------------------+-------------+---------------+\n",
      "only showing top 5 rows\n",
      "\n"
     ]
    }
   ],
   "source": [
    "# Adding transformed (derived) columns\n",
    "# Two new columns 'CallDateMonth' and 'CallDateWeekDay' and use F.month and F.dayofweek on 'CallDateTS'\n",
    "data_calls = ( data_calls.withColumn('CallDateMonth', F.month('CallDateTS'))\n",
    "                            .withColumn('CallDateWeekDay', F.dayofweek('CallDateTS'))\n",
    "              \n",
    "              \n",
    ")\n",
    "\n",
    "data_calls.show(5)"
   ]
  },
  {
   "cell_type": "markdown",
   "metadata": {},
   "source": [
    "### 2."
   ]
  },
  {
   "cell_type": "code",
   "execution_count": 134,
   "metadata": {},
   "outputs": [
    {
     "name": "stdout",
     "output_type": "stream",
     "text": [
      "+----------+------+--------------+----------------+----------+----------+--------------------+--------------------+--------------------+----+-------+---------+-----------+----+----------------+--------+-------------+-------+--------------------+------------+--------+--------------------------+----------------------+------------------+--------------------+--------------------+--------------+---------+-------------------+-------------------+-------------+---------------+\n",
      "|CallNumber|UnitID|IncidentNumber|        CallType|  CallDate| WatchDate|CallFinalDisposition|       AvailableDtTm|             Address|City|Zipcode|Battalion|StationArea| Box|OriginalPriority|Priority|FinalPriority|ALSUnit|       CallTypeGroup|NumberAlarms|UnitType|UnitSequenceInCallDispatch|FirePreventionDistrict|SupervisorDistrict|        Neighborhood|            Location|         RowID|    Delay|         CallDateTS|        WatchDateTS|CallDateMonth|CallDateWeekDay|\n",
      "+----------+------+--------------+----------------+----------+----------+--------------------+--------------------+--------------------+----+-------+---------+-----------+----+----------------+--------+-------------+-------+--------------------+------------+--------+--------------------------+----------------------+------------------+--------------------+--------------------+--------------+---------+-------------------+-------------------+-------------+---------------+\n",
      "| 120010012|  HT48|      12000007|    Outside Fire|01/01/2012|12/31/2011|               Other|01/01/2012 01:46:...|0 Block of AVENUE...|  TI|  94130|      B03|         48|2931|               3|       3|            3|  false|                Fire|           1| SUPPORT|                         3|                  None|                 6|     Treasure Island|(37.8153429065568...|120010012-HT48|      3.8|2012-01-01 00:00:00|2011-12-31 00:00:00|            1|              1|\n",
      "| 120010022|   T16|      12000015|Medical Incident|01/01/2012|12/31/2011|               Other|01/01/2012 12:34:...|DIVISADERO ST/LOM...|  SF|  94123|      B04|         16|4223|               3|       3|            3|  false|Potentially Life-...|           1|   TRUCK|                         1|                     4|                 2|              Marina|(37.7990000491389...| 120010022-T16|5.2166667|2012-01-01 00:00:00|2011-12-31 00:00:00|            1|              1|\n",
      "| 120010024|  KM14|      12000029|Medical Incident|01/01/2012|12/31/2011|    Code 2 Transport|01/01/2012 01:14:...|500 Block of BARN...|  SF|  94124|      B10|         09|6427|               2|       2|            2|  false|Non Life-threatening|           1| PRIVATE|                         1|                    10|                10|Bayview Hunters P...|(37.74044593571, ...|120010024-KM14|    15.95|2012-01-01 00:00:00|2011-12-31 00:00:00|            1|              1|\n",
      "| 120010051|   E28|      12000041|Medical Incident|01/01/2012|12/31/2011|               Other|01/01/2012 01:02:...|300 Block of GREE...|  SF|  94133|      B01|         28|1225|               3|       3|            3|   true|Potentially Life-...|           1|  ENGINE|                         1|                     1|                 3|         North Beach|(37.802884074581,...| 120010051-E28|      2.7|2012-01-01 00:00:00|2011-12-31 00:00:00|            1|              1|\n",
      "| 120010100|   E12|      12000080|Medical Incident|01/01/2012|12/31/2011|               Other|01/01/2012 01:25:...|600 Block of COLE ST|  SF|  94117|      B05|         12|4532|               2|       3|            3|   true|Potentially Life-...|           1|  ENGINE|                         2|                     5|                 5|      Haight Ashbury|(37.769068075766,...| 120010100-E12|5.5333333|2012-01-01 00:00:00|2011-12-31 00:00:00|            1|              1|\n",
      "+----------+------+--------------+----------------+----------+----------+--------------------+--------------------+--------------------+----+-------+---------+-----------+----+----------------+--------+-------------+-------+--------------------+------------+--------+--------------------------+----------------------+------------------+--------------------+--------------------+--------------+---------+-------------------+-------------------+-------------+---------------+\n",
      "only showing top 5 rows\n",
      "\n"
     ]
    }
   ],
   "source": [
    "# Change name of column NumAlarms to NumberAlarms with withColumnRenamed\n",
    "data_calls = data_calls.withColumnRenamed('NumAlarms', 'NumberAlarms')\n",
    "\n",
    "data_calls.show(5)"
   ]
  },
  {
   "cell_type": "markdown",
   "metadata": {},
   "source": [
    "### 3."
   ]
  },
  {
   "cell_type": "code",
   "execution_count": 137,
   "metadata": {},
   "outputs": [
    {
     "name": "stdout",
     "output_type": "stream",
     "text": [
      "+----------+------+--------------+--------------------+----------+----------+--------------------+--------------------+--------------------+-------------+-------+---------+-----------+----+----------------+--------+-------------+-------+--------------------+------------+--------+--------------------------+----------------------+------------------+---------------+--------------------+--------------+---------+-------------------+-------------------+-------------+---------------+\n",
      "|CallNumber|UnitID|IncidentNumber|            CallType|  CallDate| WatchDate|CallFinalDisposition|       AvailableDtTm|             Address|         City|Zipcode|Battalion|StationArea| Box|OriginalPriority|Priority|FinalPriority|ALSUnit|       CallTypeGroup|NumberAlarms|UnitType|UnitSequenceInCallDispatch|FirePreventionDistrict|SupervisorDistrict|   Neighborhood|            Location|         RowID|    Delay|         CallDateTS|        WatchDateTS|CallDateMonth|CallDateWeekDay|\n",
      "+----------+------+--------------+--------------------+----------+----------+--------------------+--------------------+--------------------+-------------+-------+---------+-----------+----+----------------+--------+-------------+-------+--------------------+------------+--------+--------------------------+----------------------+------------------+---------------+--------------------+--------------+---------+-------------------+-------------------+-------------+---------------+\n",
      "| 183104004|   B01|      18130302|Gas Leak (Natural...|11/06/2018|11/06/2018|                Fire|11/06/2018 09:39:...|1800 Block of VAL...|San Francisco|  94123|      B04|         38|3334|               3|       3|            3|  false|               Alarm|           1|   CHIEF|                         5|                     4|                 2|Pacific Heights|(37.7961133405998...| 183104004-B01|3.2333333|2018-11-06 00:00:00|2018-11-06 00:00:00|           11|              3|\n",
      "| 183103638|  KM12|      18130272|    Medical Incident|11/06/2018|11/06/2018|    Code 3 Transport|11/06/2018 08:43:...|    EDDY ST/MASON ST|San Francisco|  94102|      B03|         03|1453|               3|       3|            3|  false|Potentially Life-...|           1| PRIVATE|                         2|                     3|                 6|     Tenderloin|(37.7843492693966...|183103638-KM12|     3.95|2018-11-06 00:00:00|2018-11-06 00:00:00|           11|              3|\n",
      "| 183103610|    86|      18130268|   Traffic Collision|11/06/2018|11/06/2018|    Code 2 Transport|11/06/2018 08:38:...|0 Block of DUBOCE AV|San Francisco|  94103|      B02|         36|5124|               3|       A|            2|   true|Potentially Life-...|           1|   MEDIC|                         1|                     2|                 9|        Mission|(37.7701227416202...|  183103610-86|1.9166666|2018-11-06 00:00:00|2018-11-06 00:00:00|           11|              3|\n",
      "| 183103604|   E19|      18130265|    Medical Incident|11/06/2018|11/06/2018|Patient Declined ...|11/06/2018 07:58:...|2900 Block of WAW...|San Francisco|  94116|      B08|         18|7616|               2|       2|            2|   true|Non Life-threatening|           1|  ENGINE|                         2|                     8|                 4|Sunset/Parkside|(37.7363860798706...| 183103604-E19|     5.45|2018-11-06 00:00:00|2018-11-06 00:00:00|           11|              3|\n",
      "| 183103573|  QRV1|      18130262|    Medical Incident|11/06/2018|11/06/2018|     Gone on Arrival|11/06/2018 07:29:...| 100 Block of 6TH ST|San Francisco|  94103|      B03|         01|2251|               2|       2|            2|   true|Potentially Life-...|           1| SUPPORT|                         2|                     3|                 6|South of Market|(37.7807144867658...|183103573-QRV1|7.1833334|2018-11-06 00:00:00|2018-11-06 00:00:00|           11|              3|\n",
      "+----------+------+--------------+--------------------+----------+----------+--------------------+--------------------+--------------------+-------------+-------+---------+-----------+----+----------------+--------+-------------+-------+--------------------+------------+--------+--------------------------+----------------------+------------------+---------------+--------------------+--------------+---------+-------------------+-------------------+-------------+---------------+\n",
      "only showing top 5 rows\n",
      "\n"
     ]
    }
   ],
   "source": [
    "# Use sort() with F.col().desc() on 'CallNumber'\n",
    "data_calls = data_calls.sort(F.col('CallNumber'), ascending=False)\n",
    "\n",
    "data_calls.show(5)"
   ]
  },
  {
   "cell_type": "markdown",
   "metadata": {},
   "source": [
    "---\n",
    "# Task D - Data aggregation"
   ]
  },
  {
   "cell_type": "markdown",
   "metadata": {},
   "source": [
    "## Basic aggregation"
   ]
  },
  {
   "cell_type": "markdown",
   "metadata": {},
   "source": [
    "### 1."
   ]
  },
  {
   "cell_type": "code",
   "execution_count": 147,
   "metadata": {},
   "outputs": [
    {
     "name": "stdout",
     "output_type": "stream",
     "text": [
      "+------------------+\n",
      "| avg(NumberAlarms)|\n",
      "+------------------+\n",
      "|1.0032568906115418|\n",
      "+------------------+\n",
      "\n",
      "+-----------------+\n",
      "|min(NumberAlarms)|\n",
      "+-----------------+\n",
      "|                1|\n",
      "+-----------------+\n",
      "\n",
      "+-----------------+\n",
      "|max(NumberAlarms)|\n",
      "+-----------------+\n",
      "|                5|\n",
      "+-----------------+\n",
      "\n"
     ]
    }
   ],
   "source": [
    "# Find out min, max, average, sum, count\n",
    "# Use agg() either with {'column name': 'function'} or F.avg() F.min() F.max() and F.sum()\n",
    "data_calls.agg({'NumberAlarms': 'avg'}).show()\n",
    "data_calls.agg(F.min('NumberAlarms')).show()    \n",
    "data_calls.agg(F.max('NumberAlarms')).show()    \n"
   ]
  },
  {
   "cell_type": "markdown",
   "metadata": {},
   "source": [
    "### 2."
   ]
  },
  {
   "cell_type": "code",
   "execution_count": 149,
   "metadata": {},
   "outputs": [
    {
     "name": "stdout",
     "output_type": "stream",
     "text": [
      "+-------+--------------------+------------------+--------------------+--------------------+----------+----------+--------------------+--------------------+--------------------+-----------+------------------+---------+------------------+------------------+-----------------+------------------+------------------+--------------------+------------------+--------+--------------------------+----------------------+------------------+--------------------+--------------------+--------------+------------------+-----------------+------------------+\n",
      "|summary|          CallNumber|            UnitID|      IncidentNumber|            CallType|  CallDate| WatchDate|CallFinalDisposition|       AvailableDtTm|             Address|       City|           Zipcode|Battalion|       StationArea|               Box| OriginalPriority|          Priority|     FinalPriority|       CallTypeGroup|      NumberAlarms|UnitType|UnitSequenceInCallDispatch|FirePreventionDistrict|SupervisorDistrict|        Neighborhood|            Location|         RowID|             Delay|    CallDateMonth|   CallDateWeekDay|\n",
      "+-------+--------------------+------------------+--------------------+--------------------+----------+----------+--------------------+--------------------+--------------------+-----------+------------------+---------+------------------+------------------+-----------------+------------------+------------------+--------------------+------------------+--------+--------------------------+----------------------+------------------+--------------------+--------------------+--------------+------------------+-----------------+------------------+\n",
      "|  count|               74304|             74304|               74304|               74304|     74304|     74304|               74304|               74304|               74304|      74304|             74304|    74304|             74304|             74304|            74304|             74304|             74304|               74304|             74304|   74304|                     74304|                 74304|             74304|               74304|               74304|         74304|             74304|            74304|             74304|\n",
      "|   mean| 1.528670344406896E8| 73.01614395411231|1.5173767204820737E7|                NULL|      NULL|      NULL|                NULL|                NULL|                NULL|       NULL| 94113.41728574505|     NULL|18.211374892334195| 4024.609819121447|2.696283842041731|2.6873970635847915|  2.71052702411714|                NULL|1.0032568906115418|    NULL|        2.0614502583979326|     4.650061725882816| 5.951576000646012|                NULL|                NULL|          NULL|3.9820572702459596|6.475546403962102| 4.030361757105943|\n",
      "| stddev|1.9546803146616425E7|12.682353317196728|  1962688.7090098325|                NULL|      NULL|      NULL|                NULL|                NULL|                NULL|       NULL|10.421664336825785|     NULL|14.572891479129575|2351.4668871816148|0.483328317695442|0.4875346772598182|0.4535208266657459|                NULL|0.0832702253292817|    NULL|        1.9313390075716417|    2.9115048538773998|2.6922912785656368|                NULL|                NULL|          NULL| 9.930929805430264|3.414679315525893|2.0066626029404837|\n",
      "|    min|           120010012|                47|            12000007|  Aircraft Emergency|01/01/2012|01/01/2012|Against Medical A...|01/01/2012 01:02:...|0 Block of 0NB GG...|         BN|             94102|      B01|                01|              0123|                1|                 1|                 2|               Alarm|                 1|   CHIEF|                         1|                     1|                 1|Bayview Hunters P...|(37.7082655293119...|120010012-HT48|        0.06666667|                1|                 1|\n",
      "|    max|           183104004|               UU1|            18130302|Watercraft in Dis...|12/31/2017|12/31/2017|    Unable to Locate|12/31/2017 12:55:...|YOSEMITE AV/MENDE...|Yerba Buena|             94158|      B99|                51|              9944|                I|                 E|                 3|Potentially Life-...|                 5|   TRUCK|                        60|                  None|              None|    Western Addition|(37.8316662306259...| 183104004-B01|           1844.55|               12|                 7|\n",
      "+-------+--------------------+------------------+--------------------+--------------------+----------+----------+--------------------+--------------------+--------------------+-----------+------------------+---------+------------------+------------------+-----------------+------------------+------------------+--------------------+------------------+--------+--------------------------+----------------------+------------------+--------------------+--------------------+--------------+------------------+-----------------+------------------+\n",
      "\n"
     ]
    }
   ],
   "source": [
    "# Use describe()\n",
    "data_calls.describe().show()"
   ]
  },
  {
   "cell_type": "markdown",
   "metadata": {},
   "source": [
    "## Grouped aggregation"
   ]
  },
  {
   "cell_type": "markdown",
   "metadata": {},
   "source": [
    "### 3."
   ]
  },
  {
   "cell_type": "code",
   "execution_count": 187,
   "metadata": {},
   "outputs": [
    {
     "name": "stdout",
     "output_type": "stream",
     "text": [
      "+--------------------------------------------+------------------+------------------+--------------------+\n",
      "|CallType                                    |max(CallDateMonth)|avg(Delay)        |avg(CallDateWeekDay)|\n",
      "+--------------------------------------------+------------------+------------------+--------------------+\n",
      "|Elevator / Escalator Rescue                 |12                |4.435448395939084 |4.355329949238579   |\n",
      "|Marine Fire                                 |11                |7.9033333400000005|4.4                 |\n",
      "|Aircraft Emergency                          |11                |7.7               |1.0                 |\n",
      "|Confined Space / Structure Collapse         |12                |6.085416649999999 |4.0                 |\n",
      "|Alarms                                      |12                |3.8584001800838688|4.0523821098687405  |\n",
      "|Odor (Strange / Unknown)                    |12                |5.943005935714283 |4.151785714285714   |\n",
      "|Citizen Assist / Service Call               |12                |5.742093786913859 |3.911668484187568   |\n",
      "|HazMat                                      |12                |6.879844916279069 |4.6976744186046515  |\n",
      "|Watercraft in Distress                      |12                |7.885714400000002 |4.928571428571429   |\n",
      "|Explosion                                   |12                |4.646111146666666 |3.966666666666667   |\n",
      "|Vehicle Fire                                |12                |3.889761918392857 |4.2178571428571425  |\n",
      "|Suspicious Package                          |9                 |11.045833499999999|3.25                |\n",
      "|Extrication / Entrapped (Machinery, Vehicle)|11                |5.035000019999999 |4.0                 |\n",
      "|Other                                       |12                |6.528357611383497 |3.936893203883495   |\n",
      "|Outside Fire                                |12                |4.508881697572809 |3.9773462783171523  |\n",
      "|Traffic Collision                           |12                |4.007960809130437 |4.063380281690141   |\n",
      "|Assist Police                               |11                |10.645454609090908|4.181818181818182   |\n",
      "|Gas Leak (Natural and LP Gases)             |12                |4.363604546456693 |3.979002624671916   |\n",
      "|Water Rescue                                |12                |5.9738955807229   |4.125301204819277   |\n",
      "|Electrical Hazard                           |12                |4.313481479555555 |3.8266666666666667  |\n",
      "|High Angle Rescue                           |11                |7.1488095285714275|4.142857142857143   |\n",
      "|Structure Fire                              |12                |3.5555240030039217|4.0411460305439855  |\n",
      "|Industrial Accidents                        |10                |4.028205084615384 |3.0                 |\n",
      "|Medical Incident                            |12                |3.9335766504404934|4.025931605887391   |\n",
      "|Mutual Aid / Assist Outside Agency          |8                 |7.35              |5.0                 |\n",
      "|Fuel Spill                                  |12                |6.202619058571429 |4.4                 |\n",
      "|Smoke Investigation (Outside)               |12                |4.766348174267515 |3.751592356687898   |\n",
      "|Train / Rail Incident                       |11                |32.2991227368421  |2.526315789473684   |\n",
      "+--------------------------------------------+------------------+------------------+--------------------+\n",
      "\n"
     ]
    }
   ],
   "source": [
    "\n",
    "\n",
    "# use grouBy() on 'CallType' and agg() on 'CallDateMonth', 'CallDateWeekDay' and 'Delay'\n",
    "# show at most 50 rows with .show(50, truncate=False)\n",
    "\n",
    "\n",
    "\"\"\" windowSpec = Window.partitionBy('CallType').orderBy(F.desc('count'))\n",
    "\n",
    "data_calls.groupBy('CallType', 'CallDateMonth') \\\n",
    "    .count() \\\n",
    "    .withColumn('rank', F.rank().over(windowSpec)) \\\n",
    "    .filter(F.col('rank') == 1) \\\n",
    "    .select('CallType', 'CallDateMonth', 'count') \\\n",
    "    .show(50, truncate=False)   \"\"\"\n",
    "    \n",
    "    \n",
    "    \n",
    "data_calls.groupBy('CallType').agg({'Delay':'avg', 'CallDateMonth': 'max', 'CallDateWeekDay':'avg'}).show(50, truncate=False)\n",
    " \n",
    " \n"
   ]
  },
  {
   "cell_type": "markdown",
   "metadata": {},
   "source": [
    "**Expected result**\n",
    "```raw\n",
    "+--------------------------------------------+------------------+------------------+--------------------+\n",
    "|CallType                                    |avg(CallDateMonth)|avg(Delay)        |avg(CallDateWeekDay)|\n",
    "+--------------------------------------------+------------------+------------------+--------------------+\n",
    "|Elevator / Escalator Rescue                 |6.208121827411167 |4.435448395939084 |4.355329949238579   |\n",
    "|Marine Fire                                 |8.6               |7.9033333400000005|4.4                 |\n",
    "|Aircraft Emergency                          |11.0              |7.7               |1.0                 |\n",
    "|Confined Space / Structure Collapse         |7.875             |6.085416649999999 |4.0                 |\n",
    "|Alarms                                      |6.555663587749149 |3.8584001800838688|4.0523821098687405  |\n",
    "|Odor (Strange / Unknown)                    |6.303571428571429 |5.943005935714283 |4.151785714285714   |\n",
    "|Citizen Assist / Service Call               |6.599781897491821 |5.742093786913859 |3.911668484187568   |\n",
    "|HazMat                                      |6.023255813953488 |6.879844916279069 |4.6976744186046515  |\n",
    "|Watercraft in Distress                      |8.5               |7.885714400000002 |4.928571428571429   |\n",
    "|Explosion                                   |7.0               |4.646111146666666 |3.966666666666667   |\n",
    "|Vehicle Fire                                |6.264285714285714 |3.889761918392857 |4.2178571428571425  |\n",
    "|Suspicious Package                          |5.75              |11.045833499999999|3.25                |\n",
    "|Extrication / Entrapped (Machinery, Vehicle)|6.7               |5.035000019999999 |4.0                 |\n",
    "|Other                                       |6.496359223300971 |6.528357611383497 |3.936893203883495   |\n",
    "|Outside Fire                                |6.282632146709816 |4.508881697572809 |3.9773462783171523  |\n",
    "|Traffic Collision                           |6.532761788120024 |4.007960809130437 |4.063380281690141   |\n",
    "|Assist Police                               |4.363636363636363 |10.645454609090908|4.181818181818182   |\n",
    "|Gas Leak (Natural and LP Gases)             |6.343832020997375 |4.363604546456693 |3.979002624671916   |\n",
    "|Water Rescue                                |6.106024096385542 |5.9738955807229   |4.125301204819277   |\n",
    "|Electrical Hazard                           |6.377777777777778 |4.313481479555555 |3.8266666666666667  |\n",
    "|High Angle Rescue                           |6.714285714285714 |7.1488095285714275|4.142857142857143   |\n",
    "|Structure Fire                              |6.566578316294333 |3.5555240030039217|4.0411460305439855  |\n",
    "|Industrial Accidents                        |6.076923076923077 |4.028205084615384 |3.0                 |\n",
    "|Medical Incident                            |6.451672010994045 |3.9335766504404934|4.025931605887391   |\n",
    "|Mutual Aid / Assist Outside Agency          |8.0               |7.35              |5.0                 |\n",
    "|Fuel Spill                                  |6.585714285714285 |6.202619058571429 |4.4                 |\n",
    "|Smoke Investigation (Outside)               |6.694267515923567 |4.766348174267515 |3.751592356687898   |\n",
    "|Train / Rail Incident                       |4.7368421052631575|32.2991227368421  |2.526315789473684   |\n",
    "+--------------------------------------------+------------------+------------------+--------------------+\n",
    "```"
   ]
  },
  {
   "cell_type": "markdown",
   "metadata": {},
   "source": [
    "### 4."
   ]
  },
  {
   "cell_type": "code",
   "execution_count": 191,
   "metadata": {},
   "outputs": [
    {
     "name": "stdout",
     "output_type": "stream",
     "text": [
      "+--------------------------------------------+------------------+------------------+--------------------+\n",
      "|CallType                                    |max(CallDateMonth)|avg(Delay)        |avg(CallDateWeekDay)|\n",
      "+--------------------------------------------+------------------+------------------+--------------------+\n",
      "|Train / Rail Incident                       |11                |32.2991227368421  |2.526315789473684   |\n",
      "|Suspicious Package                          |9                 |11.045833499999999|3.25                |\n",
      "|Assist Police                               |11                |10.645454609090908|4.181818181818182   |\n",
      "|Marine Fire                                 |11                |7.9033333400000005|4.4                 |\n",
      "|Watercraft in Distress                      |12                |7.885714400000002 |4.928571428571429   |\n",
      "|Aircraft Emergency                          |11                |7.7               |1.0                 |\n",
      "|Mutual Aid / Assist Outside Agency          |8                 |7.35              |5.0                 |\n",
      "|High Angle Rescue                           |11                |7.1488095285714275|4.142857142857143   |\n",
      "|HazMat                                      |12                |6.879844916279069 |4.6976744186046515  |\n",
      "|Other                                       |12                |6.528357611383497 |3.936893203883495   |\n",
      "|Fuel Spill                                  |12                |6.202619058571429 |4.4                 |\n",
      "|Confined Space / Structure Collapse         |12                |6.085416649999999 |4.0                 |\n",
      "|Water Rescue                                |12                |5.9738955807229   |4.125301204819277   |\n",
      "|Odor (Strange / Unknown)                    |12                |5.943005935714283 |4.151785714285714   |\n",
      "|Citizen Assist / Service Call               |12                |5.742093786913859 |3.911668484187568   |\n",
      "|Extrication / Entrapped (Machinery, Vehicle)|11                |5.035000019999999 |4.0                 |\n",
      "|Smoke Investigation (Outside)               |12                |4.766348174267515 |3.751592356687898   |\n",
      "|Explosion                                   |12                |4.646111146666666 |3.966666666666667   |\n",
      "|Outside Fire                                |12                |4.508881697572809 |3.9773462783171523  |\n",
      "|Elevator / Escalator Rescue                 |12                |4.435448395939084 |4.355329949238579   |\n",
      "|Gas Leak (Natural and LP Gases)             |12                |4.363604546456693 |3.979002624671916   |\n",
      "|Electrical Hazard                           |12                |4.313481479555555 |3.8266666666666667  |\n",
      "|Industrial Accidents                        |10                |4.028205084615384 |3.0                 |\n",
      "|Traffic Collision                           |12                |4.007960809130437 |4.063380281690141   |\n",
      "|Medical Incident                            |12                |3.9335766504404934|4.025931605887391   |\n",
      "|Vehicle Fire                                |12                |3.889761918392857 |4.2178571428571425  |\n",
      "|Alarms                                      |12                |3.8584001800838688|4.0523821098687405  |\n",
      "|Structure Fire                              |12                |3.5555240030039217|4.0411460305439855  |\n",
      "+--------------------------------------------+------------------+------------------+--------------------+\n",
      "\n"
     ]
    }
   ],
   "source": [
    "# Use orderBy() on column 'avg(Delay)' and with option ascending=False\n",
    "( data_calls.groupBy('CallType').agg({'Delay':'avg', 'CallDateMonth': 'max', 'CallDateWeekDay':'avg'}).orderBy('avg(Delay)',ascending=False).show(50, truncate=False)\n",
    "    \n",
    "    \n",
    "    \n",
    ")"
   ]
  },
  {
   "cell_type": "markdown",
   "metadata": {},
   "source": [
    "**Expected result**\n",
    "```raw\n",
    "+--------------------------------------------+------------------+------------------+--------------------+\n",
    "|CallType                                    |avg(CallDateMonth)|avg(Delay)        |avg(CallDateWeekDay)|\n",
    "+--------------------------------------------+------------------+------------------+--------------------+\n",
    "|Train / Rail Incident                       |4.7368421052631575|32.2991227368421  |2.526315789473684   |\n",
    "|Suspicious Package                          |5.75              |11.045833499999999|3.25                |\n",
    "|Assist Police                               |4.363636363636363 |10.645454609090908|4.181818181818182   |\n",
    "|Marine Fire                                 |8.6               |7.9033333400000005|4.4                 |\n",
    "|Watercraft in Distress                      |8.5               |7.885714400000002 |4.928571428571429   |\n",
    "|Aircraft Emergency                          |11.0              |7.7               |1.0                 |\n",
    "|Mutual Aid / Assist Outside Agency          |8.0               |7.35              |5.0                 |\n",
    "|High Angle Rescue                           |6.714285714285714 |7.1488095285714275|4.142857142857143   |\n",
    "|HazMat                                      |6.023255813953488 |6.879844916279069 |4.6976744186046515  |\n",
    "|Other                                       |6.496359223300971 |6.528357611383497 |3.936893203883495   |\n",
    "|Fuel Spill                                  |6.585714285714285 |6.202619058571429 |4.4                 |\n",
    "|Confined Space / Structure Collapse         |7.875             |6.085416649999999 |4.0                 |\n",
    "|Water Rescue                                |6.106024096385542 |5.9738955807229   |4.125301204819277   |\n",
    "|Odor (Strange / Unknown)                    |6.303571428571429 |5.943005935714283 |4.151785714285714   |\n",
    "|Citizen Assist / Service Call               |6.599781897491821 |5.742093786913859 |3.911668484187568   |\n",
    "|Extrication / Entrapped (Machinery, Vehicle)|6.7               |5.035000019999999 |4.0                 |\n",
    "|Smoke Investigation (Outside)               |6.694267515923567 |4.766348174267515 |3.751592356687898   |\n",
    "|Explosion                                   |7.0               |4.646111146666666 |3.966666666666667   |\n",
    "|Outside Fire                                |6.282632146709816 |4.508881697572809 |3.9773462783171523  |\n",
    "|Elevator / Escalator Rescue                 |6.208121827411167 |4.435448395939084 |4.355329949238579   |\n",
    "|Gas Leak (Natural and LP Gases)             |6.343832020997375 |4.363604546456693 |3.979002624671916   |\n",
    "|Electrical Hazard                           |6.377777777777778 |4.313481479555555 |3.8266666666666667  |\n",
    "|Industrial Accidents                        |6.076923076923077 |4.028205084615384 |3.0                 |\n",
    "|Traffic Collision                           |6.532761788120024 |4.007960809130437 |4.063380281690141   |\n",
    "|Medical Incident                            |6.451672010994045 |3.9335766504404934|4.025931605887391   |\n",
    "|Vehicle Fire                                |6.264285714285714 |3.889761918392857 |4.2178571428571425  |\n",
    "|Alarms                                      |6.555663587749149 |3.8584001800838688|4.0523821098687405  |\n",
    "|Structure Fire                              |6.566578316294333 |3.5555240030039217|4.0411460305439855  |\n",
    "+--------------------------------------------+------------------+------------------+--------------------+\n",
    "```"
   ]
  },
  {
   "cell_type": "markdown",
   "metadata": {},
   "source": [
    "### 5."
   ]
  },
  {
   "cell_type": "code",
   "execution_count": 189,
   "metadata": {},
   "outputs": [
    {
     "ename": "SyntaxError",
     "evalue": "invalid syntax (2266687779.py, line 10)",
     "output_type": "error",
     "traceback": [
      "\u001b[0;36m  Cell \u001b[0;32mIn[189], line 10\u001b[0;36m\u001b[0m\n\u001b[0;31m    )\u001b[0m\n\u001b[0m    ^\u001b[0m\n\u001b[0;31mSyntaxError\u001b[0m\u001b[0;31m:\u001b[0m invalid syntax\n"
     ]
    }
   ],
   "source": [
    "# groupby on 'CallType' and 'Neighborhood'\n",
    "# aggregate on count(CallNumber) with alias CountCalls, avg(Delay) with alias AvgDelay,\n",
    "# min(Delay) with alias MinDelay, and max(Delay) with alias MaxDelay\n",
    "# in descending order by CallType and then Neighborhood.\n",
    "\n",
    "( data_calls.\n",
    " \n",
    "\n",
    " \n",
    ")\n"
   ]
  },
  {
   "cell_type": "markdown",
   "metadata": {},
   "source": [
    "**Expected result**\n",
    "```raw\n",
    "+--------------------------------------------+------------------+------------------+--------------------+\n",
    "|CallType                                    |avg(CallDateMonth)|avg(Delay)        |avg(CallDateWeekDay)|\n",
    "+--------------------------------------------+------------------+------------------+--------------------+\n",
    "|Train / Rail Incident                       |4.7368421052631575|32.2991227368421  |2.526315789473684   |\n",
    "|Suspicious Package                          |5.75              |11.045833499999999|3.25                |\n",
    "|Assist Police                               |4.363636363636363 |10.645454609090908|4.181818181818182   |\n",
    "|Marine Fire                                 |8.6               |7.9033333400000005|4.4                 |\n",
    "|Watercraft in Distress                      |8.5               |7.885714400000002 |4.928571428571429   |\n",
    "|Aircraft Emergency                          |11.0              |7.7               |1.0                 |\n",
    "|Mutual Aid / Assist Outside Agency          |8.0               |7.35              |5.0                 |\n",
    "|High Angle Rescue                           |6.714285714285714 |7.1488095285714275|4.142857142857143   |\n",
    "|HazMat                                      |6.023255813953488 |6.879844916279069 |4.6976744186046515  |\n",
    "|Other                                       |6.496359223300971 |6.528357611383497 |3.936893203883495   |\n",
    "|Fuel Spill                                  |6.585714285714285 |6.202619058571429 |4.4                 |\n",
    "|Confined Space / Structure Collapse         |7.875             |6.085416649999999 |4.0                 |\n",
    "|Water Rescue                                |6.106024096385542 |5.9738955807229   |4.125301204819277   |\n",
    "|Odor (Strange / Unknown)                    |6.303571428571429 |5.943005935714283 |4.151785714285714   |\n",
    "|Citizen Assist / Service Call               |6.599781897491821 |5.742093786913859 |3.911668484187568   |\n",
    "|Extrication / Entrapped (Machinery, Vehicle)|6.7               |5.035000019999999 |4.0                 |\n",
    "|Smoke Investigation (Outside)               |6.694267515923567 |4.766348174267515 |3.751592356687898   |\n",
    "|Explosion                                   |7.0               |4.646111146666666 |3.966666666666667   |\n",
    "|Outside Fire                                |6.282632146709816 |4.508881697572809 |3.9773462783171523  |\n",
    "|Elevator / Escalator Rescue                 |6.208121827411167 |4.435448395939084 |4.355329949238579   |\n",
    "|Gas Leak (Natural and LP Gases)             |6.343832020997375 |4.363604546456693 |3.979002624671916   |\n",
    "|Electrical Hazard                           |6.377777777777778 |4.313481479555555 |3.8266666666666667  |\n",
    "|Industrial Accidents                        |6.076923076923077 |4.028205084615384 |3.0                 |\n",
    "|Traffic Collision                           |6.532761788120024 |4.007960809130437 |4.063380281690141   |\n",
    "|Medical Incident                            |6.451672010994045 |3.9335766504404934|4.025931605887391   |\n",
    "|Vehicle Fire                                |6.264285714285714 |3.889761918392857 |4.2178571428571425  |\n",
    "|Alarms                                      |6.555663587749149 |3.8584001800838688|4.0523821098687405  |\n",
    "|Structure Fire                              |6.566578316294333 |3.5555240030039217|4.0411460305439855  |\n",
    "+--------------------------------------------+------------------+------------------+--------------------+\n",
    "only showing top 20 rows\n",
    "````"
   ]
  },
  {
   "cell_type": "markdown",
   "metadata": {},
   "source": [
    "## Graphics \n",
    "\n",
    "Showing outcome of data aggregation with plots so we can better understand"
   ]
  },
  {
   "cell_type": "markdown",
   "metadata": {},
   "source": [
    "### 6."
   ]
  },
  {
   "cell_type": "code",
   "execution_count": null,
   "metadata": {},
   "outputs": [],
   "source": [
    "# !pip install plotly \n",
    "# https://plotly.com/python/\n",
    "import plotly\n",
    "import pandas as pd\n",
    "import plotly.express as px\n",
    "plotly.__version__"
   ]
  },
  {
   "cell_type": "code",
   "execution_count": null,
   "metadata": {},
   "outputs": [],
   "source": [
    "# Get data aggregation\n",
    "data_plot = ( data_calls\n",
    "    .groupBy('CallType')\n",
    "    .count()\n",
    "    .orderBy('count', ascending=False)\n",
    ")\n",
    "\n",
    "# data_plot.show(truncate=False)"
   ]
  },
  {
   "cell_type": "code",
   "execution_count": null,
   "metadata": {},
   "outputs": [],
   "source": [
    "# draw the bar plot\n",
    "fig = px.bar(data_plot.toPandas(),x='CallType',y='count')\n",
    "fig.show()"
   ]
  },
  {
   "cell_type": "code",
   "execution_count": null,
   "metadata": {},
   "outputs": [],
   "source": []
  }
 ],
 "metadata": {
  "kernelspec": {
   "display_name": "vscode_pyspark",
   "language": "python",
   "name": "vscode_pyspark"
  },
  "language_info": {
   "codemirror_mode": {
    "name": "ipython",
    "version": 3
   },
   "file_extension": ".py",
   "mimetype": "text/x-python",
   "name": "python",
   "nbconvert_exporter": "python",
   "pygments_lexer": "ipython3",
   "version": "3.11.11"
  }
 },
 "nbformat": 4,
 "nbformat_minor": 2
}
