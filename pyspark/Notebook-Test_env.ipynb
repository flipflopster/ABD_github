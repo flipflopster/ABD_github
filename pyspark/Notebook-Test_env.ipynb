{
 "cells": [
  {
   "cell_type": "markdown",
   "id": "449b42bd-8a75-42f7-b35b-f9119b70e2a1",
   "metadata": {},
   "source": [
    "# Initial settings\n",
    "Needed imports and create a Spark session"
   ]
  },
  {
   "cell_type": "code",
   "execution_count": 3,
   "id": "a5d95588-be2e-458a-842e-949ccdda22e1",
   "metadata": {
    "tags": []
   },
   "outputs": [],
   "source": [
    "import pyspark\n",
    "from pyspark.sql import SparkSession, Row\n",
    "import pyspark.sql.functions as F"
   ]
  },
  {
   "cell_type": "code",
   "execution_count": 4,
   "id": "5df93745",
   "metadata": {},
   "outputs": [],
   "source": [
    "from ydata_profiling import ProfileReport"
   ]
  },
  {
   "cell_type": "code",
   "execution_count": 5,
   "id": "3c6a110c-b99c-475c-ab98-09c87e93ad0f",
   "metadata": {
    "tags": []
   },
   "outputs": [],
   "source": [
    "# build our SparkSession\n",
    "\n",
    "spark = SparkSession\\\n",
    "        .builder\\\n",
    "        .appName(\"BigData\")\\\n",
    "        .config(\"spark.sql.shuffle.partitions\",6)\\\n",
    "        .config(\"spark.sql.repl.eagereval.enabled\",True)\\\n",
    "        .getOrCreate()"
   ]
  },
  {
   "cell_type": "code",
   "execution_count": null,
   "id": "4256f8b8",
   "metadata": {},
   "outputs": [],
   "source": []
  },
  {
   "cell_type": "markdown",
   "id": "d172fa63-a45a-49a7-8758-dca24779f643",
   "metadata": {},
   "source": [
    "# Create two rows"
   ]
  },
  {
   "cell_type": "code",
   "execution_count": 6,
   "id": "82e0074a-ca46-4cff-a3e2-533fb1f72811",
   "metadata": {
    "tags": []
   },
   "outputs": [
    {
     "name": "stdout",
     "output_type": "stream",
     "text": [
      "<Row('555555', '85123B', '1st row', 2016, 6, 2.1, 141131, 'Lisbon')>\n",
      "<Row('555555', '85123B', '2nd row', 2016, 6, 2.1, 141131, 'Lisbon')>\n"
     ]
    }
   ],
   "source": [
    "a_row = Row('555555', '85123B', '1st row', 2016, 6, 2.1, 141131, 'Lisbon')\n",
    "print(a_row)\n",
    "b_row = Row('555555', '85123B', '2nd row', 2016, 6, 2.1, 141131, 'Lisbon')\n",
    "print(b_row)"
   ]
  },
  {
   "cell_type": "markdown",
   "id": "9a95301a-7709-48d0-9d03-faf230414b0d",
   "metadata": {},
   "source": [
    "# From the Rows create a Dataframe"
   ]
  },
  {
   "cell_type": "code",
   "execution_count": 12,
   "id": "4da03307-4957-4909-9ec8-76d9889052f3",
   "metadata": {
    "tags": []
   },
   "outputs": [
    {
     "name": "stdout",
     "output_type": "stream",
     "text": [
      "+------+------+-------+----+---+---+------+------+\n",
      "|    _1|    _2|     _3|  _4| _5| _6|    _7|    _8|\n",
      "+------+------+-------+----+---+---+------+------+\n",
      "|555555|85123B|1st row|2016|  6|2.1|141131|Lisbon|\n",
      "|555555|85123B|2nd row|2016|  6|2.1|141131|Lisbon|\n",
      "+------+------+-------+----+---+---+------+------+\n",
      "\n"
     ]
    }
   ],
   "source": [
    "new_df = spark.createDataFrame([a_row, b_row])\n",
    "\n",
    "# checking\n",
    "new_df.take(1)\n",
    "new_df.show()"
   ]
  },
  {
   "cell_type": "markdown",
   "id": "29c12dbf-0bc8-4837-bb41-eb715044a57c",
   "metadata": {},
   "source": [
    "# Save the Dataframe in a parquet file"
   ]
  },
  {
   "cell_type": "code",
   "execution_count": 8,
   "id": "c11437ca-5dc5-493c-8f6b-fe50fb460461",
   "metadata": {
    "tags": []
   },
   "outputs": [],
   "source": [
    "new_df.write.mode(\"overwrite\").parquet(\"teste\")"
   ]
  },
  {
   "cell_type": "code",
   "execution_count": 9,
   "id": "642637e3-854d-4a36-a833-de77a3874954",
   "metadata": {
    "tags": []
   },
   "outputs": [],
   "source": [
    "df = spark.read.parquet(\"teste\")"
   ]
  },
  {
   "cell_type": "code",
   "execution_count": 10,
   "id": "08c203eb-ea71-4986-af42-8e3ad4725e9b",
   "metadata": {
    "tags": []
   },
   "outputs": [
    {
     "name": "stdout",
     "output_type": "stream",
     "text": [
      "+------+------+-------+----+---+---+------+------+\n",
      "|    _1|    _2|     _3|  _4| _5| _6|    _7|    _8|\n",
      "+------+------+-------+----+---+---+------+------+\n",
      "|555555|85123B|1st row|2016|  6|2.1|141131|Lisbon|\n",
      "|555555|85123B|2nd row|2016|  6|2.1|141131|Lisbon|\n",
      "+------+------+-------+----+---+---+------+------+\n",
      "\n"
     ]
    }
   ],
   "source": [
    "df.show()"
   ]
  },
  {
   "cell_type": "code",
   "execution_count": null,
   "id": "05e2c373-62d8-40fc-a40b-368a535a39b6",
   "metadata": {},
   "outputs": [],
   "source": []
  }
 ],
 "metadata": {
  "kernelspec": {
   "display_name": "vscode_pyspark",
   "language": "python",
   "name": "vscode_pyspark"
  },
  "language_info": {
   "codemirror_mode": {
    "name": "ipython",
    "version": 3
   },
   "file_extension": ".py",
   "mimetype": "text/x-python",
   "name": "python",
   "nbconvert_exporter": "python",
   "pygments_lexer": "ipython3",
   "version": "3.11.11"
  }
 },
 "nbformat": 4,
 "nbformat_minor": 5
}
